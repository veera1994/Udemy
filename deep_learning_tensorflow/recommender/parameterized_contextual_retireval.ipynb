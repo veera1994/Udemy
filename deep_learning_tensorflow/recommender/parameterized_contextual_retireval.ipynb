{
 "cells": [
  {
   "attachments": {},
   "cell_type": "markdown",
   "metadata": {},
   "source": [
    "# Imports"
   ]
  },
  {
   "cell_type": "code",
   "execution_count": 1,
   "metadata": {},
   "outputs": [],
   "source": [
    "import os\n",
    "import pprint\n",
    "import tempfile\n",
    "\n",
    "from typing import Dict, Text\n",
    "\n",
    "import numpy as np\n",
    "import tensorflow as tf\n",
    "import tensorflow_datasets as tfds\n",
    "import tensorflow_recommenders as tfrs\n",
    "import pandas as pd\n",
    "import warnings\n",
    "warnings.filterwarnings('ignore')"
   ]
  },
  {
   "cell_type": "code",
   "execution_count": 2,
   "metadata": {},
   "outputs": [],
   "source": [
    "os.environ[\"TF_CPP_MIN_LOG_LEVEL\"] = \"2\"\n",
    "tf.get_logger().setLevel(\"ERROR\")   "
   ]
  },
  {
   "attachments": {},
   "cell_type": "markdown",
   "metadata": {},
   "source": [
    "# Ratings dataframe"
   ]
  },
  {
   "cell_type": "code",
   "execution_count": 3,
   "metadata": {},
   "outputs": [],
   "source": [
    "ratings_df = pd.read_csv(r'D:\\repos\\udemy\\.dataset\\movie_lens_data.csv')"
   ]
  },
  {
   "cell_type": "code",
   "execution_count": 4,
   "metadata": {},
   "outputs": [
    {
     "data": {
      "text/html": [
       "<div>\n",
       "<style scoped>\n",
       "    .dataframe tbody tr th:only-of-type {\n",
       "        vertical-align: middle;\n",
       "    }\n",
       "\n",
       "    .dataframe tbody tr th {\n",
       "        vertical-align: top;\n",
       "    }\n",
       "\n",
       "    .dataframe thead th {\n",
       "        text-align: right;\n",
       "    }\n",
       "</style>\n",
       "<table border=\"1\" class=\"dataframe\">\n",
       "  <thead>\n",
       "    <tr style=\"text-align: right;\">\n",
       "      <th></th>\n",
       "      <th>bucketized_user_age</th>\n",
       "      <th>movie_genres</th>\n",
       "      <th>movie_id</th>\n",
       "      <th>movie_title</th>\n",
       "      <th>raw_user_age</th>\n",
       "      <th>timestamp</th>\n",
       "      <th>user_gender</th>\n",
       "      <th>user_id</th>\n",
       "      <th>user_occupation_label</th>\n",
       "      <th>user_occupation_text</th>\n",
       "      <th>user_rating</th>\n",
       "      <th>user_zip_code</th>\n",
       "    </tr>\n",
       "  </thead>\n",
       "  <tbody>\n",
       "    <tr>\n",
       "      <th>0</th>\n",
       "      <td>45.0</td>\n",
       "      <td>7</td>\n",
       "      <td>357</td>\n",
       "      <td>One Flew Over the Cuckoo's Nest (1975)</td>\n",
       "      <td>46.0</td>\n",
       "      <td>879024327</td>\n",
       "      <td>m</td>\n",
       "      <td>138</td>\n",
       "      <td>4</td>\n",
       "      <td>doctor</td>\n",
       "      <td>4.0</td>\n",
       "      <td>53211</td>\n",
       "    </tr>\n",
       "    <tr>\n",
       "      <th>1</th>\n",
       "      <td>25.0</td>\n",
       "      <td>4</td>\n",
       "      <td>709</td>\n",
       "      <td>Strictly Ballroom (1992)</td>\n",
       "      <td>32.0</td>\n",
       "      <td>875654590</td>\n",
       "      <td>m</td>\n",
       "      <td>92</td>\n",
       "      <td>5</td>\n",
       "      <td>entertainment</td>\n",
       "      <td>2.0</td>\n",
       "      <td>80525</td>\n",
       "    </tr>\n",
       "    <tr>\n",
       "      <th>2</th>\n",
       "      <td>18.0</td>\n",
       "      <td>4</td>\n",
       "      <td>412</td>\n",
       "      <td>Very Brady Sequel, A (1996)</td>\n",
       "      <td>24.0</td>\n",
       "      <td>882075110</td>\n",
       "      <td>m</td>\n",
       "      <td>301</td>\n",
       "      <td>17</td>\n",
       "      <td>student</td>\n",
       "      <td>4.0</td>\n",
       "      <td>55439</td>\n",
       "    </tr>\n",
       "    <tr>\n",
       "      <th>3</th>\n",
       "      <td>50.0</td>\n",
       "      <td>5</td>\n",
       "      <td>56</td>\n",
       "      <td>Pulp Fiction (1994)</td>\n",
       "      <td>50.0</td>\n",
       "      <td>883326919</td>\n",
       "      <td>m</td>\n",
       "      <td>60</td>\n",
       "      <td>4</td>\n",
       "      <td>healthcare</td>\n",
       "      <td>4.0</td>\n",
       "      <td>06472</td>\n",
       "    </tr>\n",
       "    <tr>\n",
       "      <th>4</th>\n",
       "      <td>50.0</td>\n",
       "      <td>10</td>\n",
       "      <td>895</td>\n",
       "      <td>Scream 2 (1997)</td>\n",
       "      <td>55.0</td>\n",
       "      <td>891409199</td>\n",
       "      <td>m</td>\n",
       "      <td>197</td>\n",
       "      <td>18</td>\n",
       "      <td>technician</td>\n",
       "      <td>3.0</td>\n",
       "      <td>75094</td>\n",
       "    </tr>\n",
       "  </tbody>\n",
       "</table>\n",
       "</div>"
      ],
      "text/plain": [
       "   bucketized_user_age  movie_genres  movie_id  \\\n",
       "0                 45.0             7       357   \n",
       "1                 25.0             4       709   \n",
       "2                 18.0             4       412   \n",
       "3                 50.0             5        56   \n",
       "4                 50.0            10       895   \n",
       "\n",
       "                              movie_title  raw_user_age  timestamp  \\\n",
       "0  One Flew Over the Cuckoo's Nest (1975)          46.0  879024327   \n",
       "1                Strictly Ballroom (1992)          32.0  875654590   \n",
       "2             Very Brady Sequel, A (1996)          24.0  882075110   \n",
       "3                     Pulp Fiction (1994)          50.0  883326919   \n",
       "4                         Scream 2 (1997)          55.0  891409199   \n",
       "\n",
       "  user_gender  user_id  user_occupation_label user_occupation_text  \\\n",
       "0           m      138                      4               doctor   \n",
       "1           m       92                      5        entertainment   \n",
       "2           m      301                     17              student   \n",
       "3           m       60                      4           healthcare   \n",
       "4           m      197                     18           technician   \n",
       "\n",
       "   user_rating user_zip_code  \n",
       "0          4.0         53211  \n",
       "1          2.0         80525  \n",
       "2          4.0         55439  \n",
       "3          4.0         06472  \n",
       "4          3.0         75094  "
      ]
     },
     "execution_count": 4,
     "metadata": {},
     "output_type": "execute_result"
    }
   ],
   "source": [
    "ratings_df.head()"
   ]
  },
  {
   "cell_type": "code",
   "execution_count": 5,
   "metadata": {},
   "outputs": [],
   "source": [
    "ratings_df = ratings_df[['user_id', 'user_occupation_text', 'movie_id', 'movie_genres', 'user_gender', 'bucketized_user_age']]"
   ]
  },
  {
   "cell_type": "code",
   "execution_count": 6,
   "metadata": {},
   "outputs": [
    {
     "data": {
      "text/plain": [
       "(100000, 6)"
      ]
     },
     "execution_count": 6,
     "metadata": {},
     "output_type": "execute_result"
    }
   ],
   "source": [
    "ratings_df.shape"
   ]
  },
  {
   "cell_type": "code",
   "execution_count": 7,
   "metadata": {},
   "outputs": [
    {
     "data": {
      "text/html": [
       "<div>\n",
       "<style scoped>\n",
       "    .dataframe tbody tr th:only-of-type {\n",
       "        vertical-align: middle;\n",
       "    }\n",
       "\n",
       "    .dataframe tbody tr th {\n",
       "        vertical-align: top;\n",
       "    }\n",
       "\n",
       "    .dataframe thead th {\n",
       "        text-align: right;\n",
       "    }\n",
       "</style>\n",
       "<table border=\"1\" class=\"dataframe\">\n",
       "  <thead>\n",
       "    <tr style=\"text-align: right;\">\n",
       "      <th></th>\n",
       "      <th>user_id</th>\n",
       "      <th>user_occupation_text</th>\n",
       "      <th>movie_id</th>\n",
       "      <th>movie_genres</th>\n",
       "      <th>user_gender</th>\n",
       "      <th>bucketized_user_age</th>\n",
       "    </tr>\n",
       "  </thead>\n",
       "  <tbody>\n",
       "    <tr>\n",
       "      <th>0</th>\n",
       "      <td>138</td>\n",
       "      <td>doctor</td>\n",
       "      <td>357</td>\n",
       "      <td>7</td>\n",
       "      <td>m</td>\n",
       "      <td>45.0</td>\n",
       "    </tr>\n",
       "    <tr>\n",
       "      <th>1</th>\n",
       "      <td>92</td>\n",
       "      <td>entertainment</td>\n",
       "      <td>709</td>\n",
       "      <td>4</td>\n",
       "      <td>m</td>\n",
       "      <td>25.0</td>\n",
       "    </tr>\n",
       "    <tr>\n",
       "      <th>2</th>\n",
       "      <td>301</td>\n",
       "      <td>student</td>\n",
       "      <td>412</td>\n",
       "      <td>4</td>\n",
       "      <td>m</td>\n",
       "      <td>18.0</td>\n",
       "    </tr>\n",
       "    <tr>\n",
       "      <th>3</th>\n",
       "      <td>60</td>\n",
       "      <td>healthcare</td>\n",
       "      <td>56</td>\n",
       "      <td>5</td>\n",
       "      <td>m</td>\n",
       "      <td>50.0</td>\n",
       "    </tr>\n",
       "    <tr>\n",
       "      <th>4</th>\n",
       "      <td>197</td>\n",
       "      <td>technician</td>\n",
       "      <td>895</td>\n",
       "      <td>10</td>\n",
       "      <td>m</td>\n",
       "      <td>50.0</td>\n",
       "    </tr>\n",
       "  </tbody>\n",
       "</table>\n",
       "</div>"
      ],
      "text/plain": [
       "   user_id user_occupation_text  movie_id  movie_genres user_gender  \\\n",
       "0      138               doctor       357             7           m   \n",
       "1       92        entertainment       709             4           m   \n",
       "2      301              student       412             4           m   \n",
       "3       60           healthcare        56             5           m   \n",
       "4      197           technician       895            10           m   \n",
       "\n",
       "   bucketized_user_age  \n",
       "0                 45.0  \n",
       "1                 25.0  \n",
       "2                 18.0  \n",
       "3                 50.0  \n",
       "4                 50.0  "
      ]
     },
     "execution_count": 7,
     "metadata": {},
     "output_type": "execute_result"
    }
   ],
   "source": [
    "ratings_df.head()"
   ]
  },
  {
   "cell_type": "code",
   "execution_count": 8,
   "metadata": {},
   "outputs": [
    {
     "data": {
      "text/plain": [
       "user_id                   int64\n",
       "user_occupation_text     object\n",
       "movie_id                  int64\n",
       "movie_genres              int64\n",
       "user_gender              object\n",
       "bucketized_user_age     float64\n",
       "dtype: object"
      ]
     },
     "execution_count": 8,
     "metadata": {},
     "output_type": "execute_result"
    }
   ],
   "source": [
    "ratings_df.dtypes"
   ]
  },
  {
   "cell_type": "code",
   "execution_count": 9,
   "metadata": {},
   "outputs": [
    {
     "data": {
      "text/plain": [
       "100000"
      ]
     },
     "execution_count": 9,
     "metadata": {},
     "output_type": "execute_result"
    }
   ],
   "source": [
    "# Are there any duplicates\n",
    "len(ratings_df[['movie_id', 'user_id']].drop_duplicates())"
   ]
  },
  {
   "cell_type": "code",
   "execution_count": 10,
   "metadata": {},
   "outputs": [
    {
     "data": {
      "text/plain": [
       "943"
      ]
     },
     "execution_count": 10,
     "metadata": {},
     "output_type": "execute_result"
    }
   ],
   "source": [
    "ratings_df.user_id.nunique()"
   ]
  },
  {
   "cell_type": "code",
   "execution_count": 11,
   "metadata": {},
   "outputs": [
    {
     "data": {
      "text/plain": [
       "1682"
      ]
     },
     "execution_count": 11,
     "metadata": {},
     "output_type": "execute_result"
    }
   ],
   "source": [
    "ratings_df.movie_id.nunique()"
   ]
  },
  {
   "cell_type": "code",
   "execution_count": 12,
   "metadata": {},
   "outputs": [
    {
     "data": {
      "text/plain": [
       "array(['doctor', 'entertainment', 'student', 'healthcare', 'technician',\n",
       "       'artist', 'writer', 'engineer', 'administrator', 'librarian',\n",
       "       'other', 'marketing', 'scientist', 'programmer', 'educator',\n",
       "       'executive', 'retired', 'homemaker', 'salesman', 'lawyer', 'none'],\n",
       "      dtype=object)"
      ]
     },
     "execution_count": 12,
     "metadata": {},
     "output_type": "execute_result"
    }
   ],
   "source": [
    "ratings_df.user_occupation_text.unique()"
   ]
  },
  {
   "cell_type": "code",
   "execution_count": 13,
   "metadata": {},
   "outputs": [],
   "source": [
    "ratings_df.user_id = ratings_df.user_id.astype('str')\n",
    "ratings_df.movie_id = ratings_df.movie_id.astype('str')\n",
    "ratings_df.movie_genres = ratings_df.movie_genres.astype('str')\n",
    "ratings_df.bucketized_user_age = ratings_df.bucketized_user_age.astype('int').astype('str')"
   ]
  },
  {
   "cell_type": "code",
   "execution_count": 14,
   "metadata": {},
   "outputs": [
    {
     "data": {
      "text/plain": [
       "user_id                 object\n",
       "user_occupation_text    object\n",
       "movie_id                object\n",
       "movie_genres            object\n",
       "user_gender             object\n",
       "bucketized_user_age     object\n",
       "dtype: object"
      ]
     },
     "execution_count": 14,
     "metadata": {},
     "output_type": "execute_result"
    }
   ],
   "source": [
    "ratings_df.dtypes"
   ]
  },
  {
   "attachments": {},
   "cell_type": "markdown",
   "metadata": {},
   "source": [
    "# Unique values"
   ]
  },
  {
   "cell_type": "code",
   "execution_count": 15,
   "metadata": {},
   "outputs": [],
   "source": [
    "unique_user_ids = ratings_df.user_id.unique()\n",
    "unique_movies_ids = ratings_df.movie_id.unique()\n",
    "unique_movie_genres = ratings_df.movie_genres.unique()\n",
    "unique_user_occupation = ratings_df.user_occupation_text.unique()\n",
    "unique_user_gender = ratings_df.user_gender.unique()\n",
    "unique_age_bucket = ratings_df.bucketized_user_age.unique()"
   ]
  },
  {
   "cell_type": "code",
   "execution_count": 16,
   "metadata": {},
   "outputs": [
    {
     "name": "stdout",
     "output_type": "stream",
     "text": [
      "Checking the unique values:\n",
      "['m' 'f']\n",
      "['7' '4' '5' '10' '2' '0' '1' '3' '16' '15' '14' '6' '9' '13' '19' '12'\n",
      " '17' '8' '18']\n",
      "['doctor' 'entertainment' 'student' 'healthcare' 'technician' 'artist'\n",
      " 'writer' 'engineer' 'administrator' 'librarian' 'other' 'marketing'\n",
      " 'scientist' 'programmer' 'educator' 'executive' 'retired' 'homemaker'\n",
      " 'salesman' 'lawyer' 'none']\n",
      "['45' '25' '18' '50' '56' '35' '1']\n"
     ]
    }
   ],
   "source": [
    "print(\"Checking the unique values:\")\n",
    "print(unique_user_gender)\n",
    "print(unique_movie_genres)\n",
    "print(unique_user_occupation)\n",
    "print(unique_age_bucket)"
   ]
  },
  {
   "attachments": {},
   "cell_type": "markdown",
   "metadata": {},
   "source": [
    "# Data as tensor dataset"
   ]
  },
  {
   "cell_type": "code",
   "execution_count": 17,
   "metadata": {},
   "outputs": [
    {
     "data": {
      "text/plain": [
       "tensorflow.python.data.ops.from_tensor_slices_op.TensorSliceDataset"
      ]
     },
     "execution_count": 17,
     "metadata": {},
     "output_type": "execute_result"
    }
   ],
   "source": [
    "interactions_dict = {name: value for name, value in ratings_df.items()}\n",
    "interactions = tf.data.Dataset.from_tensor_slices(interactions_dict)\n",
    "type(interactions)"
   ]
  },
  {
   "cell_type": "code",
   "execution_count": 18,
   "metadata": {},
   "outputs": [
    {
     "data": {
      "text/plain": [
       "tensorflow.python.data.ops.from_tensor_slices_op.TensorSliceDataset"
      ]
     },
     "execution_count": 18,
     "metadata": {},
     "output_type": "execute_result"
    }
   ],
   "source": [
    "movies_dict = ratings_df[['movie_id', 'movie_genres']].drop_duplicates()\n",
    "movies_dict = {name: np.array(value) for name, value in movies_dict.items()}\n",
    "movies = tf.data.Dataset.from_tensor_slices(movies_dict)\n",
    "type(movies)"
   ]
  },
  {
   "cell_type": "code",
   "execution_count": 19,
   "metadata": {},
   "outputs": [
    {
     "data": {
      "text/html": [
       "<div>\n",
       "<style scoped>\n",
       "    .dataframe tbody tr th:only-of-type {\n",
       "        vertical-align: middle;\n",
       "    }\n",
       "\n",
       "    .dataframe tbody tr th {\n",
       "        vertical-align: top;\n",
       "    }\n",
       "\n",
       "    .dataframe thead th {\n",
       "        text-align: right;\n",
       "    }\n",
       "</style>\n",
       "<table border=\"1\" class=\"dataframe\">\n",
       "  <thead>\n",
       "    <tr style=\"text-align: right;\">\n",
       "      <th></th>\n",
       "      <th>user_id</th>\n",
       "      <th>user_occupation_text</th>\n",
       "      <th>movie_id</th>\n",
       "      <th>movie_genres</th>\n",
       "      <th>user_gender</th>\n",
       "      <th>bucketized_user_age</th>\n",
       "    </tr>\n",
       "  </thead>\n",
       "  <tbody>\n",
       "    <tr>\n",
       "      <th>0</th>\n",
       "      <td>138</td>\n",
       "      <td>doctor</td>\n",
       "      <td>357</td>\n",
       "      <td>7</td>\n",
       "      <td>m</td>\n",
       "      <td>45</td>\n",
       "    </tr>\n",
       "    <tr>\n",
       "      <th>1</th>\n",
       "      <td>92</td>\n",
       "      <td>entertainment</td>\n",
       "      <td>709</td>\n",
       "      <td>4</td>\n",
       "      <td>m</td>\n",
       "      <td>25</td>\n",
       "    </tr>\n",
       "    <tr>\n",
       "      <th>2</th>\n",
       "      <td>301</td>\n",
       "      <td>student</td>\n",
       "      <td>412</td>\n",
       "      <td>4</td>\n",
       "      <td>m</td>\n",
       "      <td>18</td>\n",
       "    </tr>\n",
       "    <tr>\n",
       "      <th>3</th>\n",
       "      <td>60</td>\n",
       "      <td>healthcare</td>\n",
       "      <td>56</td>\n",
       "      <td>5</td>\n",
       "      <td>m</td>\n",
       "      <td>50</td>\n",
       "    </tr>\n",
       "    <tr>\n",
       "      <th>4</th>\n",
       "      <td>197</td>\n",
       "      <td>technician</td>\n",
       "      <td>895</td>\n",
       "      <td>10</td>\n",
       "      <td>m</td>\n",
       "      <td>50</td>\n",
       "    </tr>\n",
       "  </tbody>\n",
       "</table>\n",
       "</div>"
      ],
      "text/plain": [
       "  user_id user_occupation_text movie_id movie_genres user_gender  \\\n",
       "0     138               doctor      357            7           m   \n",
       "1      92        entertainment      709            4           m   \n",
       "2     301              student      412            4           m   \n",
       "3      60           healthcare       56            5           m   \n",
       "4     197           technician      895           10           m   \n",
       "\n",
       "  bucketized_user_age  \n",
       "0                  45  \n",
       "1                  25  \n",
       "2                  18  \n",
       "3                  50  \n",
       "4                  50  "
      ]
     },
     "execution_count": 19,
     "metadata": {},
     "output_type": "execute_result"
    }
   ],
   "source": [
    "ratings_df.head()"
   ]
  },
  {
   "cell_type": "code",
   "execution_count": 20,
   "metadata": {},
   "outputs": [
    {
     "name": "stdout",
     "output_type": "stream",
     "text": [
      "{'user_id': b'138', 'user_occupation_text': b'doctor', 'movie_id': b'357', 'movie_genres': b'7', 'user_gender': b'm', 'bucketized_user_age': b'45'}\n",
      "{'user_id': b'92', 'user_occupation_text': b'entertainment', 'movie_id': b'709', 'movie_genres': b'4', 'user_gender': b'm', 'bucketized_user_age': b'25'}\n",
      "{'user_id': b'301', 'user_occupation_text': b'student', 'movie_id': b'412', 'movie_genres': b'4', 'user_gender': b'm', 'bucketized_user_age': b'18'}\n",
      "{'user_id': b'60', 'user_occupation_text': b'healthcare', 'movie_id': b'56', 'movie_genres': b'5', 'user_gender': b'm', 'bucketized_user_age': b'50'}\n",
      "{'user_id': b'197', 'user_occupation_text': b'technician', 'movie_id': b'895', 'movie_genres': b'10', 'user_gender': b'm', 'bucketized_user_age': b'50'}\n"
     ]
    }
   ],
   "source": [
    "for i in interactions.take(5).as_numpy_iterator():\n",
    "    print(i)"
   ]
  },
  {
   "cell_type": "code",
   "execution_count": 21,
   "metadata": {},
   "outputs": [
    {
     "name": "stdout",
     "output_type": "stream",
     "text": [
      "{'movie_id': b'357', 'movie_genres': b'7'}\n",
      "{'movie_id': b'709', 'movie_genres': b'4'}\n",
      "{'movie_id': b'412', 'movie_genres': b'4'}\n",
      "{'movie_id': b'56', 'movie_genres': b'5'}\n",
      "{'movie_id': b'895', 'movie_genres': b'10'}\n"
     ]
    }
   ],
   "source": [
    "for i in movies.take(5).as_numpy_iterator():\n",
    "    print(i)"
   ]
  },
  {
   "cell_type": "code",
   "execution_count": 22,
   "metadata": {},
   "outputs": [],
   "source": [
    "interactions = interactions.map(\n",
    "    lambda x: {\n",
    "        'user_id' : x['user_id'], \n",
    "        'movie_id' : x['movie_id'], \n",
    "        'movie_genres' : x['movie_genres'],\n",
    "        \"user_occupation_text\": x[\"user_occupation_text\"],\n",
    "        \"user_gender\": x[\"user_gender\"],\n",
    "        \"bucketized_user_age\": x[\"bucketized_user_age\"]\n",
    "    }\n",
    ")"
   ]
  },
  {
   "cell_type": "code",
   "execution_count": 23,
   "metadata": {},
   "outputs": [
    {
     "data": {
      "text/plain": [
       "tensorflow.python.data.ops.dataset_ops.MapDataset"
      ]
     },
     "execution_count": 23,
     "metadata": {},
     "output_type": "execute_result"
    }
   ],
   "source": [
    "type(interactions)"
   ]
  },
  {
   "cell_type": "code",
   "execution_count": 24,
   "metadata": {},
   "outputs": [],
   "source": [
    "movies = movies.map(\n",
    "    lambda x: {\n",
    "        'movie_id' : x['movie_id'],\n",
    "        'movie_genres' : x['movie_genres']\n",
    "    }\n",
    ")"
   ]
  },
  {
   "cell_type": "code",
   "execution_count": 25,
   "metadata": {},
   "outputs": [
    {
     "data": {
      "text/plain": [
       "tensorflow.python.data.ops.dataset_ops.MapDataset"
      ]
     },
     "execution_count": 25,
     "metadata": {},
     "output_type": "execute_result"
    }
   ],
   "source": [
    "type(movies)"
   ]
  },
  {
   "cell_type": "code",
   "execution_count": 26,
   "metadata": {},
   "outputs": [
    {
     "name": "stdout",
     "output_type": "stream",
     "text": [
      "{'user_id': b'138', 'movie_id': b'357', 'movie_genres': b'7', 'user_occupation_text': b'doctor', 'user_gender': b'm', 'bucketized_user_age': b'45'}\n",
      "{'user_id': b'92', 'movie_id': b'709', 'movie_genres': b'4', 'user_occupation_text': b'entertainment', 'user_gender': b'm', 'bucketized_user_age': b'25'}\n",
      "{'user_id': b'301', 'movie_id': b'412', 'movie_genres': b'4', 'user_occupation_text': b'student', 'user_gender': b'm', 'bucketized_user_age': b'18'}\n",
      "{'user_id': b'60', 'movie_id': b'56', 'movie_genres': b'5', 'user_occupation_text': b'healthcare', 'user_gender': b'm', 'bucketized_user_age': b'50'}\n",
      "{'user_id': b'197', 'movie_id': b'895', 'movie_genres': b'10', 'user_occupation_text': b'technician', 'user_gender': b'm', 'bucketized_user_age': b'50'}\n"
     ]
    }
   ],
   "source": [
    "for i in interactions.take(5).as_numpy_iterator():\n",
    "    print(i)"
   ]
  },
  {
   "cell_type": "code",
   "execution_count": 27,
   "metadata": {},
   "outputs": [
    {
     "name": "stdout",
     "output_type": "stream",
     "text": [
      "{'movie_id': b'357', 'movie_genres': b'7'}\n",
      "{'movie_id': b'709', 'movie_genres': b'4'}\n",
      "{'movie_id': b'412', 'movie_genres': b'4'}\n",
      "{'movie_id': b'56', 'movie_genres': b'5'}\n",
      "{'movie_id': b'895', 'movie_genres': b'10'}\n"
     ]
    }
   ],
   "source": [
    "for i in movies.take(5).as_numpy_iterator():\n",
    "    print(i)"
   ]
  },
  {
   "cell_type": "code",
   "execution_count": 28,
   "metadata": {},
   "outputs": [],
   "source": [
    "trainset_size = int(0.8 * ratings_df.__len__())"
   ]
  },
  {
   "cell_type": "code",
   "execution_count": 29,
   "metadata": {},
   "outputs": [],
   "source": [
    "tf.random.set_seed(42)\n",
    "# Shuffle the elements of the dataset randomly.\n",
    "ratings_dataset_shuffled = interactions.shuffle(\n",
    "    # the new dataset will be sampled from a buffer window of first `buffer_size`\n",
    "    # elements of the dataset\n",
    "    buffer_size=len(ratings_df),\n",
    "    # set the random seed that will be used to create the distribution.\n",
    "    seed=42,\n",
    "    # `list(dataset.as_numpy_iterator()` yields different result for each call\n",
    "    # Because reshuffle_each_iteration defaults to True.\n",
    "    reshuffle_each_iteration=False\n",
    ")"
   ]
  },
  {
   "attachments": {},
   "cell_type": "markdown",
   "metadata": {},
   "source": [
    "# Train test split"
   ]
  },
  {
   "cell_type": "code",
   "execution_count": 30,
   "metadata": {},
   "outputs": [],
   "source": [
    "train = ratings_dataset_shuffled.take(trainset_size).batch(2048)\n",
    "test = ratings_dataset_shuffled.skip(trainset_size).batch(2048,drop_remainder=True)"
   ]
  },
  {
   "cell_type": "code",
   "execution_count": 31,
   "metadata": {},
   "outputs": [
    {
     "name": "stdout",
     "output_type": "stream",
     "text": [
      "{'user_id': array([b'681', b'442', b'932', ..., b'305', b'269', b'115'], dtype=object), 'movie_id': array([b'898', b'367', b'484', ..., b'88', b'403', b'178'], dtype=object), 'movie_genres': array([b'7', b'4', b'9', ..., b'4', b'0', b'7'], dtype=object), 'user_occupation_text': array([b'marketing', b'student', b'educator', ..., b'programmer',\n",
      "       b'librarian', b'engineer'], dtype=object), 'user_gender': array([b'f', b'm', b'm', ..., b'm', b'f', b'm'], dtype=object), 'bucketized_user_age': array([b'35', b'18', b'56', ..., b'18', b'25', b'25'], dtype=object)}\n"
     ]
    }
   ],
   "source": [
    "for i in train.take(1).as_numpy_iterator():\n",
    "    print(i)"
   ]
  },
  {
   "cell_type": "code",
   "execution_count": 32,
   "metadata": {},
   "outputs": [
    {
     "name": "stdout",
     "output_type": "stream",
     "text": [
      "{'user_id': array([b'346', b'602', b'393', ..., b'195', b'450', b'42'], dtype=object), 'movie_id': array([b'211', b'678', b'135', ..., b'93', b'506', b'161'], dtype=object), 'movie_genres': array([b'4', b'7', b'7', ..., b'4', b'7', b'0'], dtype=object), 'user_occupation_text': array([b'other', b'other', b'student', ..., b'scientist', b'educator',\n",
      "       b'administrator'], dtype=object), 'user_gender': array([b'm', b'f', b'm', ..., b'm', b'f', b'm'], dtype=object), 'bucketized_user_age': array([b'25', b'45', b'18', ..., b'35', b'35', b'25'], dtype=object)}\n"
     ]
    }
   ],
   "source": [
    "for i in test.take(1).as_numpy_iterator():\n",
    "    print(i)"
   ]
  },
  {
   "cell_type": "code",
   "execution_count": 33,
   "metadata": {},
   "outputs": [
    {
     "name": "stdout",
     "output_type": "stream",
     "text": [
      "ratings_trainset size: 40\n",
      "ratings_testset size: 9\n"
     ]
    }
   ],
   "source": [
    "print(\"ratings_trainset size: %d\" % train.__len__())\n",
    "print(\"ratings_testset size: %d\" % test.__len__())"
   ]
  },
  {
   "cell_type": "code",
   "execution_count": 34,
   "metadata": {},
   "outputs": [],
   "source": [
    "def inspect_embeddings(unique_user_ids, dims):\n",
    "    lookup = tf.keras.layers.StringLookup(vocabulary=unique_user_ids, mask_token=None)\n",
    "    embedding_layer = tf.keras.layers.Embedding(input_dim=lookup.vocab_size()+1, output_dim=dims)\n",
    "    embedding_model = tf.keras.Sequential([lookup, embedding_layer])\n",
    "    return lookup, embedding_model"
   ]
  },
  {
   "cell_type": "code",
   "execution_count": 35,
   "metadata": {},
   "outputs": [],
   "source": [
    "lookup, embedding_model = inspect_embeddings(unique_user_ids, 32)"
   ]
  },
  {
   "cell_type": "code",
   "execution_count": 36,
   "metadata": {},
   "outputs": [
    {
     "name": "stdout",
     "output_type": "stream",
     "text": [
      "Mapped integer for user ids: [b'346'] -> [187]\n",
      "Embedding output for user ids: [b'346'] -> \n",
      "[[ 0.00860835  0.03325791 -0.02971803 -0.02075641 -0.00764825 -0.04563844\n",
      "   0.01859008 -0.01827854 -0.03634527 -0.02486396  0.01325032  0.04104123\n",
      "  -0.02533175  0.02478793 -0.01290418  0.02862498 -0.04919645  0.02861983\n",
      "   0.03364236 -0.0482375  -0.03242952  0.04528551  0.01942979  0.03789414\n",
      "  -0.02080848 -0.00676461  0.01499803 -0.0090589  -0.02230252 -0.00789442\n",
      "  -0.03975085 -0.02763752]]\n"
     ]
    }
   ],
   "source": [
    "print(f\"Mapped integer for user ids: {[b'346']} -> {lookup([b'346'])}\")\n",
    "print(f\"Embedding output for user ids: {[b'346']} -> \\n{embedding_model([b'346'])}\")"
   ]
  },
  {
   "cell_type": "code",
   "execution_count": 37,
   "metadata": {},
   "outputs": [
    {
     "name": "stdout",
     "output_type": "stream",
     "text": [
      "Mapped integer for user ids: ['346'] -> [187]\n",
      "Embedding output for user ids: ['346'] -> \n",
      "[[ 0.00860835  0.03325791 -0.02971803 -0.02075641 -0.00764825 -0.04563844\n",
      "   0.01859008 -0.01827854 -0.03634527 -0.02486396  0.01325032  0.04104123\n",
      "  -0.02533175  0.02478793 -0.01290418  0.02862498 -0.04919645  0.02861983\n",
      "   0.03364236 -0.0482375  -0.03242952  0.04528551  0.01942979  0.03789414\n",
      "  -0.02080848 -0.00676461  0.01499803 -0.0090589  -0.02230252 -0.00789442\n",
      "  -0.03975085 -0.02763752]]\n"
     ]
    }
   ],
   "source": [
    "print(f\"Mapped integer for user ids: {['346']} -> {lookup(['346'])}\")\n",
    "print(f\"Embedding output for user ids: {['346']} -> \\n{embedding_model(['346'])}\")"
   ]
  },
  {
   "attachments": {},
   "cell_type": "markdown",
   "metadata": {},
   "source": [
    "# Model"
   ]
  },
  {
   "cell_type": "code",
   "execution_count": 38,
   "metadata": {},
   "outputs": [],
   "source": [
    "class UserModel(tf.keras.Model):\n",
    "\n",
    "  def __init__(self):\n",
    "    super().__init__()\n",
    "\n",
    "    self.user_embedding = tf.keras.Sequential([\n",
    "        tf.keras.layers.StringLookup(vocabulary=unique_user_ids, mask_token=None),\n",
    "        tf.keras.layers.Embedding(len(unique_user_ids) + 1, 32),\n",
    "    ])\n",
    "    \n",
    "    self.user_occupation_embedding = tf.keras.Sequential([\n",
    "        tf.keras.layers.StringLookup(vocabulary=unique_user_occupation, mask_token=None),\n",
    "        tf.keras.layers.Embedding(len(unique_user_occupation) + 1, 32),\n",
    "    ])\n",
    "\n",
    "    self.user_gender_embedding = tf.keras.Sequential([\n",
    "        tf.keras.layers.StringLookup(vocabulary=unique_user_gender, mask_token=None),\n",
    "        tf.keras.layers.Embedding(len(unique_user_gender) + 1, 16),\n",
    "    ])\n",
    "\n",
    "    self.user_age_embedding = tf.keras.Sequential([\n",
    "        tf.keras.layers.StringLookup(vocabulary=unique_age_bucket, mask_token=None),\n",
    "        tf.keras.layers.Embedding(len(unique_age_bucket) + 1, 32),\n",
    "    ])\n",
    "\n",
    "  def call(self, inputs):\n",
    "    return tf.concat([\n",
    "        self.user_embedding(inputs[\"user_id\"]),\n",
    "        self.user_occupation_embedding(inputs[\"user_occupation_text\"]),\n",
    "        self.user_gender_embedding(inputs[\"user_gender\"]),\n",
    "        self.user_age_embedding(inputs[\"bucketized_user_age\"])\n",
    "    ], axis=1)"
   ]
  },
  {
   "cell_type": "code",
   "execution_count": 39,
   "metadata": {},
   "outputs": [],
   "source": [
    "class MovieModel(tf.keras.Model):\n",
    "\n",
    "  def __init__(self):\n",
    "    super().__init__()\n",
    "\n",
    "    self.movie_embedding = tf.keras.Sequential([\n",
    "        tf.keras.layers.StringLookup(vocabulary=unique_movies_ids, mask_token=None),\n",
    "        tf.keras.layers.Embedding(len(unique_movies_ids) + 1, 32),\n",
    "    ])\n",
    "\n",
    "    self.movie_genre_embedding = tf.keras.Sequential([\n",
    "        tf.keras.layers.StringLookup(vocabulary=unique_movie_genres, mask_token=None),\n",
    "        tf.keras.layers.Embedding(len(unique_movie_genres) + 1, 32),\n",
    "    ])\n",
    "\n",
    "  def call(self, inputs):\n",
    "    return tf.concat([\n",
    "        self.movie_embedding(inputs[\"movie_id\"]),\n",
    "        self.movie_genre_embedding(inputs[\"movie_genres\"]),\n",
    "    ], axis=1)"
   ]
  },
  {
   "cell_type": "code",
   "execution_count": 40,
   "metadata": {},
   "outputs": [],
   "source": [
    "movie_model = MovieModel()  "
   ]
  },
  {
   "cell_type": "code",
   "execution_count": 41,
   "metadata": {},
   "outputs": [],
   "source": [
    "class MovielensModel(tfrs.models.Model):\n",
    "\n",
    "  def __init__(self):\n",
    "    super().__init__()\n",
    "    self.query_model = tf.keras.Sequential([\n",
    "      UserModel(),\n",
    "      tf.keras.layers.Dense(128)\n",
    "    ])\n",
    "    self.candidate_model = tf.keras.Sequential([\n",
    "      MovieModel(),\n",
    "      tf.keras.layers.Dense(128)\n",
    "    ])\n",
    "    self.task = tfrs.tasks.Retrieval(metrics=tfrs.metrics.FactorizedTopK(\n",
    "      candidates=movies.batch(128).map(self.candidate_model)\n",
    "    ),\n",
    "    )\n",
    "\n",
    "  def compute_loss(self, features, training=False):\n",
    "    query_embeddings = self.query_model({\n",
    "        \"user_id\": features[\"user_id\"],\n",
    "        \"user_occupation_text\": features[\"user_occupation_text\"],\n",
    "        \"user_gender\": features[\"user_gender\"],\n",
    "        \"bucketized_user_age\": features[\"bucketized_user_age\"]\n",
    "    })\n",
    "    movie_embeddings = self.candidate_model({\n",
    "        \"movie_id\": features[\"movie_id\"],\n",
    "        \"movie_genres\": features[\"movie_genres\"]\n",
    "    })\n",
    "\n",
    "    return self.task(query_embeddings, movie_embeddings, compute_metrics=not training)"
   ]
  },
  {
   "cell_type": "code",
   "execution_count": 42,
   "metadata": {},
   "outputs": [],
   "source": [
    "model = MovielensModel()\n",
    "model.compile(optimizer=tf.keras.optimizers.Adagrad(0.1))"
   ]
  },
  {
   "cell_type": "code",
   "execution_count": 151,
   "metadata": {},
   "outputs": [
    {
     "name": "stdout",
     "output_type": "stream",
     "text": [
      "Epoch 1/20\n",
      "40/40 [==============================] - 3s 52ms/step - factorized_top_k/top_1_categorical_accuracy: 0.0000e+00 - factorized_top_k/top_5_categorical_accuracy: 0.0000e+00 - factorized_top_k/top_10_categorical_accuracy: 0.0000e+00 - factorized_top_k/top_50_categorical_accuracy: 0.0000e+00 - factorized_top_k/top_100_categorical_accuracy: 0.0000e+00 - loss: 20135.3989 - regularization_loss: 0.0000e+00 - total_loss: 20135.3989\n",
      "Epoch 2/20\n",
      "40/40 [==============================] - 2s 54ms/step - factorized_top_k/top_1_categorical_accuracy: 0.0000e+00 - factorized_top_k/top_5_categorical_accuracy: 0.0000e+00 - factorized_top_k/top_10_categorical_accuracy: 0.0000e+00 - factorized_top_k/top_50_categorical_accuracy: 0.0000e+00 - factorized_top_k/top_100_categorical_accuracy: 0.0000e+00 - loss: 14739.9340 - regularization_loss: 0.0000e+00 - total_loss: 14739.9340\n",
      "Epoch 3/20\n",
      "40/40 [==============================] - 2s 56ms/step - factorized_top_k/top_1_categorical_accuracy: 0.0000e+00 - factorized_top_k/top_5_categorical_accuracy: 0.0000e+00 - factorized_top_k/top_10_categorical_accuracy: 0.0000e+00 - factorized_top_k/top_50_categorical_accuracy: 0.0000e+00 - factorized_top_k/top_100_categorical_accuracy: 0.0000e+00 - loss: 14577.0155 - regularization_loss: 0.0000e+00 - total_loss: 14577.0155\n",
      "Epoch 4/20\n",
      "40/40 [==============================] - 2s 55ms/step - factorized_top_k/top_1_categorical_accuracy: 0.0000e+00 - factorized_top_k/top_5_categorical_accuracy: 0.0000e+00 - factorized_top_k/top_10_categorical_accuracy: 0.0000e+00 - factorized_top_k/top_50_categorical_accuracy: 0.0000e+00 - factorized_top_k/top_100_categorical_accuracy: 0.0000e+00 - loss: 14273.6849 - regularization_loss: 0.0000e+00 - total_loss: 14273.6849\n",
      "Epoch 5/20\n",
      "40/40 [==============================] - 3s 56ms/step - factorized_top_k/top_1_categorical_accuracy: 0.0000e+00 - factorized_top_k/top_5_categorical_accuracy: 0.0000e+00 - factorized_top_k/top_10_categorical_accuracy: 0.0000e+00 - factorized_top_k/top_50_categorical_accuracy: 0.0000e+00 - factorized_top_k/top_100_categorical_accuracy: 0.0000e+00 - loss: 14046.9777 - regularization_loss: 0.0000e+00 - total_loss: 14046.9777\n",
      "Epoch 6/20\n",
      "40/40 [==============================] - 3s 59ms/step - factorized_top_k/top_1_categorical_accuracy: 0.0000e+00 - factorized_top_k/top_5_categorical_accuracy: 0.0000e+00 - factorized_top_k/top_10_categorical_accuracy: 0.0000e+00 - factorized_top_k/top_50_categorical_accuracy: 0.0000e+00 - factorized_top_k/top_100_categorical_accuracy: 0.0000e+00 - loss: 13931.0270 - regularization_loss: 0.0000e+00 - total_loss: 13931.0270\n",
      "Epoch 7/20\n",
      "40/40 [==============================] - 3s 58ms/step - factorized_top_k/top_1_categorical_accuracy: 0.0000e+00 - factorized_top_k/top_5_categorical_accuracy: 0.0000e+00 - factorized_top_k/top_10_categorical_accuracy: 0.0000e+00 - factorized_top_k/top_50_categorical_accuracy: 0.0000e+00 - factorized_top_k/top_100_categorical_accuracy: 0.0000e+00 - loss: 13856.4664 - regularization_loss: 0.0000e+00 - total_loss: 13856.4664\n",
      "Epoch 8/20\n",
      "40/40 [==============================] - 3s 63ms/step - factorized_top_k/top_1_categorical_accuracy: 0.0000e+00 - factorized_top_k/top_5_categorical_accuracy: 0.0000e+00 - factorized_top_k/top_10_categorical_accuracy: 0.0000e+00 - factorized_top_k/top_50_categorical_accuracy: 0.0000e+00 - factorized_top_k/top_100_categorical_accuracy: 0.0000e+00 - loss: 13801.2340 - regularization_loss: 0.0000e+00 - total_loss: 13801.2340\n",
      "Epoch 9/20\n",
      "40/40 [==============================] - 3s 73ms/step - factorized_top_k/top_1_categorical_accuracy: 0.0000e+00 - factorized_top_k/top_5_categorical_accuracy: 0.0000e+00 - factorized_top_k/top_10_categorical_accuracy: 0.0000e+00 - factorized_top_k/top_50_categorical_accuracy: 0.0000e+00 - factorized_top_k/top_100_categorical_accuracy: 0.0000e+00 - loss: 13756.2161 - regularization_loss: 0.0000e+00 - total_loss: 13756.2161\n",
      "Epoch 10/20\n",
      "40/40 [==============================] - 3s 76ms/step - factorized_top_k/top_1_categorical_accuracy: 0.0000e+00 - factorized_top_k/top_5_categorical_accuracy: 0.0000e+00 - factorized_top_k/top_10_categorical_accuracy: 0.0000e+00 - factorized_top_k/top_50_categorical_accuracy: 0.0000e+00 - factorized_top_k/top_100_categorical_accuracy: 0.0000e+00 - loss: 13716.9498 - regularization_loss: 0.0000e+00 - total_loss: 13716.9498\n",
      "Epoch 11/20\n",
      "40/40 [==============================] - 3s 75ms/step - factorized_top_k/top_1_categorical_accuracy: 0.0000e+00 - factorized_top_k/top_5_categorical_accuracy: 0.0000e+00 - factorized_top_k/top_10_categorical_accuracy: 0.0000e+00 - factorized_top_k/top_50_categorical_accuracy: 0.0000e+00 - factorized_top_k/top_100_categorical_accuracy: 0.0000e+00 - loss: 13681.5457 - regularization_loss: 0.0000e+00 - total_loss: 13681.5457\n",
      "Epoch 12/20\n",
      "40/40 [==============================] - 3s 77ms/step - factorized_top_k/top_1_categorical_accuracy: 0.0000e+00 - factorized_top_k/top_5_categorical_accuracy: 0.0000e+00 - factorized_top_k/top_10_categorical_accuracy: 0.0000e+00 - factorized_top_k/top_50_categorical_accuracy: 0.0000e+00 - factorized_top_k/top_100_categorical_accuracy: 0.0000e+00 - loss: 13648.8387 - regularization_loss: 0.0000e+00 - total_loss: 13648.8387\n",
      "Epoch 13/20\n",
      "40/40 [==============================] - 3s 72ms/step - factorized_top_k/top_1_categorical_accuracy: 0.0000e+00 - factorized_top_k/top_5_categorical_accuracy: 0.0000e+00 - factorized_top_k/top_10_categorical_accuracy: 0.0000e+00 - factorized_top_k/top_50_categorical_accuracy: 0.0000e+00 - factorized_top_k/top_100_categorical_accuracy: 0.0000e+00 - loss: 13618.4185 - regularization_loss: 0.0000e+00 - total_loss: 13618.4185\n",
      "Epoch 14/20\n",
      "40/40 [==============================] - 3s 73ms/step - factorized_top_k/top_1_categorical_accuracy: 0.0000e+00 - factorized_top_k/top_5_categorical_accuracy: 0.0000e+00 - factorized_top_k/top_10_categorical_accuracy: 0.0000e+00 - factorized_top_k/top_50_categorical_accuracy: 0.0000e+00 - factorized_top_k/top_100_categorical_accuracy: 0.0000e+00 - loss: 13589.9342 - regularization_loss: 0.0000e+00 - total_loss: 13589.9342\n",
      "Epoch 15/20\n",
      "40/40 [==============================] - 4s 84ms/step - factorized_top_k/top_1_categorical_accuracy: 0.0000e+00 - factorized_top_k/top_5_categorical_accuracy: 0.0000e+00 - factorized_top_k/top_10_categorical_accuracy: 0.0000e+00 - factorized_top_k/top_50_categorical_accuracy: 0.0000e+00 - factorized_top_k/top_100_categorical_accuracy: 0.0000e+00 - loss: 13563.1656 - regularization_loss: 0.0000e+00 - total_loss: 13563.1656\n",
      "Epoch 16/20\n",
      "40/40 [==============================] - 4s 86ms/step - factorized_top_k/top_1_categorical_accuracy: 0.0000e+00 - factorized_top_k/top_5_categorical_accuracy: 0.0000e+00 - factorized_top_k/top_10_categorical_accuracy: 0.0000e+00 - factorized_top_k/top_50_categorical_accuracy: 0.0000e+00 - factorized_top_k/top_100_categorical_accuracy: 0.0000e+00 - loss: 13537.9364 - regularization_loss: 0.0000e+00 - total_loss: 13537.9364\n",
      "Epoch 17/20\n",
      "40/40 [==============================] - 4s 85ms/step - factorized_top_k/top_1_categorical_accuracy: 0.0000e+00 - factorized_top_k/top_5_categorical_accuracy: 0.0000e+00 - factorized_top_k/top_10_categorical_accuracy: 0.0000e+00 - factorized_top_k/top_50_categorical_accuracy: 0.0000e+00 - factorized_top_k/top_100_categorical_accuracy: 0.0000e+00 - loss: 13514.0452 - regularization_loss: 0.0000e+00 - total_loss: 13514.0452\n",
      "Epoch 18/20\n",
      "40/40 [==============================] - 4s 84ms/step - factorized_top_k/top_1_categorical_accuracy: 0.0000e+00 - factorized_top_k/top_5_categorical_accuracy: 0.0000e+00 - factorized_top_k/top_10_categorical_accuracy: 0.0000e+00 - factorized_top_k/top_50_categorical_accuracy: 0.0000e+00 - factorized_top_k/top_100_categorical_accuracy: 0.0000e+00 - loss: 13491.4296 - regularization_loss: 0.0000e+00 - total_loss: 13491.4296\n",
      "Epoch 19/20\n",
      "40/40 [==============================] - 4s 85ms/step - factorized_top_k/top_1_categorical_accuracy: 0.0000e+00 - factorized_top_k/top_5_categorical_accuracy: 0.0000e+00 - factorized_top_k/top_10_categorical_accuracy: 0.0000e+00 - factorized_top_k/top_50_categorical_accuracy: 0.0000e+00 - factorized_top_k/top_100_categorical_accuracy: 0.0000e+00 - loss: 13469.9481 - regularization_loss: 0.0000e+00 - total_loss: 13469.9481\n",
      "Epoch 20/20\n",
      "40/40 [==============================] - 4s 85ms/step - factorized_top_k/top_1_categorical_accuracy: 0.0000e+00 - factorized_top_k/top_5_categorical_accuracy: 0.0000e+00 - factorized_top_k/top_10_categorical_accuracy: 0.0000e+00 - factorized_top_k/top_50_categorical_accuracy: 0.0000e+00 - factorized_top_k/top_100_categorical_accuracy: 0.0000e+00 - loss: 13449.5575 - regularization_loss: 0.0000e+00 - total_loss: 13449.5575\n"
     ]
    },
    {
     "data": {
      "text/plain": [
       "<keras.callbacks.History at 0x17505da0670>"
      ]
     },
     "execution_count": 151,
     "metadata": {},
     "output_type": "execute_result"
    }
   ],
   "source": [
    "model.fit(train, epochs=20)"
   ]
  },
  {
   "cell_type": "code",
   "execution_count": 152,
   "metadata": {},
   "outputs": [
    {
     "name": "stdout",
     "output_type": "stream",
     "text": [
      "9/9 [==============================] - 3s 167ms/step - factorized_top_k/top_1_categorical_accuracy: 3.2552e-04 - factorized_top_k/top_5_categorical_accuracy: 0.0036 - factorized_top_k/top_10_categorical_accuracy: 0.0111 - factorized_top_k/top_50_categorical_accuracy: 0.0968 - factorized_top_k/top_100_categorical_accuracy: 0.2120 - loss: 15035.5866 - regularization_loss: 0.0000e+00 - total_loss: 15035.5866\n"
     ]
    },
    {
     "data": {
      "text/plain": [
       "{'factorized_top_k/top_1_categorical_accuracy': 0.00032552084303461015,\n",
       " 'factorized_top_k/top_5_categorical_accuracy': 0.0035807292442768812,\n",
       " 'factorized_top_k/top_10_categorical_accuracy': 0.011067708022892475,\n",
       " 'factorized_top_k/top_50_categorical_accuracy': 0.0967881977558136,\n",
       " 'factorized_top_k/top_100_categorical_accuracy': 0.2119683176279068,\n",
       " 'loss': 15058.53125,\n",
       " 'regularization_loss': 0,\n",
       " 'total_loss': 15058.53125}"
      ]
     },
     "execution_count": 152,
     "metadata": {},
     "output_type": "execute_result"
    }
   ],
   "source": [
    "model.evaluate(test, return_dict=True)"
   ]
  }
 ],
 "metadata": {
  "kernelspec": {
   "display_name": ".venv",
   "language": "python",
   "name": "python3"
  },
  "language_info": {
   "codemirror_mode": {
    "name": "ipython",
    "version": 3
   },
   "file_extension": ".py",
   "mimetype": "text/x-python",
   "name": "python",
   "nbconvert_exporter": "python",
   "pygments_lexer": "ipython3",
   "version": "3.8.10"
  },
  "orig_nbformat": 4
 },
 "nbformat": 4,
 "nbformat_minor": 2
}
