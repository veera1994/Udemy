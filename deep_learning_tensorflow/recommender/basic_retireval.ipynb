{
 "cells": [
  {
   "attachments": {},
   "cell_type": "markdown",
   "metadata": {},
   "source": [
    "# Imports"
   ]
  },
  {
   "cell_type": "code",
   "execution_count": 1,
   "metadata": {},
   "outputs": [],
   "source": [
    "import os\n",
    "import pprint\n",
    "import tempfile\n",
    "\n",
    "from typing import Dict, Text\n",
    "\n",
    "import numpy as np\n",
    "import tensorflow as tf\n",
    "import tensorflow_datasets as tfds\n",
    "import tensorflow_recommenders as tfrs\n",
    "import pandas as pd"
   ]
  },
  {
   "cell_type": "code",
   "execution_count": 2,
   "metadata": {},
   "outputs": [
    {
     "name": "stderr",
     "output_type": "stream",
     "text": [
      "WARNING:absl:`TensorInfo.dtype` is deprecated. Please change your code to use NumPy with the field `TensorInfo.np_dtype` or use TensorFlow with the field `TensorInfo.tf_dtype`.\n",
      "WARNING:absl:You use TensorFlow DType <dtype: 'int64'> in tfds.features This will soon be deprecated in favor of NumPy DTypes. In the meantime it was converted to int64.\n",
      "WARNING:absl:`TensorInfo.dtype` is deprecated. Please change your code to use NumPy with the field `TensorInfo.np_dtype` or use TensorFlow with the field `TensorInfo.tf_dtype`.\n"
     ]
    }
   ],
   "source": [
    "# Ratings data.\n",
    "ratings = tfds.load(\"movielens/100k-ratings\", split=\"train\")\n",
    "# Features of all the available movies.\n",
    "movies = tfds.load(\"movielens/100k-movies\", split=\"train\")"
   ]
  },
  {
   "cell_type": "code",
   "execution_count": 3,
   "metadata": {},
   "outputs": [
    {
     "data": {
      "text/plain": [
       "<PrefetchDataset element_spec={'bucketized_user_age': TensorSpec(shape=(), dtype=tf.float32, name=None), 'movie_genres': TensorSpec(shape=(None,), dtype=tf.int64, name=None), 'movie_id': TensorSpec(shape=(), dtype=tf.string, name=None), 'movie_title': TensorSpec(shape=(), dtype=tf.string, name=None), 'raw_user_age': TensorSpec(shape=(), dtype=tf.float32, name=None), 'timestamp': TensorSpec(shape=(), dtype=tf.int64, name=None), 'user_gender': TensorSpec(shape=(), dtype=tf.bool, name=None), 'user_id': TensorSpec(shape=(), dtype=tf.string, name=None), 'user_occupation_label': TensorSpec(shape=(), dtype=tf.int64, name=None), 'user_occupation_text': TensorSpec(shape=(), dtype=tf.string, name=None), 'user_rating': TensorSpec(shape=(), dtype=tf.float32, name=None), 'user_zip_code': TensorSpec(shape=(), dtype=tf.string, name=None)}>"
      ]
     },
     "execution_count": 3,
     "metadata": {},
     "output_type": "execute_result"
    }
   ],
   "source": [
    "ratings"
   ]
  },
  {
   "cell_type": "code",
   "execution_count": 4,
   "metadata": {},
   "outputs": [
    {
     "data": {
      "text/plain": [
       "100000"
      ]
     },
     "execution_count": 4,
     "metadata": {},
     "output_type": "execute_result"
    }
   ],
   "source": [
    "len(ratings)"
   ]
  },
  {
   "cell_type": "code",
   "execution_count": 5,
   "metadata": {},
   "outputs": [
    {
     "data": {
      "text/plain": [
       "1682"
      ]
     },
     "execution_count": 5,
     "metadata": {},
     "output_type": "execute_result"
    }
   ],
   "source": [
    "len(movies)"
   ]
  },
  {
   "attachments": {},
   "cell_type": "markdown",
   "metadata": {},
   "source": [
    "# Data as a pandas dataframe"
   ]
  },
  {
   "cell_type": "code",
   "execution_count": 6,
   "metadata": {},
   "outputs": [
    {
     "data": {
      "text/html": [
       "<div>\n",
       "<style scoped>\n",
       "    .dataframe tbody tr th:only-of-type {\n",
       "        vertical-align: middle;\n",
       "    }\n",
       "\n",
       "    .dataframe tbody tr th {\n",
       "        vertical-align: top;\n",
       "    }\n",
       "\n",
       "    .dataframe thead th {\n",
       "        text-align: right;\n",
       "    }\n",
       "</style>\n",
       "<table border=\"1\" class=\"dataframe\">\n",
       "  <thead>\n",
       "    <tr style=\"text-align: right;\">\n",
       "      <th></th>\n",
       "      <th>bucketized_user_age</th>\n",
       "      <th>movie_genres</th>\n",
       "      <th>movie_id</th>\n",
       "      <th>movie_title</th>\n",
       "      <th>raw_user_age</th>\n",
       "      <th>timestamp</th>\n",
       "      <th>user_gender</th>\n",
       "      <th>user_id</th>\n",
       "      <th>user_occupation_label</th>\n",
       "      <th>user_occupation_text</th>\n",
       "      <th>user_rating</th>\n",
       "      <th>user_zip_code</th>\n",
       "    </tr>\n",
       "  </thead>\n",
       "  <tbody>\n",
       "    <tr>\n",
       "      <th>0</th>\n",
       "      <td>45.0</td>\n",
       "      <td>[7]</td>\n",
       "      <td>b'357'</td>\n",
       "      <td>b\"One Flew Over the Cuckoo's Nest (1975)\"</td>\n",
       "      <td>46.0</td>\n",
       "      <td>879024327</td>\n",
       "      <td>True</td>\n",
       "      <td>b'138'</td>\n",
       "      <td>4</td>\n",
       "      <td>b'doctor'</td>\n",
       "      <td>4.0</td>\n",
       "      <td>b'53211'</td>\n",
       "    </tr>\n",
       "    <tr>\n",
       "      <th>1</th>\n",
       "      <td>25.0</td>\n",
       "      <td>[4, 14]</td>\n",
       "      <td>b'709'</td>\n",
       "      <td>b'Strictly Ballroom (1992)'</td>\n",
       "      <td>32.0</td>\n",
       "      <td>875654590</td>\n",
       "      <td>True</td>\n",
       "      <td>b'92'</td>\n",
       "      <td>5</td>\n",
       "      <td>b'entertainment'</td>\n",
       "      <td>2.0</td>\n",
       "      <td>b'80525'</td>\n",
       "    </tr>\n",
       "    <tr>\n",
       "      <th>2</th>\n",
       "      <td>18.0</td>\n",
       "      <td>[4]</td>\n",
       "      <td>b'412'</td>\n",
       "      <td>b'Very Brady Sequel, A (1996)'</td>\n",
       "      <td>24.0</td>\n",
       "      <td>882075110</td>\n",
       "      <td>True</td>\n",
       "      <td>b'301'</td>\n",
       "      <td>17</td>\n",
       "      <td>b'student'</td>\n",
       "      <td>4.0</td>\n",
       "      <td>b'55439'</td>\n",
       "    </tr>\n",
       "    <tr>\n",
       "      <th>3</th>\n",
       "      <td>50.0</td>\n",
       "      <td>[5, 7]</td>\n",
       "      <td>b'56'</td>\n",
       "      <td>b'Pulp Fiction (1994)'</td>\n",
       "      <td>50.0</td>\n",
       "      <td>883326919</td>\n",
       "      <td>True</td>\n",
       "      <td>b'60'</td>\n",
       "      <td>4</td>\n",
       "      <td>b'healthcare'</td>\n",
       "      <td>4.0</td>\n",
       "      <td>b'06472'</td>\n",
       "    </tr>\n",
       "    <tr>\n",
       "      <th>4</th>\n",
       "      <td>50.0</td>\n",
       "      <td>[10, 16]</td>\n",
       "      <td>b'895'</td>\n",
       "      <td>b'Scream 2 (1997)'</td>\n",
       "      <td>55.0</td>\n",
       "      <td>891409199</td>\n",
       "      <td>True</td>\n",
       "      <td>b'197'</td>\n",
       "      <td>18</td>\n",
       "      <td>b'technician'</td>\n",
       "      <td>3.0</td>\n",
       "      <td>b'75094'</td>\n",
       "    </tr>\n",
       "  </tbody>\n",
       "</table>\n",
       "</div>"
      ],
      "text/plain": [
       "   bucketized_user_age movie_genres movie_id  \\\n",
       "0                 45.0          [7]   b'357'   \n",
       "1                 25.0      [4, 14]   b'709'   \n",
       "2                 18.0          [4]   b'412'   \n",
       "3                 50.0       [5, 7]    b'56'   \n",
       "4                 50.0     [10, 16]   b'895'   \n",
       "\n",
       "                                 movie_title  raw_user_age  timestamp  \\\n",
       "0  b\"One Flew Over the Cuckoo's Nest (1975)\"          46.0  879024327   \n",
       "1                b'Strictly Ballroom (1992)'          32.0  875654590   \n",
       "2             b'Very Brady Sequel, A (1996)'          24.0  882075110   \n",
       "3                     b'Pulp Fiction (1994)'          50.0  883326919   \n",
       "4                         b'Scream 2 (1997)'          55.0  891409199   \n",
       "\n",
       "   user_gender user_id  user_occupation_label user_occupation_text  \\\n",
       "0         True  b'138'                      4            b'doctor'   \n",
       "1         True   b'92'                      5     b'entertainment'   \n",
       "2         True  b'301'                     17           b'student'   \n",
       "3         True   b'60'                      4        b'healthcare'   \n",
       "4         True  b'197'                     18        b'technician'   \n",
       "\n",
       "   user_rating user_zip_code  \n",
       "0          4.0      b'53211'  \n",
       "1          2.0      b'80525'  \n",
       "2          4.0      b'55439'  \n",
       "3          4.0      b'06472'  \n",
       "4          3.0      b'75094'  "
      ]
     },
     "execution_count": 6,
     "metadata": {},
     "output_type": "execute_result"
    }
   ],
   "source": [
    "ratings_df = tfds.as_dataframe(ratings)\n",
    "ratings_df.head()"
   ]
  },
  {
   "cell_type": "code",
   "execution_count": 7,
   "metadata": {},
   "outputs": [
    {
     "data": {
      "text/plain": [
       "(100000, 12)"
      ]
     },
     "execution_count": 7,
     "metadata": {},
     "output_type": "execute_result"
    }
   ],
   "source": [
    "ratings_df.shape"
   ]
  },
  {
   "cell_type": "code",
   "execution_count": 8,
   "metadata": {},
   "outputs": [
    {
     "data": {
      "text/plain": [
       "100000"
      ]
     },
     "execution_count": 8,
     "metadata": {},
     "output_type": "execute_result"
    }
   ],
   "source": [
    "# Did someone watch the movie more than twice?\n",
    "len(ratings_df[['movie_id', 'user_id']].drop_duplicates())"
   ]
  },
  {
   "cell_type": "code",
   "execution_count": 9,
   "metadata": {},
   "outputs": [
    {
     "data": {
      "text/plain": [
       "943"
      ]
     },
     "execution_count": 9,
     "metadata": {},
     "output_type": "execute_result"
    }
   ],
   "source": [
    "ratings_df.user_id.nunique()"
   ]
  },
  {
   "cell_type": "code",
   "execution_count": 10,
   "metadata": {},
   "outputs": [
    {
     "data": {
      "text/plain": [
       "1664"
      ]
     },
     "execution_count": 10,
     "metadata": {},
     "output_type": "execute_result"
    }
   ],
   "source": [
    "ratings_df.movie_title.nunique()"
   ]
  },
  {
   "cell_type": "code",
   "execution_count": 11,
   "metadata": {},
   "outputs": [
    {
     "data": {
      "text/html": [
       "<div>\n",
       "<style scoped>\n",
       "    .dataframe tbody tr th:only-of-type {\n",
       "        vertical-align: middle;\n",
       "    }\n",
       "\n",
       "    .dataframe tbody tr th {\n",
       "        vertical-align: top;\n",
       "    }\n",
       "\n",
       "    .dataframe thead th {\n",
       "        text-align: right;\n",
       "    }\n",
       "</style>\n",
       "<table border=\"1\" class=\"dataframe\">\n",
       "  <thead>\n",
       "    <tr style=\"text-align: right;\">\n",
       "      <th></th>\n",
       "      <th>movie_genres</th>\n",
       "      <th>movie_id</th>\n",
       "      <th>movie_title</th>\n",
       "    </tr>\n",
       "  </thead>\n",
       "  <tbody>\n",
       "    <tr>\n",
       "      <th>0</th>\n",
       "      <td>[4]</td>\n",
       "      <td>b'1681'</td>\n",
       "      <td>b'You So Crazy (1994)'</td>\n",
       "    </tr>\n",
       "    <tr>\n",
       "      <th>1</th>\n",
       "      <td>[4, 7]</td>\n",
       "      <td>b'1457'</td>\n",
       "      <td>b'Love Is All There Is (1996)'</td>\n",
       "    </tr>\n",
       "    <tr>\n",
       "      <th>2</th>\n",
       "      <td>[1, 3]</td>\n",
       "      <td>b'500'</td>\n",
       "      <td>b'Fly Away Home (1996)'</td>\n",
       "    </tr>\n",
       "    <tr>\n",
       "      <th>3</th>\n",
       "      <td>[0]</td>\n",
       "      <td>b'838'</td>\n",
       "      <td>b'In the Line of Duty 2 (1987)'</td>\n",
       "    </tr>\n",
       "    <tr>\n",
       "      <th>4</th>\n",
       "      <td>[7]</td>\n",
       "      <td>b'1648'</td>\n",
       "      <td>b'Niagara, Niagara (1997)'</td>\n",
       "    </tr>\n",
       "  </tbody>\n",
       "</table>\n",
       "</div>"
      ],
      "text/plain": [
       "  movie_genres movie_id                      movie_title\n",
       "0          [4]  b'1681'           b'You So Crazy (1994)'\n",
       "1       [4, 7]  b'1457'   b'Love Is All There Is (1996)'\n",
       "2       [1, 3]   b'500'          b'Fly Away Home (1996)'\n",
       "3          [0]   b'838'  b'In the Line of Duty 2 (1987)'\n",
       "4          [7]  b'1648'       b'Niagara, Niagara (1997)'"
      ]
     },
     "execution_count": 11,
     "metadata": {},
     "output_type": "execute_result"
    }
   ],
   "source": [
    "movie_df = tfds.as_dataframe(movies)\n",
    "movie_df.head()"
   ]
  },
  {
   "cell_type": "code",
   "execution_count": 12,
   "metadata": {},
   "outputs": [
    {
     "data": {
      "text/plain": [
       "(1682, 3)"
      ]
     },
     "execution_count": 12,
     "metadata": {},
     "output_type": "execute_result"
    }
   ],
   "source": [
    "movie_df.shape"
   ]
  },
  {
   "cell_type": "code",
   "execution_count": 13,
   "metadata": {},
   "outputs": [
    {
     "data": {
      "text/plain": [
       "1664"
      ]
     },
     "execution_count": 13,
     "metadata": {},
     "output_type": "execute_result"
    }
   ],
   "source": [
    "movie_df.movie_title.nunique()"
   ]
  },
  {
   "cell_type": "code",
   "execution_count": 14,
   "metadata": {},
   "outputs": [
    {
     "data": {
      "text/plain": [
       "1664"
      ]
     },
     "execution_count": 14,
     "metadata": {},
     "output_type": "execute_result"
    }
   ],
   "source": [
    "# Checking the intersection of the movies in the rating data and movie data\n",
    "len(set(ratings_df.movie_title.unique()).intersection(movie_df.movie_title.unique()))\n",
    "# This means all the movies in the rating data are also in the movies data"
   ]
  },
  {
   "attachments": {},
   "cell_type": "markdown",
   "metadata": {},
   "source": [
    "# Data as tensor dataset"
   ]
  },
  {
   "cell_type": "code",
   "execution_count": 15,
   "metadata": {},
   "outputs": [
    {
     "name": "stdout",
     "output_type": "stream",
     "text": [
      "{'bucketized_user_age': 45.0,\n",
      " 'movie_genres': array([7], dtype=int64),\n",
      " 'movie_id': b'357',\n",
      " 'movie_title': b\"One Flew Over the Cuckoo's Nest (1975)\",\n",
      " 'raw_user_age': 46.0,\n",
      " 'timestamp': 879024327,\n",
      " 'user_gender': True,\n",
      " 'user_id': b'138',\n",
      " 'user_occupation_label': 4,\n",
      " 'user_occupation_text': b'doctor',\n",
      " 'user_rating': 4.0,\n",
      " 'user_zip_code': b'53211'}\n"
     ]
    }
   ],
   "source": [
    "for i in ratings.take(1).as_numpy_iterator():\n",
    "    pprint.pprint(i)"
   ]
  },
  {
   "cell_type": "code",
   "execution_count": 16,
   "metadata": {},
   "outputs": [
    {
     "name": "stdout",
     "output_type": "stream",
     "text": [
      "{'movie_genres': array([4], dtype=int64),\n",
      " 'movie_id': b'1681',\n",
      " 'movie_title': b'You So Crazy (1994)'}\n"
     ]
    }
   ],
   "source": [
    "for x in movies.take(1).as_numpy_iterator():\n",
    "  pprint.pprint(x)"
   ]
  },
  {
   "cell_type": "code",
   "execution_count": 17,
   "metadata": {},
   "outputs": [
    {
     "name": "stdout",
     "output_type": "stream",
     "text": [
      "WARNING:tensorflow:From d:\\repos\\udemy\\.venv\\lib\\site-packages\\tensorflow\\python\\autograph\\pyct\\static_analysis\\liveness.py:83: Analyzer.lamba_check (from tensorflow.python.autograph.pyct.static_analysis.liveness) is deprecated and will be removed after 2023-09-23.\n",
      "Instructions for updating:\n",
      "Lambda fuctions will be no more assumed to be used in the statement where they are used, or at least in the same block. https://github.com/tensorflow/tensorflow/issues/56089\n"
     ]
    },
    {
     "name": "stderr",
     "output_type": "stream",
     "text": [
      "WARNING:tensorflow:From d:\\repos\\udemy\\.venv\\lib\\site-packages\\tensorflow\\python\\autograph\\pyct\\static_analysis\\liveness.py:83: Analyzer.lamba_check (from tensorflow.python.autograph.pyct.static_analysis.liveness) is deprecated and will be removed after 2023-09-23.\n",
      "Instructions for updating:\n",
      "Lambda fuctions will be no more assumed to be used in the statement where they are used, or at least in the same block. https://github.com/tensorflow/tensorflow/issues/56089\n"
     ]
    }
   ],
   "source": [
    "# There are so many feature, we are taking just the ids and title for this model\n",
    "ratings = ratings.map(lambda x: {\n",
    "    \"movie_title\": x[\"movie_title\"],\n",
    "    \"user_id\": x[\"user_id\"],\n",
    "})"
   ]
  },
  {
   "cell_type": "code",
   "execution_count": 18,
   "metadata": {},
   "outputs": [
    {
     "name": "stdout",
     "output_type": "stream",
     "text": [
      "                                 movie_title user_id\n",
      "0  b\"One Flew Over the Cuckoo's Nest (1975)\"  b'138'\n",
      "1                b'Strictly Ballroom (1992)'   b'92'\n",
      "2             b'Very Brady Sequel, A (1996)'  b'301'\n",
      "3                     b'Pulp Fiction (1994)'   b'60'\n",
      "4                         b'Scream 2 (1997)'  b'197'\n"
     ]
    }
   ],
   "source": [
    "print(tfds.as_dataframe(ratings.take(5)))"
   ]
  },
  {
   "cell_type": "code",
   "execution_count": 19,
   "metadata": {},
   "outputs": [
    {
     "name": "stdout",
     "output_type": "stream",
     "text": [
      "{'movie_title': b\"One Flew Over the Cuckoo's Nest (1975)\", 'user_id': b'138'}\n",
      "{'movie_title': b'Strictly Ballroom (1992)', 'user_id': b'92'}\n",
      "{'movie_title': b'Very Brady Sequel, A (1996)', 'user_id': b'301'}\n",
      "{'movie_title': b'Pulp Fiction (1994)', 'user_id': b'60'}\n",
      "{'movie_title': b'Scream 2 (1997)', 'user_id': b'197'}\n"
     ]
    }
   ],
   "source": [
    "for i in ratings.take(5).as_numpy_iterator():\n",
    "    print(i)"
   ]
  },
  {
   "cell_type": "code",
   "execution_count": 20,
   "metadata": {},
   "outputs": [],
   "source": [
    "# There are so many features in the movie data, we are taking just the movie title\n",
    "movies = movies.map(lambda x: x[\"movie_title\"])"
   ]
  },
  {
   "cell_type": "code",
   "execution_count": 21,
   "metadata": {},
   "outputs": [
    {
     "name": "stdout",
     "output_type": "stream",
     "text": [
      "                                  \n",
      "0           b'You So Crazy (1994)'\n",
      "1   b'Love Is All There Is (1996)'\n",
      "2          b'Fly Away Home (1996)'\n",
      "3  b'In the Line of Duty 2 (1987)'\n",
      "4       b'Niagara, Niagara (1997)'\n"
     ]
    }
   ],
   "source": [
    "print(tfds.as_dataframe(movies.take(5)))"
   ]
  },
  {
   "cell_type": "code",
   "execution_count": 22,
   "metadata": {},
   "outputs": [
    {
     "name": "stdout",
     "output_type": "stream",
     "text": [
      "b'You So Crazy (1994)'\n",
      "b'Love Is All There Is (1996)'\n",
      "b'Fly Away Home (1996)'\n",
      "b'In the Line of Duty 2 (1987)'\n",
      "b'Niagara, Niagara (1997)'\n"
     ]
    }
   ],
   "source": [
    "for i in movies.take(5).as_numpy_iterator():\n",
    "    print(i)"
   ]
  },
  {
   "attachments": {},
   "cell_type": "markdown",
   "metadata": {},
   "source": [
    "# Train test split"
   ]
  },
  {
   "cell_type": "code",
   "execution_count": 23,
   "metadata": {},
   "outputs": [],
   "source": [
    "tf.random.set_seed(42)\n",
    "shuffled = ratings.shuffle(100_000, seed=42, reshuffle_each_iteration=False)\n",
    "\n",
    "train = shuffled.take(80_000)\n",
    "test = shuffled.skip(80_000).take(20_000)"
   ]
  },
  {
   "cell_type": "code",
   "execution_count": 24,
   "metadata": {},
   "outputs": [
    {
     "name": "stdout",
     "output_type": "stream",
     "text": [
      "{'movie_title': b'Postman, The (1997)', 'user_id': b'681'}\n",
      "{'movie_title': b'Clueless (1995)', 'user_id': b'442'}\n",
      "{'movie_title': b'Maltese Falcon, The (1941)', 'user_id': b'932'}\n",
      "{'movie_title': b'His Girl Friday (1940)', 'user_id': b'506'}\n",
      "{'movie_title': b'Quiz Show (1994)', 'user_id': b'18'}\n",
      "{'movie_title': b\"Carlito's Way (1993)\", 'user_id': b'551'}\n",
      "{'movie_title': b'Primal Fear (1996)', 'user_id': b'12'}\n",
      "{'movie_title': b'Aladdin (1992)', 'user_id': b'901'}\n",
      "{'movie_title': b'Glengarry Glen Ross (1992)', 'user_id': b'835'}\n",
      "{'movie_title': b'Titanic (1997)', 'user_id': b'284'}\n"
     ]
    }
   ],
   "source": [
    "for i in train.take(10).as_numpy_iterator():\n",
    "    print(i)"
   ]
  },
  {
   "cell_type": "code",
   "execution_count": 25,
   "metadata": {},
   "outputs": [],
   "source": [
    "movie_titles = movies.batch(1_000)\n",
    "user_ids = ratings.batch(1_000_000).map(lambda x: x[\"user_id\"])"
   ]
  },
  {
   "cell_type": "code",
   "execution_count": 26,
   "metadata": {},
   "outputs": [
    {
     "name": "stdout",
     "output_type": "stream",
     "text": [
      "(1000,)\n",
      "(682,)\n"
     ]
    }
   ],
   "source": [
    "for i in movie_titles.as_numpy_iterator():\n",
    "    print(i.shape)"
   ]
  },
  {
   "cell_type": "code",
   "execution_count": 27,
   "metadata": {},
   "outputs": [
    {
     "name": "stdout",
     "output_type": "stream",
     "text": [
      "(100000,)\n"
     ]
    }
   ],
   "source": [
    "for i in user_ids.as_numpy_iterator():\n",
    "    print(i.shape)"
   ]
  },
  {
   "cell_type": "code",
   "execution_count": 28,
   "metadata": {},
   "outputs": [],
   "source": [
    "unique_movie_titles = np.unique(np.concatenate(list(movie_titles)))\n",
    "unique_user_ids = np.unique(np.concatenate(list(user_ids)))"
   ]
  },
  {
   "cell_type": "code",
   "execution_count": 29,
   "metadata": {},
   "outputs": [
    {
     "data": {
      "text/plain": [
       "array([b\"'Til There Was You (1997)\", b'1-900 (1994)',\n",
       "       b'101 Dalmatians (1996)', b'12 Angry Men (1957)', b'187 (1997)',\n",
       "       b'2 Days in the Valley (1996)',\n",
       "       b'20,000 Leagues Under the Sea (1954)',\n",
       "       b'2001: A Space Odyssey (1968)',\n",
       "       b'3 Ninjas: High Noon At Mega Mountain (1998)',\n",
       "       b'39 Steps, The (1935)'], dtype=object)"
      ]
     },
     "execution_count": 29,
     "metadata": {},
     "output_type": "execute_result"
    }
   ],
   "source": [
    "unique_movie_titles[:10]"
   ]
  },
  {
   "cell_type": "code",
   "execution_count": 30,
   "metadata": {},
   "outputs": [
    {
     "data": {
      "text/plain": [
       "array([b'1', b'10', b'100', b'101', b'102', b'103', b'104', b'105',\n",
       "       b'106', b'107'], dtype=object)"
      ]
     },
     "execution_count": 30,
     "metadata": {},
     "output_type": "execute_result"
    }
   ],
   "source": [
    "unique_user_ids[:10]"
   ]
  },
  {
   "attachments": {},
   "cell_type": "markdown",
   "metadata": {},
   "source": [
    "# Model"
   ]
  },
  {
   "cell_type": "code",
   "execution_count": 31,
   "metadata": {},
   "outputs": [],
   "source": [
    "embedding_dimension = 32\n",
    "user_model = tf.keras.Sequential([\n",
    "    # The string lookup will create an integer mapping and the embedding layer\n",
    "    # creates the embedding for the mapped values\n",
    "  tf.keras.layers.StringLookup(vocabulary=unique_user_ids, mask_token=None),\n",
    "  # We add an additional embedding to account for unknown tokens.\n",
    "  tf.keras.layers.Embedding(len(unique_user_ids) + 1, embedding_dimension)\n",
    "])\n",
    "movie_model = tf.keras.Sequential([\n",
    "  tf.keras.layers.StringLookup(vocabulary=unique_movie_titles, mask_token=None),\n",
    "  tf.keras.layers.Embedding(len(unique_movie_titles) + 1, embedding_dimension)\n",
    "])\n",
    "metrics = tfrs.metrics.FactorizedTopK(candidates=movies.batch(128).map(movie_model))\n",
    "task = tfrs.tasks.Retrieval(metrics=metrics)"
   ]
  },
  {
   "cell_type": "code",
   "execution_count": 32,
   "metadata": {},
   "outputs": [
    {
     "data": {
      "text/plain": [
       "array([b'1', b'10'], dtype=object)"
      ]
     },
     "execution_count": 32,
     "metadata": {},
     "output_type": "execute_result"
    }
   ],
   "source": [
    "unique_user_ids[:2]\n"
   ]
  },
  {
   "cell_type": "code",
   "execution_count": 39,
   "metadata": {},
   "outputs": [
    {
     "data": {
      "text/plain": [
       "<keras.engine.sequential.Sequential at 0x16ca8a5faf0>"
      ]
     },
     "execution_count": 39,
     "metadata": {},
     "output_type": "execute_result"
    }
   ],
   "source": [
    "user_model"
   ]
  },
  {
   "cell_type": "code",
   "execution_count": 33,
   "metadata": {},
   "outputs": [
    {
     "name": "stdout",
     "output_type": "stream",
     "text": [
      "WARNING:tensorflow:Layers in a Sequential model should only have a single input tensor. Received: inputs=[b'1', b'10']. Consider rewriting this model with the Functional API.\n"
     ]
    },
    {
     "name": "stderr",
     "output_type": "stream",
     "text": [
      "WARNING:tensorflow:Layers in a Sequential model should only have a single input tensor. Received: inputs=[b'1', b'10']. Consider rewriting this model with the Functional API.\n"
     ]
    },
    {
     "data": {
      "text/plain": [
       "<tf.Tensor: shape=(2, 32), dtype=float32, numpy=\n",
       "array([[ 0.00379433,  0.00056654,  0.00664406, -0.03980237,  0.0390699 ,\n",
       "        -0.02822758,  0.03486596,  0.00069901,  0.00497658, -0.03264948,\n",
       "         0.02877188,  0.02793241,  0.01245091,  0.00208951, -0.01581891,\n",
       "         0.01734592,  0.03905628,  0.01192083, -0.02066573, -0.00754   ,\n",
       "         0.01801969,  0.04346007,  0.0169647 ,  0.01606007,  0.01982814,\n",
       "        -0.04007641,  0.045028  , -0.049063  ,  0.03786261,  0.04120934,\n",
       "         0.01567051, -0.02888723],\n",
       "       [ 0.03562683, -0.029091  ,  0.03816745,  0.02418743, -0.00315785,\n",
       "         0.00137063,  0.03066394, -0.00517576, -0.0085967 , -0.007099  ,\n",
       "        -0.04975113,  0.03433314, -0.04863119, -0.03806108, -0.01709783,\n",
       "         0.00340132,  0.02570032,  0.0201246 ,  0.02533622,  0.00705235,\n",
       "         0.01892534,  0.00901524, -0.0156159 ,  0.02489221, -0.00033083,\n",
       "        -0.01286156, -0.0441285 , -0.00646639, -0.01215779,  0.02597013,\n",
       "         0.01914329, -0.00487567]], dtype=float32)>"
      ]
     },
     "execution_count": 33,
     "metadata": {},
     "output_type": "execute_result"
    }
   ],
   "source": [
    "user_model([b'1', b'10'])"
   ]
  },
  {
   "cell_type": "code",
   "execution_count": 42,
   "metadata": {},
   "outputs": [
    {
     "data": {
      "text/plain": [
       "array([b'3 Ninjas: High Noon At Mega Mountain (1998)',\n",
       "       b'39 Steps, The (1935)'], dtype=object)"
      ]
     },
     "execution_count": 42,
     "metadata": {},
     "output_type": "execute_result"
    }
   ],
   "source": [
    "unique_movie_titles[8:10]"
   ]
  },
  {
   "cell_type": "code",
   "execution_count": 45,
   "metadata": {},
   "outputs": [
    {
     "data": {
      "text/plain": [
       "<tf.Tensor: shape=(2, 32), dtype=float32, numpy=\n",
       "array([[ 0.01385022, -0.03299248, -0.04028846,  0.02150265, -0.01857678,\n",
       "         0.00690241,  0.00418769,  0.01069348,  0.01680839,  0.03166931,\n",
       "         0.02299112,  0.04204333,  0.02162323,  0.01234107,  0.01231024,\n",
       "         0.04155768, -0.00274254, -0.00430496,  0.00604724,  0.02175163,\n",
       "        -0.02467217, -0.01149321, -0.02650201,  0.00302569, -0.03158353,\n",
       "         0.04523635, -0.01143268,  0.03836718, -0.03051233,  0.00969934,\n",
       "         0.03019334,  0.02059979],\n",
       "       [-0.02631067,  0.02493635,  0.00367935, -0.00511577,  0.03692731,\n",
       "        -0.03604013, -0.00451303,  0.03340856,  0.01659877, -0.01881517,\n",
       "        -0.0214715 ,  0.04189299,  0.03730367,  0.02300391, -0.02409807,\n",
       "        -0.01853317, -0.03263661, -0.03852485, -0.02925391, -0.00732665,\n",
       "         0.03955239,  0.01303552, -0.03172016,  0.04908109, -0.0495234 ,\n",
       "        -0.03134354, -0.04181329,  0.00167622,  0.02357925,  0.04646683,\n",
       "         0.03159193, -0.02466836]], dtype=float32)>"
      ]
     },
     "execution_count": 45,
     "metadata": {},
     "output_type": "execute_result"
    }
   ],
   "source": [
    "movie_model(np.array([b'3 Ninjas: High Noon At Mega Mountain (1998)', b'39 Steps, The (1935)']))"
   ]
  },
  {
   "cell_type": "code",
   "execution_count": 46,
   "metadata": {},
   "outputs": [
    {
     "name": "stdout",
     "output_type": "stream",
     "text": [
      "tf.Tensor(\n",
      "[[ 0.00441785  0.01647634 -0.04737489 ... -0.01886891  0.00674813\n",
      "  -0.04528711]\n",
      " [ 0.00918128  0.02095627 -0.02590123 ... -0.04480494  0.03908117\n",
      "   0.00560932]\n",
      " [ 0.0310288  -0.00725682 -0.01423266 ... -0.01554262  0.03286183\n",
      "   0.01596502]\n",
      " ...\n",
      " [ 0.01025158  0.04506296 -0.03001736 ... -0.00074236  0.01737906\n",
      "  -0.00986023]\n",
      " [-0.01743602  0.02750853 -0.02143759 ...  0.03770575  0.04725311\n",
      "  -0.02091433]\n",
      " [ 0.03956307 -0.00539433 -0.03634753 ... -0.04950354  0.01510545\n",
      "  -0.02846858]], shape=(128, 32), dtype=float32)\n"
     ]
    }
   ],
   "source": [
    "for i in movies.batch(128).map(movie_model).take(1):\n",
    "    print(i)"
   ]
  },
  {
   "cell_type": "code",
   "execution_count": 47,
   "metadata": {},
   "outputs": [
    {
     "name": "stdout",
     "output_type": "stream",
     "text": [
      "(128, 32)\n",
      "(128, 32)\n",
      "(128, 32)\n",
      "(128, 32)\n",
      "(128, 32)\n",
      "(128, 32)\n",
      "(128, 32)\n",
      "(128, 32)\n",
      "(128, 32)\n",
      "(128, 32)\n",
      "(128, 32)\n",
      "(128, 32)\n",
      "(128, 32)\n",
      "(18, 32)\n"
     ]
    }
   ],
   "source": [
    "for i in movies.batch(128).map(movie_model):\n",
    "    print(i.shape)"
   ]
  },
  {
   "cell_type": "code",
   "execution_count": 48,
   "metadata": {},
   "outputs": [],
   "source": [
    "class model(tf.keras.Model):\n",
    "  def __init__(self, user_model, movie_model):\n",
    "    super().__init__()\n",
    "    self.movie_model: tf.keras.Model = movie_model\n",
    "    self.user_model: tf.keras.Model = user_model\n",
    "    self.task: tf.keras.layers.Layer = task\n",
    "\n",
    "  def train_step(self, features: Dict[Text, tf.Tensor]) -> tf.Tensor:\n",
    "    # Set up a gradient tape to record gradients.\n",
    "    with tf.GradientTape() as tape:\n",
    "\n",
    "      # Loss computation.\n",
    "      user_embeddings = self.user_model(features[\"user_id\"])\n",
    "      positive_movie_embeddings = self.movie_model(features[\"movie_title\"])\n",
    "      loss = self.task(\n",
    "        user_embeddings, \n",
    "        positive_movie_embeddings, \n",
    "        # compute_metrics=False  You can set it to False to speed up the training\n",
    "      )\n",
    "\n",
    "      # Handle regularization losses as well.\n",
    "      regularization_loss = sum(self.losses)\n",
    "\n",
    "      total_loss = loss + regularization_loss\n",
    "\n",
    "    gradients = tape.gradient(total_loss, self.trainable_variables)\n",
    "    self.optimizer.apply_gradients(zip(gradients, self.trainable_variables))\n",
    "\n",
    "    metrics = {metric.name: metric.result() for metric in self.metrics}\n",
    "    metrics[\"loss\"] = loss\n",
    "    metrics[\"regularization_loss\"] = regularization_loss\n",
    "    metrics[\"total_loss\"] = total_loss\n",
    "\n",
    "    return metrics\n",
    "  \n",
    "  def test_step(self, features: Dict[Text, tf.Tensor]) -> tf.Tensor:\n",
    "\n",
    "    # Loss computation.\n",
    "    user_embeddings = self.user_model(features[\"user_id\"])\n",
    "    positive_movie_embeddings = self.movie_model(features[\"movie_title\"])\n",
    "    loss = self.task(user_embeddings, positive_movie_embeddings)\n",
    "\n",
    "    # Handle regularization losses as well.\n",
    "    regularization_loss = sum(self.losses)\n",
    "\n",
    "    total_loss = loss + regularization_loss\n",
    "\n",
    "    metrics = {metric.name: metric.result() for metric in self.metrics}\n",
    "    metrics[\"loss\"] = loss\n",
    "    metrics[\"regularization_loss\"] = regularization_loss\n",
    "    metrics[\"total_loss\"] = total_loss\n",
    "\n",
    "    return metrics"
   ]
  },
  {
   "cell_type": "code",
   "execution_count": 49,
   "metadata": {},
   "outputs": [],
   "source": [
    "model = model(user_model, movie_model)\n",
    "model.compile(optimizer=tf.keras.optimizers.Adagrad(learning_rate=0.1))"
   ]
  },
  {
   "cell_type": "code",
   "execution_count": 50,
   "metadata": {},
   "outputs": [],
   "source": [
    "cached_train = train.shuffle(100_000).batch(8192).cache()\n",
    "cached_test = test.batch(4096).cache()"
   ]
  },
  {
   "cell_type": "code",
   "execution_count": 51,
   "metadata": {},
   "outputs": [
    {
     "name": "stdout",
     "output_type": "stream",
     "text": [
      "(8192,) (8192,)\n",
      "(8192,) (8192,)\n",
      "(8192,) (8192,)\n",
      "(8192,) (8192,)\n",
      "(8192,) (8192,)\n",
      "(8192,) (8192,)\n",
      "(8192,) (8192,)\n",
      "(8192,) (8192,)\n",
      "(8192,) (8192,)\n",
      "(6272,) (6272,)\n"
     ]
    }
   ],
   "source": [
    "for i in cached_train:\n",
    "    print(i[\"user_id\"].shape, i[\"movie_title\"].shape)"
   ]
  },
  {
   "cell_type": "code",
   "execution_count": 52,
   "metadata": {},
   "outputs": [
    {
     "name": "stdout",
     "output_type": "stream",
     "text": [
      "(4096,) (4096,)\n",
      "(4096,) (4096,)\n",
      "(4096,) (4096,)\n",
      "(4096,) (4096,)\n",
      "(3616,) (3616,)\n"
     ]
    }
   ],
   "source": [
    "for i in cached_test:\n",
    "    print(i[\"user_id\"].shape, i[\"movie_title\"].shape)"
   ]
  },
  {
   "cell_type": "code",
   "execution_count": null,
   "metadata": {},
   "outputs": [
    {
     "name": "stdout",
     "output_type": "stream",
     "text": [
      "Epoch 1/10\n",
      "10/10 [==============================] - 7s 474ms/step - factorized_top_k/top_1_categorical_accuracy: 0.0000e+00 - factorized_top_k/top_5_categorical_accuracy: 0.0000e+00 - factorized_top_k/top_10_categorical_accuracy: 0.0000e+00 - factorized_top_k/top_50_categorical_accuracy: 0.0000e+00 - factorized_top_k/top_100_categorical_accuracy: 0.0000e+00 - loss: 69797.6207 - regularization_loss: 0.0000e+00 - total_loss: 69797.6207\n",
      "Epoch 2/10\n",
      "10/10 [==============================] - 5s 468ms/step - factorized_top_k/top_1_categorical_accuracy: 0.0000e+00 - factorized_top_k/top_5_categorical_accuracy: 0.0000e+00 - factorized_top_k/top_10_categorical_accuracy: 0.0000e+00 - factorized_top_k/top_50_categorical_accuracy: 0.0000e+00 - factorized_top_k/top_100_categorical_accuracy: 0.0000e+00 - loss: 67481.1044 - regularization_loss: 0.0000e+00 - total_loss: 67481.1044\n",
      "Epoch 3/10\n",
      "10/10 [==============================] - 4s 436ms/step - factorized_top_k/top_1_categorical_accuracy: 0.0000e+00 - factorized_top_k/top_5_categorical_accuracy: 0.0000e+00 - factorized_top_k/top_10_categorical_accuracy: 0.0000e+00 - factorized_top_k/top_50_categorical_accuracy: 0.0000e+00 - factorized_top_k/top_100_categorical_accuracy: 0.0000e+00 - loss: 66304.6207 - regularization_loss: 0.0000e+00 - total_loss: 66304.6207\n",
      "Epoch 4/10\n",
      "10/10 [==============================] - 5s 479ms/step - factorized_top_k/top_1_categorical_accuracy: 0.0000e+00 - factorized_top_k/top_5_categorical_accuracy: 0.0000e+00 - factorized_top_k/top_10_categorical_accuracy: 0.0000e+00 - factorized_top_k/top_50_categorical_accuracy: 0.0000e+00 - factorized_top_k/top_100_categorical_accuracy: 0.0000e+00 - loss: 65617.0341 - regularization_loss: 0.0000e+00 - total_loss: 65617.0341\n",
      "Epoch 5/10\n",
      "10/10 [==============================] - 4s 439ms/step - factorized_top_k/top_1_categorical_accuracy: 0.0000e+00 - factorized_top_k/top_5_categorical_accuracy: 0.0000e+00 - factorized_top_k/top_10_categorical_accuracy: 0.0000e+00 - factorized_top_k/top_50_categorical_accuracy: 0.0000e+00 - factorized_top_k/top_100_categorical_accuracy: 0.0000e+00 - loss: 65118.7464 - regularization_loss: 0.0000e+00 - total_loss: 65118.7464\n",
      "Epoch 6/10\n",
      "10/10 [==============================] - 4s 436ms/step - factorized_top_k/top_1_categorical_accuracy: 0.0000e+00 - factorized_top_k/top_5_categorical_accuracy: 0.0000e+00 - factorized_top_k/top_10_categorical_accuracy: 0.0000e+00 - factorized_top_k/top_50_categorical_accuracy: 0.0000e+00 - factorized_top_k/top_100_categorical_accuracy: 0.0000e+00 - loss: 64729.3288 - regularization_loss: 0.0000e+00 - total_loss: 64729.3288\n",
      "Epoch 7/10\n",
      "10/10 [==============================] - 5s 514ms/step - factorized_top_k/top_1_categorical_accuracy: 0.0000e+00 - factorized_top_k/top_5_categorical_accuracy: 0.0000e+00 - factorized_top_k/top_10_categorical_accuracy: 0.0000e+00 - factorized_top_k/top_50_categorical_accuracy: 0.0000e+00 - factorized_top_k/top_100_categorical_accuracy: 0.0000e+00 - loss: 64415.6463 - regularization_loss: 0.0000e+00 - total_loss: 64415.6463\n",
      "Epoch 8/10\n",
      "10/10 [==============================] - 5s 525ms/step - factorized_top_k/top_1_categorical_accuracy: 0.0000e+00 - factorized_top_k/top_5_categorical_accuracy: 0.0000e+00 - factorized_top_k/top_10_categorical_accuracy: 0.0000e+00 - factorized_top_k/top_50_categorical_accuracy: 0.0000e+00 - factorized_top_k/top_100_categorical_accuracy: 0.0000e+00 - loss: 64158.8658 - regularization_loss: 0.0000e+00 - total_loss: 64158.8658\n",
      "Epoch 9/10\n",
      "10/10 [==============================] - 5s 468ms/step - factorized_top_k/top_1_categorical_accuracy: 0.0000e+00 - factorized_top_k/top_5_categorical_accuracy: 0.0000e+00 - factorized_top_k/top_10_categorical_accuracy: 0.0000e+00 - factorized_top_k/top_50_categorical_accuracy: 0.0000e+00 - factorized_top_k/top_100_categorical_accuracy: 0.0000e+00 - loss: 63946.0206 - regularization_loss: 0.0000e+00 - total_loss: 63946.0206\n",
      "Epoch 10/10\n",
      "10/10 [==============================] - 5s 469ms/step - factorized_top_k/top_1_categorical_accuracy: 0.0000e+00 - factorized_top_k/top_5_categorical_accuracy: 0.0000e+00 - factorized_top_k/top_10_categorical_accuracy: 0.0000e+00 - factorized_top_k/top_50_categorical_accuracy: 0.0000e+00 - factorized_top_k/top_100_categorical_accuracy: 0.0000e+00 - loss: 63767.4425 - regularization_loss: 0.0000e+00 - total_loss: 63767.4425\n"
     ]
    },
    {
     "data": {
      "text/plain": [
       "<keras.callbacks.History at 0x2be151244c0>"
      ]
     },
     "execution_count": 94,
     "metadata": {},
     "output_type": "execute_result"
    }
   ],
   "source": [
    "model.fit(cached_train, epochs=10)"
   ]
  },
  {
   "cell_type": "code",
   "execution_count": null,
   "metadata": {},
   "outputs": [
    {
     "name": "stdout",
     "output_type": "stream",
     "text": [
      "5/5 [==============================] - 3s 279ms/step - factorized_top_k/top_1_categorical_accuracy: 3.5000e-04 - factorized_top_k/top_5_categorical_accuracy: 0.0035 - factorized_top_k/top_10_categorical_accuracy: 0.0089 - factorized_top_k/top_50_categorical_accuracy: 0.0839 - factorized_top_k/top_100_categorical_accuracy: 0.1840 - loss: 31684.7448 - regularization_loss: 0.0000e+00 - total_loss: 31684.7448\n"
     ]
    },
    {
     "data": {
      "text/plain": [
       "{'factorized_top_k/top_1_categorical_accuracy': 0.0003499999875202775,\n",
       " 'factorized_top_k/top_5_categorical_accuracy': 0.0035000001080334187,\n",
       " 'factorized_top_k/top_10_categorical_accuracy': 0.008949999697506428,\n",
       " 'factorized_top_k/top_50_categorical_accuracy': 0.08389999717473984,\n",
       " 'factorized_top_k/top_100_categorical_accuracy': 0.18404999375343323,\n",
       " 'loss': 28767.9921875,\n",
       " 'regularization_loss': 0,\n",
       " 'total_loss': 28767.9921875}"
      ]
     },
     "execution_count": 95,
     "metadata": {},
     "output_type": "execute_result"
    }
   ],
   "source": [
    "model.evaluate(cached_test, return_dict=True)"
   ]
  },
  {
   "attachments": {},
   "cell_type": "markdown",
   "metadata": {},
   "source": [
    "# Indexing"
   ]
  },
  {
   "cell_type": "code",
   "execution_count": null,
   "metadata": {},
   "outputs": [],
   "source": [
    "# Create a model that takes in raw query features, and\n",
    "index = tfrs.layers.factorized_top_k.BruteForce(model.user_model)"
   ]
  },
  {
   "cell_type": "code",
   "execution_count": null,
   "metadata": {},
   "outputs": [
    {
     "data": {
      "text/plain": [
       "<tensorflow_recommenders.layers.factorized_top_k.BruteForce at 0x25cdbd5c730>"
      ]
     },
     "execution_count": 35,
     "metadata": {},
     "output_type": "execute_result"
    }
   ],
   "source": [
    "# recommends movies out of the entire movies dataset.\n",
    "index.index_from_dataset(\n",
    "  tf.data.Dataset.zip((movies.batch(100), movies.batch(100).map(model.movie_model)))\n",
    ")\n"
   ]
  },
  {
   "cell_type": "code",
   "execution_count": null,
   "metadata": {},
   "outputs": [
    {
     "data": {
      "text/plain": [
       "(<tf.Tensor: shape=(1, 10), dtype=float32, numpy=\n",
       " array([[3.271916 , 3.0733037, 2.8836622, 2.813118 , 2.8008885, 2.7494378,\n",
       "         2.7240582, 2.6685703, 2.6594362, 2.6328905]], dtype=float32)>,\n",
       " <tf.Tensor: shape=(1, 10), dtype=string, numpy=\n",
       " array([[b\"Kid in King Arthur's Court, A (1995)\", b'Rent-a-Kid (1995)',\n",
       "         b'Bridges of Madison County, The (1995)',\n",
       "         b'Little Big League (1994)', b'Affair to Remember, An (1957)',\n",
       "         b'Old Yeller (1957)', b\"Preacher's Wife, The (1996)\",\n",
       "         b'Unforgettable (1996)', b'Forget Paris (1995)',\n",
       "         b'Miracle on 34th Street (1994)']], dtype=object)>)"
      ]
     },
     "execution_count": 36,
     "metadata": {},
     "output_type": "execute_result"
    }
   ],
   "source": [
    "index(tf.constant([\"42\"]))"
   ]
  },
  {
   "cell_type": "code",
   "execution_count": null,
   "metadata": {},
   "outputs": [
    {
     "name": "stdout",
     "output_type": "stream",
     "text": [
      "{'movie_title': b'Postman, The (1997)', 'user_id': b'681'}\n"
     ]
    }
   ],
   "source": [
    "for i in train.take(1).as_numpy_iterator():\n",
    "    print(i)"
   ]
  },
  {
   "cell_type": "code",
   "execution_count": null,
   "metadata": {},
   "outputs": [
    {
     "name": "stdout",
     "output_type": "stream",
     "text": [
      "<class 'str'>\n"
     ]
    }
   ],
   "source": [
    "for i in train.take(1).as_numpy_iterator():\n",
    "    print((i['user_id'].decode('UTF-8')))"
   ]
  }
 ],
 "metadata": {
  "kernelspec": {
   "display_name": ".venv",
   "language": "python",
   "name": "python3"
  },
  "language_info": {
   "codemirror_mode": {
    "name": "ipython",
    "version": 3
   },
   "file_extension": ".py",
   "mimetype": "text/x-python",
   "name": "python",
   "nbconvert_exporter": "python",
   "pygments_lexer": "ipython3",
   "version": "3.8.10"
  },
  "orig_nbformat": 4
 },
 "nbformat": 4,
 "nbformat_minor": 2
}
