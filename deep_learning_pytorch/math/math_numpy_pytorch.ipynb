{
 "cells": [
  {
   "attachments": {},
   "cell_type": "markdown",
   "metadata": {},
   "source": [
    "# Matrix and vectors"
   ]
  },
  {
   "cell_type": "code",
   "execution_count": 1,
   "metadata": {},
   "outputs": [],
   "source": [
    "import numpy as np\n",
    "import torch"
   ]
  },
  {
   "cell_type": "code",
   "execution_count": 2,
   "metadata": {},
   "outputs": [
    {
     "name": "stdout",
     "output_type": "stream",
     "text": [
      "[[1 2 3 4]]\n",
      "[[1]\n",
      " [2]\n",
      " [3]\n",
      " [4]]\n"
     ]
    }
   ],
   "source": [
    "nv = np.array([[1,2,3,4]])\n",
    "print(nv)\n",
    "nvt = nv.T\n",
    "print(nvt)"
   ]
  },
  {
   "cell_type": "code",
   "execution_count": 3,
   "metadata": {},
   "outputs": [
    {
     "data": {
      "text/plain": [
       "numpy.ndarray"
      ]
     },
     "execution_count": 3,
     "metadata": {},
     "output_type": "execute_result"
    }
   ],
   "source": [
    "type(nv)"
   ]
  },
  {
   "cell_type": "code",
   "execution_count": 4,
   "metadata": {},
   "outputs": [
    {
     "name": "stdout",
     "output_type": "stream",
     "text": [
      "tensor([[1, 2, 3, 4]])\n",
      "tensor([[1],\n",
      "        [2],\n",
      "        [3],\n",
      "        [4]])\n"
     ]
    }
   ],
   "source": [
    "t = torch.tensor([[1,2,3,4]])\n",
    "print(t)\n",
    "print(t.T)"
   ]
  },
  {
   "cell_type": "code",
   "execution_count": 5,
   "metadata": {},
   "outputs": [
    {
     "data": {
      "text/plain": [
       "torch.Tensor"
      ]
     },
     "execution_count": 5,
     "metadata": {},
     "output_type": "execute_result"
    }
   ],
   "source": [
    "type(t)"
   ]
  },
  {
   "cell_type": "code",
   "execution_count": 6,
   "metadata": {},
   "outputs": [
    {
     "name": "stdout",
     "output_type": "stream",
     "text": [
      "-2\n"
     ]
    }
   ],
   "source": [
    "nv1 = np.array([1,2,3,4])\n",
    "nv2 = np.array([0,1,0,-1])\n",
    "print(np.dot(nv1, nv2))"
   ]
  },
  {
   "cell_type": "code",
   "execution_count": 7,
   "metadata": {},
   "outputs": [
    {
     "name": "stdout",
     "output_type": "stream",
     "text": [
      "tensor(-2)\n"
     ]
    }
   ],
   "source": [
    "t1 = torch.tensor([1,2,3,4])\n",
    "t2 = torch.tensor([0,1,0,-1])\n",
    "print(torch.dot(t1, t2))"
   ]
  },
  {
   "cell_type": "code",
   "execution_count": 8,
   "metadata": {},
   "outputs": [
    {
     "name": "stdout",
     "output_type": "stream",
     "text": [
      "[[-3.41865565 -1.5544631  -1.76010918]\n",
      " [-1.25172218  0.20124688  1.41998353]\n",
      " [-0.80858003 -2.82209042  0.03149728]\n",
      " [-1.73738644  0.02220456 -0.10433517]]\n"
     ]
    }
   ],
   "source": [
    "A = np.random.randn(4,5)\n",
    "B = np.random.randn(5,3)\n",
    "print(np.matmul(A,B))"
   ]
  },
  {
   "cell_type": "code",
   "execution_count": 12,
   "metadata": {},
   "outputs": [
    {
     "name": "stdout",
     "output_type": "stream",
     "text": [
      "tensor([[-2.3060, -6.0958],\n",
      "        [ 1.6976,  1.3460],\n",
      "        [ 6.5738, -2.9937],\n",
      "        [-5.9273, -1.1933]])\n"
     ]
    }
   ],
   "source": [
    "At = torch.randn(4,5)\n",
    "Bt = torch.randn(5,2)\n",
    "print(torch.matmul(At, Bt))"
   ]
  },
  {
   "cell_type": "code",
   "execution_count": 13,
   "metadata": {},
   "outputs": [
    {
     "name": "stdout",
     "output_type": "stream",
     "text": [
      "tensor([[-2.2162,  0.7493, -0.8520,  0.5663,  0.3740],\n",
      "        [ 0.6146,  0.1972,  1.6948, -0.1656, -0.5330],\n",
      "        [-0.8460, -1.1618,  1.1413,  2.0500,  0.0859],\n",
      "        [-0.3408,  0.2695, -0.1587, -1.3536,  1.6538]])\n",
      "tensor([[ 1.3958,  2.6231],\n",
      "        [-0.3459, -0.2464],\n",
      "        [ 0.6839, -0.2996],\n",
      "        [ 3.2282, -0.3321],\n",
      "        [-0.5322, -0.4415]])\n"
     ]
    }
   ],
   "source": [
    "print(At)\n",
    "print(Bt)"
   ]
  },
  {
   "cell_type": "code",
   "execution_count": 14,
   "metadata": {},
   "outputs": [
    {
     "name": "stdout",
     "output_type": "stream",
     "text": [
      "tensor([[-2.3060, -6.0958],\n",
      "        [ 1.6976,  1.3460],\n",
      "        [ 6.5738, -2.9937],\n",
      "        [-5.9273, -1.1933]])\n"
     ]
    }
   ],
   "source": [
    "print(At@Bt)"
   ]
  },
  {
   "cell_type": "code",
   "execution_count": 15,
   "metadata": {},
   "outputs": [
    {
     "name": "stdout",
     "output_type": "stream",
     "text": [
      "tensor([[-0.4429,  3.6405,  2.0325],\n",
      "        [ 4.0054, -1.6126, -0.0259],\n",
      "        [ 4.8285,  1.1517,  2.9203],\n",
      "        [-4.1711,  0.9305, -2.8034]], dtype=torch.float64)\n"
     ]
    }
   ],
   "source": [
    "#  Some numpy types work well with torch type but not all\n",
    "print(At@B)"
   ]
  },
  {
   "cell_type": "code",
   "execution_count": 16,
   "metadata": {},
   "outputs": [
    {
     "name": "stdout",
     "output_type": "stream",
     "text": [
      "tensor([[-0.4429,  3.6405,  2.0325],\n",
      "        [ 4.0054, -1.6126, -0.0259],\n",
      "        [ 4.8285,  1.1517,  2.9203],\n",
      "        [-4.1711,  0.9305, -2.8034]])\n"
     ]
    }
   ],
   "source": [
    "print(At@torch.tensor(B, dtype=torch.float))"
   ]
  },
  {
   "attachments": {},
   "cell_type": "markdown",
   "metadata": {},
   "source": [
    "# Softmax"
   ]
  },
  {
   "cell_type": "code",
   "execution_count": 17,
   "metadata": {},
   "outputs": [],
   "source": [
    "import numpy as np\n",
    "import torch\n",
    "import torch.nn as nn\n",
    "import matplotlib.pyplot as plt"
   ]
  },
  {
   "attachments": {},
   "cell_type": "markdown",
   "metadata": {},
   "source": [
    "- The sum of all the softmax transformation is equal to 1\n",
    "- As the number of data points increases the transformation values becomes lower\n",
    "- Softmax is a strictly positive function\n",
    "- It never becomes zero\n",
    "- In log space the transformations are linear but in linear scale the transformations are exponential"
   ]
  },
  {
   "cell_type": "code",
   "execution_count": 18,
   "metadata": {},
   "outputs": [
    {
     "name": "stdout",
     "output_type": "stream",
     "text": [
      "[6.97899537e-09 2.56742892e-09 7.65339773e-06 3.08760101e-03\n",
      " 6.97899537e-09 4.17861358e-04 2.56742892e-09 2.28144571e-02\n",
      " 2.56742892e-09 1.68577303e-01 3.81040236e-07 4.58240620e-01\n",
      " 1.53722603e-04 1.89708763e-08 1.13586494e-03 1.40176869e-07\n",
      " 1.68577303e-01 7.65339773e-06 7.65339773e-06 1.68577303e-01\n",
      " 8.39296973e-03 5.15681883e-08 3.81040236e-07 1.03577475e-06\n",
      " 2.56742892e-09]\n",
      "1.0\n"
     ]
    }
   ],
   "source": [
    "# z = [1,2,3]\n",
    "z = np.random.randint(-5, 15, 25)\n",
    "exp = np.exp(z)\n",
    "sum = np.sum(exp)\n",
    "softmax = np.divide(exp, sum)\n",
    "\n",
    "print(softmax)\n",
    "print(np.sum(softmax))"
   ]
  },
  {
   "cell_type": "code",
   "execution_count": 19,
   "metadata": {},
   "outputs": [
    {
     "name": "stdout",
     "output_type": "stream",
     "text": [
      "tensor([6.9790e-09, 2.5674e-09, 7.6534e-06, 3.0876e-03, 6.9790e-09, 4.1786e-04,\n",
      "        2.5674e-09, 2.2814e-02, 2.5674e-09, 1.6858e-01, 3.8104e-07, 4.5824e-01,\n",
      "        1.5372e-04, 1.8971e-08, 1.1359e-03, 1.4018e-07, 1.6858e-01, 7.6534e-06,\n",
      "        7.6534e-06, 1.6858e-01, 8.3930e-03, 5.1568e-08, 3.8104e-07, 1.0358e-06,\n",
      "        2.5674e-09])\n"
     ]
    }
   ],
   "source": [
    "softfunc = nn.Softmax(dim=0)\n",
    "softmax = softfunc(torch.Tensor(z))\n",
    "print(softmax)"
   ]
  },
  {
   "cell_type": "code",
   "execution_count": 20,
   "metadata": {},
   "outputs": [
    {
     "data": {
      "text/plain": [
       "torch.Tensor"
      ]
     },
     "execution_count": 20,
     "metadata": {},
     "output_type": "execute_result"
    }
   ],
   "source": [
    "type(softmax)"
   ]
  },
  {
   "attachments": {},
   "cell_type": "markdown",
   "metadata": {},
   "source": [
    "# Logarithms"
   ]
  },
  {
   "cell_type": "code",
   "execution_count": 21,
   "metadata": {},
   "outputs": [
    {
     "data": {
      "image/png": "[encoded data removed]",
      "text/plain": [
       "<Figure size 640x480 with 1 Axes>"
      ]
     },
     "metadata": {},
     "output_type": "display_data"
    }
   ],
   "source": [
    "x = np.linspace(.0001,1,200)\n",
    "logx = np.log(x)\n",
    "\n",
    "plt.plot(logx, 'ks-', markerfacecolor='w')\n",
    "plt.xlabel('x')\n",
    "plt.ylabel('log(x)')\n",
    "plt.show()"
   ]
  },
  {
   "attachments": {},
   "cell_type": "markdown",
   "metadata": {},
   "source": [
    "# Entropy and cross-entropy"
   ]
  },
  {
   "cell_type": "code",
   "execution_count": 22,
   "metadata": {},
   "outputs": [
    {
     "name": "stdout",
     "output_type": "stream",
     "text": [
      "0.5623351446188083\n"
     ]
    }
   ],
   "source": [
    "# Entropy\n",
    "p = 0.25\n",
    "\n",
    "# Binary cross entropy, really important loss function\n",
    "H = -np.sum(p * np.log(p) + (1-p)*np.log(1-p))\n",
    "\n",
    "print(H)"
   ]
  },
  {
   "cell_type": "code",
   "execution_count": 23,
   "metadata": {},
   "outputs": [
    {
     "name": "stdout",
     "output_type": "stream",
     "text": [
      "1.3862943611198906\n"
     ]
    }
   ],
   "source": [
    "# Cross entropy\n",
    "p = [1, 0]\n",
    "q = [0.25, 0.75]\n",
    "\n",
    "H = -np.sum(p * np.log(q))\n",
    "print(H)"
   ]
  },
  {
   "cell_type": "code",
   "execution_count": 24,
   "metadata": {},
   "outputs": [
    {
     "data": {
      "text/plain": [
       "tensor(1.3863)"
      ]
     },
     "execution_count": 24,
     "metadata": {},
     "output_type": "execute_result"
    }
   ],
   "source": [
    "import torch.nn.functional as F\n",
    "\n",
    "p_tensor = torch.Tensor(p)\n",
    "q_tensor = torch.Tensor(q)\n",
    "\n",
    "# Inputs are interchanged here\n",
    "F.binary_cross_entropy(q_tensor,p_tensor)"
   ]
  },
  {
   "attachments": {},
   "cell_type": "markdown",
   "metadata": {},
   "source": [
    "# Max/min and argmax/min"
   ]
  },
  {
   "cell_type": "code",
   "execution_count": 25,
   "metadata": {},
   "outputs": [
    {
     "data": {
      "text/plain": [
       "3"
      ]
     },
     "execution_count": 25,
     "metadata": {},
     "output_type": "execute_result"
    }
   ],
   "source": [
    "v = np.array([1,40,2,-3])\n",
    "np.argmin(v)"
   ]
  },
  {
   "cell_type": "code",
   "execution_count": 26,
   "metadata": {},
   "outputs": [
    {
     "name": "stdout",
     "output_type": "stream",
     "text": [
      "-6\n",
      "[ 0 -1 -6]\n",
      "[-1 -6]\n"
     ]
    }
   ],
   "source": [
    "M = np.array([\n",
    "    [0,-1,10],\n",
    "    [20,8,-6]\n",
    "])\n",
    "\n",
    "print(np.min(M))\n",
    "print(np.min(M, axis=0))\n",
    "print(np.min(M, axis=1))\n"
   ]
  },
  {
   "cell_type": "code",
   "execution_count": 27,
   "metadata": {},
   "outputs": [
    {
     "name": "stdout",
     "output_type": "stream",
     "text": [
      "5\n",
      "[0 0 1]\n",
      "[1 2]\n"
     ]
    }
   ],
   "source": [
    "print(np.argmin(M))\n",
    "print(np.argmin(M, axis=0))\n",
    "print(np.argmin(M, axis=1))"
   ]
  },
  {
   "cell_type": "code",
   "execution_count": 28,
   "metadata": {},
   "outputs": [
    {
     "name": "stdout",
     "output_type": "stream",
     "text": [
      "tensor([ 1., 40.,  2., -3.])\n",
      "tensor(1)\n"
     ]
    }
   ],
   "source": [
    "v_torch = torch.Tensor(v)\n",
    "print(v_torch)\n",
    "print(torch.argmax(v_torch))"
   ]
  },
  {
   "cell_type": "code",
   "execution_count": 29,
   "metadata": {},
   "outputs": [
    {
     "name": "stdout",
     "output_type": "stream",
     "text": [
      "tensor([[ 0., -1., 10.],\n",
      "        [20.,  8., -6.]])\n",
      "tensor(3)\n",
      "tensor([2, 0])\n",
      "tensor([1, 1, 0])\n"
     ]
    }
   ],
   "source": [
    "M_torch = torch.Tensor(M)\n",
    "print(M_torch)\n",
    "print(torch.argmax(M_torch))\n",
    "print(torch.argmax(M_torch, axis=1))\n",
    "print(torch.argmax(M_torch, axis=0))"
   ]
  },
  {
   "cell_type": "markdown",
   "metadata": {},
   "source": [
    "# Random seeds"
   ]
  },
  {
   "cell_type": "code",
   "execution_count": 30,
   "metadata": {},
   "outputs": [
    {
     "name": "stdout",
     "output_type": "stream",
     "text": [
      "[ 0.27626589 -1.85462808  0.62390111  1.14531129  1.03719047]\n"
     ]
    }
   ],
   "source": [
    "np.random.seed(17)\n",
    "print(np.random.randn(5))\n",
    "# Random numbers will be the same"
   ]
  },
  {
   "cell_type": "code",
   "execution_count": 31,
   "metadata": {},
   "outputs": [
    {
     "name": "stdout",
     "output_type": "stream",
     "text": [
      "[-0.41748213  0.7060321   1.9159847  -2.1417555   0.71905689]\n"
     ]
    }
   ],
   "source": [
    "rand1 = np.random.RandomState(29)\n",
    "print(rand1.randn(5))"
   ]
  },
  {
   "cell_type": "code",
   "execution_count": 32,
   "metadata": {},
   "outputs": [
    {
     "name": "stdout",
     "output_type": "stream",
     "text": [
      "[ 0.46707262  0.76672253  0.88200945  0.80875066 -0.94716485]\n"
     ]
    }
   ],
   "source": [
    "print(rand1.randn(5))"
   ]
  },
  {
   "cell_type": "code",
   "execution_count": 33,
   "metadata": {},
   "outputs": [
    {
     "name": "stdout",
     "output_type": "stream",
     "text": [
      "tensor([-0.8127, -0.9116,  0.3882, -1.1544, -0.0641])\n"
     ]
    }
   ],
   "source": [
    "print(torch.randn(5))"
   ]
  },
  {
   "cell_type": "code",
   "execution_count": 34,
   "metadata": {},
   "outputs": [
    {
     "name": "stdout",
     "output_type": "stream",
     "text": [
      "tensor([-1.4135,  0.2336,  0.0340,  0.3499, -0.0145])\n"
     ]
    }
   ],
   "source": [
    "torch.manual_seed(17)\n",
    "print(torch.randn(5))"
   ]
  },
  {
   "cell_type": "markdown",
   "metadata": {},
   "source": [
    "# t-test"
   ]
  },
  {
   "cell_type": "code",
   "execution_count": 35,
   "metadata": {},
   "outputs": [],
   "source": [
    "import numpy as np\n",
    "import matplotlib.pyplot as plt\n",
    "import scipy.stats as stats\n",
    "import seaborn as sns"
   ]
  },
  {
   "cell_type": "code",
   "execution_count": 36,
   "metadata": {},
   "outputs": [
    {
     "data": {
      "text/plain": [
       "<seaborn.axisgrid.FacetGrid at 0x1d78bd723d0>"
      ]
     },
     "execution_count": 36,
     "metadata": {},
     "output_type": "execute_result"
    },
    {
     "data": {
      "image/png": "[encoded data removed]",
      "text/plain": [
       "<Figure size 500x500 with 1 Axes>"
      ]
     },
     "metadata": {},
     "output_type": "display_data"
    }
   ],
   "source": [
    "# Parameters\n",
    "\n",
    "n1 =30\n",
    "n2 = 40\n",
    "mu1 = 1 \n",
    "mu2 = 2\n",
    "\n",
    "data1 = mu1 + np.random.randn(n1)\n",
    "data2 = mu2 + np.random.randn(n2)\n",
    "\n",
    "sns.displot(data2, kde=1)"
   ]
  },
  {
   "cell_type": "code",
   "execution_count": 37,
   "metadata": {},
   "outputs": [
    {
     "name": "stdout",
     "output_type": "stream",
     "text": [
      "-3.9191285791512436\n",
      "0.00020894715183840786\n"
     ]
    }
   ],
   "source": [
    "# t-test\n",
    "\n",
    "t,p = stats.ttest_ind(data1, data2)\n",
    "print(t)\n",
    "print(p)"
   ]
  },
  {
   "attachments": {},
   "cell_type": "markdown",
   "metadata": {},
   "source": [
    "- data2 is significantly different than the data1, because the p value is less than 0.05 (5%)"
   ]
  }
 ],
 "metadata": {
  "kernelspec": {
   "display_name": "Python 3",
   "language": "python",
   "name": "python3"
  },
  "language_info": {
   "codemirror_mode": {
    "name": "ipython",
    "version": 3
   },
   "file_extension": ".py",
   "mimetype": "text/x-python",
   "name": "python",
   "nbconvert_exporter": "python",
   "pygments_lexer": "ipython3",
   "version": "3.8.10"
  },
  "orig_nbformat": 4,
  "vscode": {
   "interpreter": {
    "hash": "4de09c3a9edf6ef1ae08276ad30d6e12f26e409a8fd668eb6d1876bfa57a20d4"
   }
  }
 },
 "nbformat": 4,
 "nbformat_minor": 2
}
