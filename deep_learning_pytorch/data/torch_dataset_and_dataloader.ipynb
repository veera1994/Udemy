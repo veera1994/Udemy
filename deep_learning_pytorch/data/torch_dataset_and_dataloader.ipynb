{
 "cells": [
  {
   "cell_type": "code",
   "execution_count": 1,
   "metadata": {},
   "outputs": [],
   "source": [
    "import numpy as np\n",
    "import torch\n",
    "from torch.utils.data import TensorDataset, DataLoader"
   ]
  },
  {
   "cell_type": "code",
   "execution_count": 2,
   "metadata": {},
   "outputs": [],
   "source": [
    "obs = 100\n",
    "features = 20\n",
    "data =np.random.randn(obs, features)"
   ]
  },
  {
   "cell_type": "code",
   "execution_count": 3,
   "metadata": {},
   "outputs": [
    {
     "data": {
      "text/plain": [
       "array([[-0.24418729,  0.6854535 , -0.91058804, ..., -0.80364591,\n",
       "        -0.65806535,  0.45685279],\n",
       "       [-0.54783622,  0.12852351,  1.32109651, ...,  1.24891264,\n",
       "         0.58118708, -1.19595368],\n",
       "       [-0.09019966,  1.0480449 , -0.71543625, ..., -0.75019219,\n",
       "         1.96801555, -0.78251175],\n",
       "       ...,\n",
       "       [ 0.07931463, -1.32270665,  1.48855617, ..., -0.02503276,\n",
       "         1.95273595,  2.23360995],\n",
       "       [-0.92971847,  0.0633094 ,  0.86460596, ..., -0.41261984,\n",
       "         0.50410715, -1.07780622],\n",
       "       [ 0.05239653, -1.63789854, -1.37620943, ..., -0.24415884,\n",
       "         1.66564548, -0.56063445]])"
      ]
     },
     "execution_count": 3,
     "metadata": {},
     "output_type": "execute_result"
    }
   ],
   "source": [
    "data"
   ]
  },
  {
   "cell_type": "code",
   "execution_count": 4,
   "metadata": {},
   "outputs": [],
   "source": [
    "torch_data = torch.tensor(data)"
   ]
  },
  {
   "cell_type": "code",
   "execution_count": 5,
   "metadata": {},
   "outputs": [
    {
     "name": "stdout",
     "output_type": "stream",
     "text": [
      "(100, 20)\n",
      "torch.Size([100, 20])\n"
     ]
    }
   ],
   "source": [
    "print(data.shape)\n",
    "print(torch_data.shape)"
   ]
  },
  {
   "cell_type": "code",
   "execution_count": 6,
   "metadata": {},
   "outputs": [
    {
     "name": "stdout",
     "output_type": "stream",
     "text": [
      "float64\n",
      "torch.float64\n"
     ]
    }
   ],
   "source": [
    "print(data.dtype)\n",
    "print(torch_data.dtype)"
   ]
  },
  {
   "cell_type": "code",
   "execution_count": 7,
   "metadata": {},
   "outputs": [],
   "source": [
    "# Sometimes the pytorch and numpy has the same methods"
   ]
  },
  {
   "cell_type": "code",
   "execution_count": 8,
   "metadata": {},
   "outputs": [
    {
     "name": "stdout",
     "output_type": "stream",
     "text": [
      "torch.float32\n",
      "torch.int64\n"
     ]
    }
   ],
   "source": [
    "print(torch.tensor(data).float().dtype)\n",
    "print(torch.tensor(data).long().dtype)"
   ]
  },
  {
   "cell_type": "markdown",
   "metadata": {},
   "source": [
    "## Tensor dataset"
   ]
  },
  {
   "cell_type": "code",
   "execution_count": 9,
   "metadata": {},
   "outputs": [],
   "source": [
    "# You need to first convert the data into tensor and then use tensor dataset\n",
    "dataset = TensorDataset(torch_data)"
   ]
  },
  {
   "cell_type": "code",
   "execution_count": 10,
   "metadata": {},
   "outputs": [
    {
     "data": {
      "text/plain": [
       "(tensor([[-0.2442,  0.6855, -0.9106,  ..., -0.8036, -0.6581,  0.4569],\n",
       "         [-0.5478,  0.1285,  1.3211,  ...,  1.2489,  0.5812, -1.1960],\n",
       "         [-0.0902,  1.0480, -0.7154,  ..., -0.7502,  1.9680, -0.7825],\n",
       "         ...,\n",
       "         [ 0.0793, -1.3227,  1.4886,  ..., -0.0250,  1.9527,  2.2336],\n",
       "         [-0.9297,  0.0633,  0.8646,  ..., -0.4126,  0.5041, -1.0778],\n",
       "         [ 0.0524, -1.6379, -1.3762,  ..., -0.2442,  1.6656, -0.5606]],\n",
       "        dtype=torch.float64),)"
      ]
     },
     "execution_count": 10,
     "metadata": {},
     "output_type": "execute_result"
    }
   ],
   "source": [
    "dataset.tensors"
   ]
  },
  {
   "cell_type": "code",
   "execution_count": 11,
   "metadata": {},
   "outputs": [
    {
     "data": {
      "text/plain": [
       "100"
      ]
     },
     "execution_count": 11,
     "metadata": {},
     "output_type": "execute_result"
    }
   ],
   "source": [
    "len(dataset)"
   ]
  },
  {
   "cell_type": "code",
   "execution_count": 12,
   "metadata": {},
   "outputs": [
    {
     "data": {
      "text/plain": [
       "1"
      ]
     },
     "execution_count": 12,
     "metadata": {},
     "output_type": "execute_result"
    }
   ],
   "source": [
    "len(dataset.tensors)"
   ]
  },
  {
   "cell_type": "code",
   "execution_count": 13,
   "metadata": {},
   "outputs": [
    {
     "data": {
      "text/plain": [
       "tensor([[-0.2442,  0.6855, -0.9106,  ..., -0.8036, -0.6581,  0.4569],\n",
       "        [-0.5478,  0.1285,  1.3211,  ...,  1.2489,  0.5812, -1.1960],\n",
       "        [-0.0902,  1.0480, -0.7154,  ..., -0.7502,  1.9680, -0.7825],\n",
       "        ...,\n",
       "        [ 0.0793, -1.3227,  1.4886,  ..., -0.0250,  1.9527,  2.2336],\n",
       "        [-0.9297,  0.0633,  0.8646,  ..., -0.4126,  0.5041, -1.0778],\n",
       "        [ 0.0524, -1.6379, -1.3762,  ..., -0.2442,  1.6656, -0.5606]],\n",
       "       dtype=torch.float64)"
      ]
     },
     "execution_count": 13,
     "metadata": {},
     "output_type": "execute_result"
    }
   ],
   "source": [
    "dataset.tensors[0]"
   ]
  },
  {
   "cell_type": "code",
   "execution_count": 14,
   "metadata": {},
   "outputs": [
    {
     "data": {
      "text/plain": [
       "torch.Size([100, 20])"
      ]
     },
     "execution_count": 14,
     "metadata": {},
     "output_type": "execute_result"
    }
   ],
   "source": [
    "dataset.tensors[0].shape"
   ]
  },
  {
   "cell_type": "code",
   "execution_count": 15,
   "metadata": {},
   "outputs": [],
   "source": [
    "# adding labels to the dataset\n",
    "labels = torch.ceil(torch.linspace(0, 4, obs))"
   ]
  },
  {
   "cell_type": "code",
   "execution_count": 16,
   "metadata": {},
   "outputs": [
    {
     "data": {
      "text/plain": [
       "tensor([0., 1., 1., 1., 1., 1., 1., 1., 1., 1., 1., 1., 1., 1., 1., 1., 1., 1.,\n",
       "        1., 1., 1., 1., 1., 1., 1., 2., 2., 2., 2., 2., 2., 2., 2., 2., 2., 2.,\n",
       "        2., 2., 2., 2., 2., 2., 2., 2., 2., 2., 2., 2., 2., 2., 3., 3., 3., 3.,\n",
       "        3., 3., 3., 3., 3., 3., 3., 3., 3., 3., 3., 3., 3., 3., 3., 3., 3., 3.,\n",
       "        3., 3., 3., 4., 4., 4., 4., 4., 4., 4., 4., 4., 4., 4., 4., 4., 4., 4.,\n",
       "        4., 4., 4., 4., 4., 4., 4., 4., 4., 4.])"
      ]
     },
     "execution_count": 16,
     "metadata": {},
     "output_type": "execute_result"
    }
   ],
   "source": [
    "labels"
   ]
  },
  {
   "cell_type": "code",
   "execution_count": 17,
   "metadata": {},
   "outputs": [],
   "source": [
    "labels = labels.reshape(len(labels), 1)"
   ]
  },
  {
   "cell_type": "code",
   "execution_count": 18,
   "metadata": {},
   "outputs": [],
   "source": [
    "dataset = TensorDataset(torch_data, labels)"
   ]
  },
  {
   "cell_type": "code",
   "execution_count": 19,
   "metadata": {},
   "outputs": [
    {
     "data": {
      "text/plain": [
       "100"
      ]
     },
     "execution_count": 19,
     "metadata": {},
     "output_type": "execute_result"
    }
   ],
   "source": [
    "len(dataset)"
   ]
  },
  {
   "cell_type": "code",
   "execution_count": 20,
   "metadata": {},
   "outputs": [
    {
     "data": {
      "text/plain": [
       "(tensor([ 1.4071, -0.3454,  0.0166, -0.1237, -0.9819,  0.0603, -1.0729, -1.0792,\n",
       "         -1.0838,  0.7402, -0.5326, -0.8233,  1.6424,  0.2813, -0.3783,  0.3989,\n",
       "         -1.1332, -0.9233, -0.5074, -0.4731], dtype=torch.float64),\n",
       " tensor([1.]))"
      ]
     },
     "execution_count": 20,
     "metadata": {},
     "output_type": "execute_result"
    }
   ],
   "source": [
    "dataset[10]"
   ]
  },
  {
   "cell_type": "code",
   "execution_count": 21,
   "metadata": {},
   "outputs": [
    {
     "data": {
      "text/plain": [
       "2"
      ]
     },
     "execution_count": 21,
     "metadata": {},
     "output_type": "execute_result"
    }
   ],
   "source": [
    "len(dataset.tensors)"
   ]
  },
  {
   "cell_type": "code",
   "execution_count": 22,
   "metadata": {},
   "outputs": [
    {
     "data": {
      "text/plain": [
       "torch.Size([100, 20])"
      ]
     },
     "execution_count": 22,
     "metadata": {},
     "output_type": "execute_result"
    }
   ],
   "source": [
    "dataset.tensors[0].shape"
   ]
  },
  {
   "cell_type": "code",
   "execution_count": 23,
   "metadata": {},
   "outputs": [
    {
     "data": {
      "text/plain": [
       "torch.Size([100, 1])"
      ]
     },
     "execution_count": 23,
     "metadata": {},
     "output_type": "execute_result"
    }
   ],
   "source": [
    "dataset.tensors[1].shape"
   ]
  },
  {
   "cell_type": "markdown",
   "metadata": {},
   "source": [
    "# DataLoaders"
   ]
  },
  {
   "cell_type": "code",
   "execution_count": 31,
   "metadata": {},
   "outputs": [],
   "source": [
    "batch = 25\n",
    "dataloader = DataLoader(dataset, batch_size=batch, shuffle=True)\n",
    "# dataloader gets reshuffled everytime you call it"
   ]
  },
  {
   "cell_type": "code",
   "execution_count": 32,
   "metadata": {},
   "outputs": [
    {
     "data": {
      "text/plain": [
       "torch.Size([100, 20])"
      ]
     },
     "execution_count": 32,
     "metadata": {},
     "output_type": "execute_result"
    }
   ],
   "source": [
    "dataloader.dataset.tensors[0].size()"
   ]
  },
  {
   "cell_type": "code",
   "execution_count": 33,
   "metadata": {},
   "outputs": [
    {
     "name": "stdout",
     "output_type": "stream",
     "text": [
      "torch.Size([25, 20]) torch.Size([25, 1])\n",
      "torch.Size([25, 20]) torch.Size([25, 1])\n",
      "torch.Size([25, 20]) torch.Size([25, 1])\n",
      "torch.Size([25, 20]) torch.Size([25, 1])\n"
     ]
    }
   ],
   "source": [
    "# Only when you iterate over the dataloader, the methods of the dataloader will be called\n",
    "for i, j in dataloader:\n",
    "  print(i.shape, j.shape)"
   ]
  },
  {
   "cell_type": "code",
   "execution_count": 34,
   "metadata": {},
   "outputs": [
    {
     "name": "stdout",
     "output_type": "stream",
     "text": [
      "tensor([[1., 4., 3., 3., 2., 3., 1., 4., 4., 3., 2., 3., 4., 3., 4., 4., 1., 3.,\n",
      "         1., 1., 4., 4., 4., 1., 3.]])\n",
      "tensor([[2., 1., 1., 3., 2., 1., 2., 4., 4., 1., 2., 1., 2., 4., 1., 2., 1., 2.,\n",
      "         3., 2., 1., 2., 2., 3., 4.]])\n",
      "tensor([[3., 4., 4., 3., 1., 1., 3., 1., 3., 1., 2., 2., 3., 3., 1., 1., 3., 3.,\n",
      "         4., 2., 4., 2., 3., 1., 3.]])\n",
      "tensor([[2., 2., 4., 1., 2., 2., 0., 3., 3., 2., 4., 1., 4., 3., 2., 4., 2., 4.,\n",
      "         4., 1., 4., 2., 3., 4., 2.]])\n"
     ]
    }
   ],
   "source": [
    "for i, j in dataloader:\n",
    "  print(j.T)"
   ]
  },
  {
   "cell_type": "code",
   "execution_count": 36,
   "metadata": {},
   "outputs": [
    {
     "name": "stdout",
     "output_type": "stream",
     "text": [
      "torch.Size([25, 20]) torch.Size([25, 1])\n",
      "tensor([[3., 1., 1., 1., 1., 3., 3., 3., 1., 2., 3., 2., 2., 4., 1., 2., 4., 4.,\n",
      "         2., 3., 1., 1., 3., 3., 4.]])\n"
     ]
    }
   ],
   "source": [
    "#  To get only one batch\n",
    "i, j = next(iter(dataloader))\n",
    "print(i.shape, j.shape)\n",
    "print(j.T)"
   ]
  }
 ],
 "metadata": {
  "kernelspec": {
   "display_name": ".venv",
   "language": "python",
   "name": "python3"
  },
  "language_info": {
   "codemirror_mode": {
    "name": "ipython",
    "version": 3
   },
   "file_extension": ".py",
   "mimetype": "text/x-python",
   "name": "python",
   "nbconvert_exporter": "python",
   "pygments_lexer": "ipython3",
   "version": "3.8.10"
  },
  "orig_nbformat": 4
 },
 "nbformat": 4,
 "nbformat_minor": 2
}
