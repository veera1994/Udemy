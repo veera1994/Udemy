{
 "cells": [
  {
   "cell_type": "code",
   "execution_count": 1,
   "metadata": {},
   "outputs": [],
   "source": [
    "import torch\n",
    "import torch.nn as nn\n",
    "import torch.nn.functional as F"
   ]
  },
  {
   "cell_type": "code",
   "execution_count": 3,
   "metadata": {},
   "outputs": [],
   "source": [
    "prob = 0.5\n",
    "dropout = nn.Dropout(p=prob)"
   ]
  },
  {
   "cell_type": "code",
   "execution_count": 4,
   "metadata": {},
   "outputs": [
    {
     "name": "stdout",
     "output_type": "stream",
     "text": [
      "tensor([1., 1., 1., 1., 1., 1., 1., 1., 1., 1.])\n",
      "tensor([0., 0., 0., 0., 0., 0., 2., 2., 2., 2.])\n"
     ]
    },
    {
     "data": {
      "text/plain": [
       "tensor(0.8000)"
      ]
     },
     "execution_count": 4,
     "metadata": {},
     "output_type": "execute_result"
    }
   ],
   "source": [
    "x = torch.ones(10)\n",
    "dropout.train()\n",
    "y = dropout(x)\n",
    "print(x)\n",
    "# pytorch scales up the weight in training (w*1/(1-p))\n",
    "# that is why you see 2, the 0s indicated the units are dropped out\n",
    "print(y)\n",
    "torch.mean(y)"
   ]
  },
  {
   "cell_type": "code",
   "execution_count": 5,
   "metadata": {},
   "outputs": [
    {
     "name": "stdout",
     "output_type": "stream",
     "text": [
      "tensor([1., 1., 1., 1., 1., 1., 1., 1., 1., 1.])\n",
      "tensor([1., 1., 1., 1., 1., 1., 1., 1., 1., 1.])\n",
      "tensor(1.)\n"
     ]
    }
   ],
   "source": [
    "# dropout is turned off in eval mode\n",
    "dropout.eval()\n",
    "y = dropout(x)\n",
    "print(x)\n",
    "print(y)\n",
    "print(torch.mean(y))\n"
   ]
  },
  {
   "cell_type": "code",
   "execution_count": 6,
   "metadata": {},
   "outputs": [
    {
     "name": "stdout",
     "output_type": "stream",
     "text": [
      "tensor([1., 1., 1., 1., 1., 1., 1., 1., 1., 1.])\n",
      "tensor([2., 2., 0., 0., 0., 2., 2., 2., 2., 0.])\n",
      "tensor(1.2000)\n"
     ]
    }
   ],
   "source": [
    "# annoyingly F.dropout() is not deactivated in eval mode\n",
    "dropout.eval()\n",
    "y = F.dropout(x)\n",
    "print(x)\n",
    "print(y)\n",
    "print(torch.mean(y))"
   ]
  },
  {
   "cell_type": "code",
   "execution_count": 7,
   "metadata": {},
   "outputs": [
    {
     "name": "stdout",
     "output_type": "stream",
     "text": [
      "tensor([1., 1., 1., 1., 1., 1., 1., 1., 1., 1.])\n",
      "tensor([1., 1., 1., 1., 1., 1., 1., 1., 1., 1.])\n",
      "tensor(1.)\n"
     ]
    }
   ],
   "source": [
    "# manually turning it off\n",
    "dropout.eval()\n",
    "y = F.dropout(x, training=False)\n",
    "print(x)\n",
    "print(y)\n",
    "print(torch.mean(y))"
   ]
  },
  {
   "cell_type": "code",
   "execution_count": 23,
   "metadata": {},
   "outputs": [],
   "source": [
    "# the model needs to be reset after toggling into eval mode"
   ]
  },
  {
   "cell_type": "code",
   "execution_count": null,
   "metadata": {},
   "outputs": [],
   "source": []
  }
 ],
 "metadata": {
  "kernelspec": {
   "display_name": ".udemy",
   "language": "python",
   "name": "python3"
  },
  "language_info": {
   "codemirror_mode": {
    "name": "ipython",
    "version": 3
   },
   "file_extension": ".py",
   "mimetype": "text/x-python",
   "name": "python",
   "nbconvert_exporter": "python",
   "pygments_lexer": "ipython3",
   "version": "3.8.10"
  },
  "orig_nbformat": 4
 },
 "nbformat": 4,
 "nbformat_minor": 2
}
