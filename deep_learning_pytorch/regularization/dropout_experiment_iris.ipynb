{
 "cells": [
  {
   "cell_type": "code",
   "execution_count": 2,
   "metadata": {},
   "outputs": [],
   "source": [
    "# import libraries\n",
    "import torch\n",
    "import torch.nn as nn\n",
    "import torch.nn.functional as F\n",
    "\n",
    "import numpy as np\n",
    "import matplotlib.pyplot as plt\n",
    "from IPython import display\n",
    "\n",
    "from sklearn.model_selection import train_test_split\n",
    "from torch.utils.data import DataLoader,TensorDataset"
   ]
  },
  {
   "attachments": {},
   "cell_type": "markdown",
   "metadata": {},
   "source": [
    "# Data"
   ]
  },
  {
   "cell_type": "code",
   "execution_count": 3,
   "metadata": {},
   "outputs": [],
   "source": [
    "import seaborn as sns\n",
    "data = sns.load_dataset('iris')\n",
    "df = torch.tensor(data.drop(columns=\"species\").values).float()\n",
    "labels = torch.zeros(len(df), dtype=torch.long)\n",
    "labels[data.species == 'versicolor'] = 1 \n",
    "labels[data.species == 'virginica'] = 2"
   ]
  },
  {
   "cell_type": "code",
   "execution_count": 4,
   "metadata": {},
   "outputs": [
    {
     "data": {
      "text/plain": [
       "torch.Size([150, 4])"
      ]
     },
     "execution_count": 4,
     "metadata": {},
     "output_type": "execute_result"
    }
   ],
   "source": [
    "df.shape"
   ]
  },
  {
   "attachments": {},
   "cell_type": "markdown",
   "metadata": {},
   "source": [
    "# TensorDataset and DataLoader"
   ]
  },
  {
   "cell_type": "code",
   "execution_count": 6,
   "metadata": {},
   "outputs": [],
   "source": [
    "x_train, x_test, y_train, y_test = train_test_split(df, labels, train_size=0.8)\n",
    "tf_train = TensorDataset(x_train, y_train)\n",
    "tf_test = TensorDataset(x_test, y_test)\n",
    "\n",
    "train = DataLoader(tf_train, batch_size=64, shuffle=True)\n",
    "test = DataLoader(tf_test, batch_size=tf_test.tensors[0].shape[0])"
   ]
  },
  {
   "attachments": {},
   "cell_type": "markdown",
   "metadata": {},
   "source": [
    "# Model"
   ]
  },
  {
   "cell_type": "code",
   "execution_count": 11,
   "metadata": {},
   "outputs": [],
   "source": [
    "class model(nn.Module):\n",
    "    def __init__(self, dropoutrate):\n",
    "        super().__init__()\n",
    "        self.input = nn.Linear(4, 12)\n",
    "        self.hidden = nn.Linear(12, 12)\n",
    "        self.output = nn.Linear(12, 3)\n",
    "        self.dr = dropoutrate\n",
    "    def forward(self, x):\n",
    "        # input layer and dropout\n",
    "        x = F.relu(self.input(x))\n",
    "        x = F.dropout(x, p=self.dr, training=self.training) \n",
    "        # self.training is set to true when the model is in train mode and off in eval mode\n",
    "        # hidden layer and drop out\n",
    "        x = F.relu(self.hidden(x))\n",
    "        x = F.dropout(x, p=self.dr, training=self.training)\n",
    "        y = self.output(x)\n",
    "        return y"
   ]
  },
  {
   "cell_type": "code",
   "execution_count": 12,
   "metadata": {},
   "outputs": [],
   "source": [
    "tempnet = model(.25)"
   ]
  },
  {
   "cell_type": "code",
   "execution_count": 13,
   "metadata": {},
   "outputs": [],
   "source": [
    "tempx = torch.randn((10,4))\n",
    "tempyhat = tempnet(tempx)"
   ]
  },
  {
   "cell_type": "code",
   "execution_count": 14,
   "metadata": {},
   "outputs": [
    {
     "name": "stdout",
     "output_type": "stream",
     "text": [
      "tensor([[ 0.1346, -0.1157,  0.1626],\n",
      "        [ 0.0893, -0.1032,  0.0740],\n",
      "        [ 0.2506, -0.1751,  0.0245],\n",
      "        [ 0.2776, -0.1165,  0.1368],\n",
      "        [-0.0068, -0.2138,  0.1491],\n",
      "        [ 0.1969, -0.0983,  0.0688],\n",
      "        [ 0.4318, -0.1601, -0.1868],\n",
      "        [ 0.2161, -0.1692,  0.0174],\n",
      "        [ 0.3917, -0.1789, -0.0061],\n",
      "        [ 0.0918, -0.1564,  0.1663]], grad_fn=<AddmmBackward0>)\n"
     ]
    }
   ],
   "source": [
    "print(tempyhat)"
   ]
  },
  {
   "cell_type": "code",
   "execution_count": 15,
   "metadata": {},
   "outputs": [],
   "source": [
    "def create_model(dropoutrate):\n",
    "    ann = model(dropoutrate)\n",
    "    lossfn = nn.CrossEntropyLoss()\n",
    "    optimizer = torch.optim.SGD(ann.parameters(), lr=0.02)\n",
    "    return ann, lossfn, optimizer "
   ]
  },
  {
   "cell_type": "code",
   "execution_count": 40,
   "metadata": {},
   "outputs": [],
   "source": [
    "numepochs = 500\n",
    "def train_model(ann, lossfn, optimizer):\n",
    "    trainacc = []\n",
    "    testacc = []\n",
    "\n",
    "    for i in range(numepochs):\n",
    "        ann.train()\n",
    "        batchacc = []\n",
    "        for x, y in train:\n",
    "            yhat = ann(x)\n",
    "            loss = lossfn(yhat, y)\n",
    "            optimizer.zero_grad()\n",
    "            loss.backward()\n",
    "            optimizer.step()\n",
    "            batchacc.append(100*torch.mean((torch.argmax(yhat, axis=1)==y).float()).item())\n",
    "        trainacc.append(np.mean(batchacc))\n",
    "\n",
    "        ann.eval()\n",
    "        x,y = next(iter(test))\n",
    "        yhat = ann(x)\n",
    "        testacc.append(100*torch.mean((torch.argmax(yhat, axis=1)==y).float()).item())\n",
    "    return trainacc, testacc\n"
   ]
  },
  {
   "cell_type": "code",
   "execution_count": 41,
   "metadata": {},
   "outputs": [],
   "source": [
    "dropoutrate = 0\n",
    "ann, loss, opt = create_model(dropoutrate)"
   ]
  },
  {
   "cell_type": "code",
   "execution_count": 42,
   "metadata": {},
   "outputs": [],
   "source": [
    "trainacc, testacc = train_model(ann, loss, opt)"
   ]
  },
  {
   "cell_type": "code",
   "execution_count": 43,
   "metadata": {},
   "outputs": [
    {
     "data": {
      "text/plain": [
       "[35.82589328289032,\n",
       " 36.04910671710968,\n",
       " 35.37946492433548,\n",
       " 35.60267835855484,\n",
       " 38.05803507566452]"
      ]
     },
     "execution_count": 43,
     "metadata": {},
     "output_type": "execute_result"
    }
   ],
   "source": [
    "trainacc[:5]"
   ]
  },
  {
   "cell_type": "code",
   "execution_count": 44,
   "metadata": {},
   "outputs": [
    {
     "data": {
      "text/plain": [
       "[23.333333432674408,\n",
       " 23.333333432674408,\n",
       " 23.333333432674408,\n",
       " 26.66666805744171,\n",
       " 26.66666805744171]"
      ]
     },
     "execution_count": 44,
     "metadata": {},
     "output_type": "execute_result"
    }
   ],
   "source": [
    "testacc[:5]"
   ]
  },
  {
   "cell_type": "code",
   "execution_count": 45,
   "metadata": {},
   "outputs": [
    {
     "data": {
      "text/plain": [
       "<function matplotlib.pyplot.show(close=None, block=None)>"
      ]
     },
     "execution_count": 45,
     "metadata": {},
     "output_type": "execute_result"
    },
    {
     "data": {
      "image/png": "[encoded data removed]",
      "text/plain": [
       "<Figure size 1200x800 with 1 Axes>"
      ]
     },
     "metadata": {},
     "output_type": "display_data"
    }
   ],
   "source": [
    "plt.figure(figsize=(12,8))\n",
    "plt.plot(trainacc, 'bs-')\n",
    "plt.plot(testacc, 'ro-')\n",
    "plt.xlabel('epochs')\n",
    "plt.ylabel('accuracies')\n",
    "plt.legend(['train', 'test'])\n",
    "plt.show\n"
   ]
  },
  {
   "attachments": {},
   "cell_type": "markdown",
   "metadata": {},
   "source": [
    "# Experiment"
   ]
  },
  {
   "cell_type": "code",
   "execution_count": 28,
   "metadata": {},
   "outputs": [],
   "source": [
    "dropouts = np.arange(10)/10\n",
    "results = np.zeros((len(dropouts),2))\n",
    "trainacc = []\n",
    "testacc = []"
   ]
  },
  {
   "cell_type": "code",
   "execution_count": 29,
   "metadata": {},
   "outputs": [
    {
     "data": {
      "text/plain": [
       "array([0. , 0.1, 0.2, 0.3, 0.4, 0.5, 0.6, 0.7, 0.8, 0.9])"
      ]
     },
     "execution_count": 29,
     "metadata": {},
     "output_type": "execute_result"
    }
   ],
   "source": [
    "dropouts"
   ]
  },
  {
   "cell_type": "code",
   "execution_count": 30,
   "metadata": {},
   "outputs": [
    {
     "data": {
      "text/plain": [
       "array([[0., 0.],\n",
       "       [0., 0.],\n",
       "       [0., 0.],\n",
       "       [0., 0.],\n",
       "       [0., 0.],\n",
       "       [0., 0.],\n",
       "       [0., 0.],\n",
       "       [0., 0.],\n",
       "       [0., 0.],\n",
       "       [0., 0.]])"
      ]
     },
     "execution_count": 30,
     "metadata": {},
     "output_type": "execute_result"
    }
   ],
   "source": [
    "results"
   ]
  },
  {
   "cell_type": "code",
   "execution_count": 31,
   "metadata": {},
   "outputs": [],
   "source": [
    "for i in range(len(dropouts)):\n",
    "    ann, loss, opt = create_model(dropouts[i])\n",
    "    trainacc, testacc = train_model(ann, loss, opt)\n",
    "    results[i,0] = np.mean(trainacc[-100:])\n",
    "    results[i,1] = np.mean(testacc[-100:])"
   ]
  },
  {
   "cell_type": "code",
   "execution_count": 32,
   "metadata": {},
   "outputs": [
    {
     "data": {
      "text/plain": [
       "array([[97.71651822, 93.16666698],\n",
       "       [90.18973196, 93.33333373],\n",
       "       [87.22098207, 93.33333373],\n",
       "       [83.75558046, 93.36666697],\n",
       "       [74.95535702, 93.36666697],\n",
       "       [71.52232155, 89.69999927],\n",
       "       [62.94084826, 66.36666775],\n",
       "       [59.62388404, 81.36666679],\n",
       "       [46.8158481 , 57.53333348],\n",
       "       [35.53794646, 56.03333348]])"
      ]
     },
     "execution_count": 32,
     "metadata": {},
     "output_type": "execute_result"
    }
   ],
   "source": [
    "results"
   ]
  },
  {
   "cell_type": "code",
   "execution_count": 36,
   "metadata": {},
   "outputs": [
    {
     "data": {
      "text/plain": [
       "<function matplotlib.pyplot.show(close=None, block=None)>"
      ]
     },
     "execution_count": 36,
     "metadata": {},
     "output_type": "execute_result"
    },
    {
     "data": {
      "image/png": "[encoded data removed]",
      "text/plain": [
       "<Figure size 600x400 with 1 Axes>"
      ]
     },
     "metadata": {},
     "output_type": "display_data"
    }
   ],
   "source": [
    "plt.figure(figsize=(6,4))\n",
    "plt.plot(dropouts,results, 'o-')\n",
    "plt.xlabel('dropouts')\n",
    "plt.ylabel('accuracies')\n",
    "plt.legend(['train', 'test'])\n",
    "plt.show\n"
   ]
  },
  {
   "cell_type": "code",
   "execution_count": null,
   "metadata": {},
   "outputs": [],
   "source": []
  }
 ],
 "metadata": {
  "kernelspec": {
   "display_name": ".udemy",
   "language": "python",
   "name": "python3"
  },
  "language_info": {
   "codemirror_mode": {
    "name": "ipython",
    "version": 3
   },
   "file_extension": ".py",
   "mimetype": "text/x-python",
   "name": "python",
   "nbconvert_exporter": "python",
   "pygments_lexer": "ipython3",
   "version": "3.8.10"
  },
  "orig_nbformat": 4
 },
 "nbformat": 4,
 "nbformat_minor": 2
}
