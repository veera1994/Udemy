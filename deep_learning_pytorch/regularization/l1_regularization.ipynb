{
 "cells": [
  {
   "cell_type": "code",
   "execution_count": 1,
   "metadata": {},
   "outputs": [],
   "source": [
    "# import libraries\n",
    "import torch\n",
    "import torch.nn as nn\n",
    "import torch.nn.functional as F\n",
    "\n",
    "import numpy as np\n",
    "import matplotlib.pyplot as plt\n",
    "from IPython import display\n",
    "\n",
    "from sklearn.model_selection import train_test_split\n",
    "from torch.utils.data import DataLoader,TensorDataset"
   ]
  },
  {
   "attachments": {},
   "cell_type": "markdown",
   "metadata": {},
   "source": [
    "# Data"
   ]
  },
  {
   "cell_type": "code",
   "execution_count": 2,
   "metadata": {},
   "outputs": [],
   "source": [
    "import seaborn as sns\n",
    "data = sns.load_dataset('iris')\n",
    "df = torch.tensor(data.drop(columns=\"species\").values).float()\n",
    "labels = torch.zeros(len(df), dtype=torch.long)\n",
    "labels[data.species == 'versicolor'] = 1 \n",
    "labels[data.species == 'virginica'] = 2"
   ]
  },
  {
   "cell_type": "code",
   "execution_count": 3,
   "metadata": {},
   "outputs": [],
   "source": [
    "x_train, x_test, y_train, y_test = train_test_split(df, labels, train_size=0.7)\n",
    "tf_train = TensorDataset(x_train, y_train)\n",
    "tf_test = TensorDataset(x_test, y_test)\n",
    "train = DataLoader(tf_train, batch_size=16, shuffle=True)\n",
    "test = DataLoader(tf_test, batch_size=tf_test.tensors[0].shape[0])"
   ]
  },
  {
   "cell_type": "code",
   "execution_count": 4,
   "metadata": {},
   "outputs": [
    {
     "data": {
      "text/plain": [
       "tensor([[6.3000, 2.5000, 5.0000, 1.9000],\n",
       "        [5.1000, 2.5000, 3.0000, 1.1000],\n",
       "        [5.5000, 3.5000, 1.3000, 0.2000],\n",
       "        [6.2000, 2.9000, 4.3000, 1.3000],\n",
       "        [6.7000, 3.1000, 4.4000, 1.4000],\n",
       "        [5.2000, 2.7000, 3.9000, 1.4000],\n",
       "        [6.0000, 2.2000, 4.0000, 1.0000],\n",
       "        [5.8000, 2.8000, 5.1000, 2.4000],\n",
       "        [6.4000, 3.1000, 5.5000, 1.8000],\n",
       "        [5.7000, 3.0000, 4.2000, 1.2000]])"
      ]
     },
     "execution_count": 4,
     "metadata": {},
     "output_type": "execute_result"
    }
   ],
   "source": [
    "tf_train.tensors[0][:10]"
   ]
  },
  {
   "cell_type": "code",
   "execution_count": 5,
   "metadata": {},
   "outputs": [
    {
     "data": {
      "text/plain": [
       "tensor([2, 1, 0, 1, 1, 1, 1, 2, 2, 1])"
      ]
     },
     "execution_count": 5,
     "metadata": {},
     "output_type": "execute_result"
    }
   ],
   "source": [
    "tf_train.tensors[1][:10]"
   ]
  },
  {
   "cell_type": "code",
   "execution_count": 6,
   "metadata": {},
   "outputs": [
    {
     "name": "stdout",
     "output_type": "stream",
     "text": [
      "torch.Size([16, 4]) torch.Size([16])\n",
      "torch.Size([16, 4]) torch.Size([16])\n",
      "torch.Size([16, 4]) torch.Size([16])\n",
      "torch.Size([16, 4]) torch.Size([16])\n",
      "torch.Size([16, 4]) torch.Size([16])\n",
      "torch.Size([16, 4]) torch.Size([16])\n",
      "torch.Size([9, 4]) torch.Size([9])\n"
     ]
    }
   ],
   "source": [
    "for x,y in train:\n",
    "    print(x.shape, y.shape)"
   ]
  },
  {
   "cell_type": "code",
   "execution_count": 7,
   "metadata": {},
   "outputs": [
    {
     "name": "stdout",
     "output_type": "stream",
     "text": [
      "torch.Size([45, 4]) torch.Size([45])\n"
     ]
    }
   ],
   "source": [
    "for x,y in test:\n",
    "    print(x.shape, y.shape)"
   ]
  },
  {
   "cell_type": "code",
   "execution_count": 9,
   "metadata": {},
   "outputs": [],
   "source": [
    "def model():\n",
    "    ann = nn.Sequential(\n",
    "        nn.Linear(4, 64),\n",
    "        nn.ReLU(),\n",
    "        nn.Linear(64, 64),\n",
    "        nn.ReLU(),\n",
    "        nn.Linear(64,3)\n",
    "    )\n",
    "    lossfn = nn.CrossEntropyLoss()\n",
    "    optimizer = torch.optim.SGD(ann.parameters(), lr=0.005)\n",
    "    return ann, lossfn, optimizer"
   ]
  },
  {
   "cell_type": "code",
   "execution_count": 10,
   "metadata": {},
   "outputs": [],
   "source": [
    "ann, lossfn, optimizer = model()"
   ]
  },
  {
   "cell_type": "code",
   "execution_count": 11,
   "metadata": {},
   "outputs": [
    {
     "name": "stdout",
     "output_type": "stream",
     "text": [
      "Sequential(\n",
      "  (0): Linear(in_features=4, out_features=64, bias=True)\n",
      "  (1): ReLU()\n",
      "  (2): Linear(in_features=64, out_features=64, bias=True)\n",
      "  (3): ReLU()\n",
      "  (4): Linear(in_features=64, out_features=3, bias=True)\n",
      ")\n"
     ]
    }
   ],
   "source": [
    "print(ann)"
   ]
  },
  {
   "cell_type": "code",
   "execution_count": 18,
   "metadata": {},
   "outputs": [
    {
     "name": "stdout",
     "output_type": "stream",
     "text": [
      "0.weight torch.Size([64, 4]) 256\n",
      "0.bias torch.Size([64]) 64\n",
      "2.weight torch.Size([64, 64]) 4096\n",
      "2.bias torch.Size([64]) 64\n",
      "4.weight torch.Size([3, 64]) 192\n",
      "4.bias torch.Size([3]) 3\n"
     ]
    }
   ],
   "source": [
    "for i in ann.named_parameters():\n",
    "    print(i[0], i[1].shape, i[1].numel())"
   ]
  },
  {
   "cell_type": "code",
   "execution_count": 26,
   "metadata": {},
   "outputs": [
    {
     "name": "stdout",
     "output_type": "stream",
     "text": [
      "0.weight 256\n",
      "2.weight 4352\n",
      "4.weight 4544\n"
     ]
    }
   ],
   "source": [
    "nweights = 0\n",
    "for i, j in ann.named_parameters():\n",
    "    if 'bias' not in i:\n",
    "        nweights = nweights + j.numel()\n",
    "        print(i, nweights)"
   ]
  },
  {
   "attachments": {},
   "cell_type": "markdown",
   "metadata": {},
   "source": [
    "For L1 regularization we need to access the weights directly "
   ]
  },
  {
   "cell_type": "code",
   "execution_count": 29,
   "metadata": {},
   "outputs": [],
   "source": [
    "numepochs = 1000\n",
    "def train_model(l1lambda):    \n",
    "    trainacc = []\n",
    "    testacc = []\n",
    "    losses = []\n",
    "    nweights = 0\n",
    "    # count the weights of the parameters that are not bias\n",
    "    for i, j in ann.named_parameters():\n",
    "        if 'bias' not in i:\n",
    "            nweights = nweights + j.numel()\n",
    "    # training\n",
    "    for i in range(numepochs):\n",
    "        batchloss = []\n",
    "        batchacc = []\n",
    "        # batch training\n",
    "        for x, y in train:\n",
    "            yhat = ann(x)\n",
    "            loss = lossfn(yhat, y)\n",
    "            # add l1 term\n",
    "            l1term = torch.tensor(0.,requires_grad=True)\n",
    "            for pname, weight in ann.named_parameters():\n",
    "                if 'bias' not in pname:\n",
    "                    l1term = l1term + torch.sum(torch.abs(weight))\n",
    "            loss = loss + l1lambda + l1term/nweights\n",
    "            # compute gradients\n",
    "            optimizer.zero_grad()\n",
    "            loss.backward()\n",
    "            optimizer.step()\n",
    "            batchacc.append(100*torch.mean((torch.argmax(yhat, axis=1)== y).float()).item())\n",
    "            batchloss.append(loss.item())\n",
    "        trainacc.append(np.mean(batchacc))\n",
    "        losses.append(np.mean(batchloss))\n",
    "        testx, testy = next(iter(test)) \n",
    "        pred = torch.argmax(ann(testx), axis=1)\n",
    "        testacc.append(100*torch.mean((pred==testy).float()).item())\n",
    "    return trainacc, testacc, losses"
   ]
  },
  {
   "cell_type": "code",
   "execution_count": 30,
   "metadata": {},
   "outputs": [],
   "source": [
    "trainacc, testacc, losses = train_model(0.1)"
   ]
  },
  {
   "cell_type": "code",
   "execution_count": 31,
   "metadata": {},
   "outputs": [
    {
     "data": {
      "text/plain": [
       "<matplotlib.legend.Legend at 0x226db022940>"
      ]
     },
     "execution_count": 31,
     "metadata": {},
     "output_type": "execute_result"
    },
    {
     "data": {
      "image/png": "[encoded data removed]",
      "text/plain": [
       "<Figure size 1500x500 with 2 Axes>"
      ]
     },
     "metadata": {},
     "output_type": "display_data"
    }
   ],
   "source": [
    "fig, ax = plt.subplots(1, 2, figsize=(15,5))\n",
    "ax[0].plot(losses,'k^-')\n",
    "ax[0].set_ylabel(\"losses\")\n",
    "ax[0].set_xlabel(\"epochs\")\n",
    "ax[1].plot(trainacc, \"ro-\")\n",
    "ax[1].plot(testacc, \"bs-\")\n",
    "ax[1].set_ylabel(\"accuracy\")\n",
    "ax[1].set_xlabel(\"epochs\")\n",
    "ax[1].legend(['trainacc', 'testacc'])"
   ]
  },
  {
   "attachments": {},
   "cell_type": "markdown",
   "metadata": {},
   "source": [
    "# Experiment"
   ]
  },
  {
   "cell_type": "code",
   "execution_count": 32,
   "metadata": {},
   "outputs": [],
   "source": [
    "lambdas = np.linspace(0, 0.005, 10)\n",
    "numepochs = 1000"
   ]
  },
  {
   "cell_type": "code",
   "execution_count": 33,
   "metadata": {},
   "outputs": [],
   "source": [
    "trainaccmatrix = np.zeros((len(lambdas), numepochs))\n",
    "testaccmatrix = np.zeros((len(lambdas), numepochs))"
   ]
  },
  {
   "cell_type": "code",
   "execution_count": 35,
   "metadata": {},
   "outputs": [],
   "source": [
    "for i in range(len(lambdas)):\n",
    "    ann, lossfn, optimizer = model()\n",
    "    trainaccmatrix[i:], testaccmatrix[i:], _ = train_model(lambdas[i]) "
   ]
  },
  {
   "cell_type": "code",
   "execution_count": 36,
   "metadata": {},
   "outputs": [
    {
     "data": {
      "text/plain": [
       "array([[36.90476205, 37.5992064 , 37.5992064 , ..., 99.10714286,\n",
       "        99.10714286, 99.10714286],\n",
       "       [42.55952409, 47.2222226 , 47.42063497, ..., 99.10714286,\n",
       "        98.21428571, 99.10714286],\n",
       "       [30.65476205, 40.27777783, 57.24206354, ..., 99.10714286,\n",
       "        98.21428571, 99.10714286],\n",
       "       ...,\n",
       "       [31.74603177, 46.72619062, 69.34523838, ..., 99.10714286,\n",
       "        99.10714286, 99.10714286],\n",
       "       [30.65476205, 25.69444446, 21.9246032 , ..., 99.10714286,\n",
       "        99.10714286, 99.10714286],\n",
       "       [29.26587303, 32.73809552, 29.26587303, ..., 99.10714286,\n",
       "        99.10714286, 98.21428571]])"
      ]
     },
     "execution_count": 36,
     "metadata": {},
     "output_type": "execute_result"
    }
   ],
   "source": [
    "trainaccmatrix"
   ]
  },
  {
   "cell_type": "code",
   "execution_count": 37,
   "metadata": {},
   "outputs": [
    {
     "data": {
      "text/plain": [
       "array([[24.44444448, 24.44444448, 24.44444448, ..., 95.55555582,\n",
       "        95.55555582, 95.55555582],\n",
       "       [57.77778029, 53.33333611, 60.00000238, ..., 97.77777791,\n",
       "        95.55555582, 97.77777791],\n",
       "       [40.0000006 , 73.33333492, 84.44444537, ..., 95.55555582,\n",
       "        95.55555582, 95.55555582],\n",
       "       ...,\n",
       "       [35.55555642, 60.00000238, 91.11111164, ..., 95.55555582,\n",
       "        95.55555582, 95.55555582],\n",
       "       [40.0000006 ,  6.66666701, 24.44444448, ..., 97.77777791,\n",
       "        95.55555582, 95.55555582],\n",
       "       [40.0000006 , 40.0000006 , 68.88889074, ..., 95.55555582,\n",
       "        95.55555582, 97.77777791]])"
      ]
     },
     "execution_count": 37,
     "metadata": {},
     "output_type": "execute_result"
    }
   ],
   "source": [
    "testaccmatrix"
   ]
  }
 ],
 "metadata": {
  "kernelspec": {
   "display_name": ".udemy",
   "language": "python",
   "name": "python3"
  },
  "language_info": {
   "codemirror_mode": {
    "name": "ipython",
    "version": 3
   },
   "file_extension": ".py",
   "mimetype": "text/x-python",
   "name": "python",
   "nbconvert_exporter": "python",
   "pygments_lexer": "ipython3",
   "version": "3.8.10"
  },
  "orig_nbformat": 4
 },
 "nbformat": 4,
 "nbformat_minor": 2
}
