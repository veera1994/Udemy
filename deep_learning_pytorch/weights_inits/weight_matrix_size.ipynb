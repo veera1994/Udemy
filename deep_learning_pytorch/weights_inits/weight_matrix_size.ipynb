{
 "cells": [
  {
   "cell_type": "code",
   "execution_count": 2,
   "metadata": {},
   "outputs": [],
   "source": [
    "import torch \n",
    "import torch.nn as nn"
   ]
  },
  {
   "cell_type": "code",
   "execution_count": 10,
   "metadata": {},
   "outputs": [],
   "source": [
    "model = nn.Sequential(\n",
    "    nn.Linear(10, 14),\n",
    "    nn.Linear(14, 12),\n",
    "    nn.Linear(12, 8)\n",
    ")"
   ]
  },
  {
   "cell_type": "code",
   "execution_count": 11,
   "metadata": {},
   "outputs": [
    {
     "data": {
      "text/plain": [
       "Sequential(\n",
       "  (0): Linear(in_features=10, out_features=14, bias=True)\n",
       "  (1): Linear(in_features=14, out_features=12, bias=True)\n",
       "  (2): Linear(in_features=12, out_features=8, bias=True)\n",
       ")"
      ]
     },
     "execution_count": 11,
     "metadata": {},
     "output_type": "execute_result"
    }
   ],
   "source": [
    "model"
   ]
  },
  {
   "cell_type": "code",
   "execution_count": 12,
   "metadata": {},
   "outputs": [
    {
     "name": "stdout",
     "output_type": "stream",
     "text": [
      "torch.Size([14, 10])\n",
      "torch.Size([12, 14])\n",
      "torch.Size([8, 12])\n"
     ]
    }
   ],
   "source": [
    "for i in range(len(model)):\n",
    "    print(model[i].weight.shape)"
   ]
  },
  {
   "cell_type": "markdown",
   "metadata": {},
   "source": [
    "Shape of weights = W(outputs, inputs)"
   ]
  },
  {
   "cell_type": "code",
   "execution_count": 13,
   "metadata": {},
   "outputs": [
    {
     "data": {
      "text/plain": [
       "tensor([[-0.4557,  0.3752, -0.4221, -1.1278,  0.1806,  0.0340,  0.2400,  1.4791,\n",
       "         -0.2629,  1.4882],\n",
       "        [-1.1734,  0.1346,  0.2630, -0.1103, -0.7574, -0.3073,  0.2748, -0.7669,\n",
       "          0.9509, -0.0499],\n",
       "        [-0.2049,  0.4708,  0.7916,  0.9662, -0.3290,  0.2088,  1.2793,  1.2237,\n",
       "          0.7247, -0.1566],\n",
       "        [ 1.2682, -0.6898,  0.3049,  0.0518, -0.9471,  1.1566,  1.1896, -0.1984,\n",
       "         -0.2359, -0.6901],\n",
       "        [ 0.8620, -0.0783, -1.4063,  0.1111, -0.7881,  0.0190,  0.6333, -0.4586,\n",
       "         -0.5172, -1.8001]])"
      ]
     },
     "execution_count": 13,
     "metadata": {},
     "output_type": "execute_result"
    }
   ],
   "source": [
    "nsample = 5\n",
    "nfeatures = 10\n",
    "data = torch.randn(nsample, nfeatures)\n",
    "data"
   ]
  },
  {
   "cell_type": "code",
   "execution_count": 15,
   "metadata": {},
   "outputs": [
    {
     "data": {
      "text/plain": [
       "tensor([[-0.1666, -0.2213, -0.1899,  0.2745,  0.0535, -0.4097, -0.0787, -0.0746],\n",
       "        [-0.1247,  0.0378,  0.0910,  0.2294, -0.2340, -0.1416, -0.0545, -0.3434],\n",
       "        [ 0.0605,  0.1515, -0.0502,  0.2039,  0.1042, -0.2540,  0.1024, -0.1369],\n",
       "        [ 0.1292,  0.4047,  0.0915,  0.1753,  0.1287, -0.1682,  0.2917, -0.2509],\n",
       "        [ 0.2564,  0.2459,  0.2398,  0.0345, -0.0996, -0.1751,  0.0729, -0.2229]],\n",
       "       grad_fn=<AddmmBackward0>)"
      ]
     },
     "execution_count": 15,
     "metadata": {},
     "output_type": "execute_result"
    }
   ],
   "source": [
    "model(data)"
   ]
  },
  {
   "cell_type": "code",
   "execution_count": null,
   "metadata": {},
   "outputs": [],
   "source": []
  }
 ],
 "metadata": {
  "kernelspec": {
   "display_name": ".udemy",
   "language": "python",
   "name": "python3"
  },
  "language_info": {
   "codemirror_mode": {
    "name": "ipython",
    "version": 3
   },
   "file_extension": ".py",
   "mimetype": "text/x-python",
   "name": "python",
   "nbconvert_exporter": "python",
   "pygments_lexer": "ipython3",
   "version": "3.11.7"
  }
 },
 "nbformat": 4,
 "nbformat_minor": 2
}
