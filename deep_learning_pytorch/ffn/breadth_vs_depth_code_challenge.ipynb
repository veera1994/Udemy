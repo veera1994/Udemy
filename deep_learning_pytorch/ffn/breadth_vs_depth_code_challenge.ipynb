{
 "cells": [
  {
   "cell_type": "code",
   "execution_count": 1,
   "metadata": {},
   "outputs": [],
   "source": [
    "import numpy as np\n",
    "import torch\n",
    "import torch.nn as nn\n",
    "import torch.nn.functional as F\n",
    "from torch.utils.data import TensorDataset, DataLoader\n",
    "from sklearn.model_selection import train_test_split\n",
    "import matplotlib.pyplot as plt\n",
    "import pandas as pd\n",
    "from torchsummary import summary"
   ]
  },
  {
   "cell_type": "code",
   "execution_count": 2,
   "metadata": {},
   "outputs": [],
   "source": [
    "data = pd.read_csv(r\"D:\\repos\\udemy\\.dataset\\mnist_train.csv\", delimiter=',', header=None)"
   ]
  },
  {
   "cell_type": "code",
   "execution_count": 3,
   "metadata": {},
   "outputs": [
    {
     "data": {
      "text/plain": [
       "(60000, 785)"
      ]
     },
     "execution_count": 3,
     "metadata": {},
     "output_type": "execute_result"
    }
   ],
   "source": [
    "data.shape"
   ]
  },
  {
   "cell_type": "code",
   "execution_count": 4,
   "metadata": {},
   "outputs": [
    {
     "data": {
      "text/html": [
       "<div>\n",
       "<style scoped>\n",
       "    .dataframe tbody tr th:only-of-type {\n",
       "        vertical-align: middle;\n",
       "    }\n",
       "\n",
       "    .dataframe tbody tr th {\n",
       "        vertical-align: top;\n",
       "    }\n",
       "\n",
       "    .dataframe thead th {\n",
       "        text-align: right;\n",
       "    }\n",
       "</style>\n",
       "<table border=\"1\" class=\"dataframe\">\n",
       "  <thead>\n",
       "    <tr style=\"text-align: right;\">\n",
       "      <th></th>\n",
       "      <th>0</th>\n",
       "      <th>1</th>\n",
       "      <th>2</th>\n",
       "      <th>3</th>\n",
       "      <th>4</th>\n",
       "      <th>5</th>\n",
       "      <th>6</th>\n",
       "      <th>7</th>\n",
       "      <th>8</th>\n",
       "      <th>9</th>\n",
       "      <th>...</th>\n",
       "      <th>775</th>\n",
       "      <th>776</th>\n",
       "      <th>777</th>\n",
       "      <th>778</th>\n",
       "      <th>779</th>\n",
       "      <th>780</th>\n",
       "      <th>781</th>\n",
       "      <th>782</th>\n",
       "      <th>783</th>\n",
       "      <th>784</th>\n",
       "    </tr>\n",
       "  </thead>\n",
       "  <tbody>\n",
       "    <tr>\n",
       "      <th>0</th>\n",
       "      <td>5</td>\n",
       "      <td>0</td>\n",
       "      <td>0</td>\n",
       "      <td>0</td>\n",
       "      <td>0</td>\n",
       "      <td>0</td>\n",
       "      <td>0</td>\n",
       "      <td>0</td>\n",
       "      <td>0</td>\n",
       "      <td>0</td>\n",
       "      <td>...</td>\n",
       "      <td>0</td>\n",
       "      <td>0</td>\n",
       "      <td>0</td>\n",
       "      <td>0</td>\n",
       "      <td>0</td>\n",
       "      <td>0</td>\n",
       "      <td>0</td>\n",
       "      <td>0</td>\n",
       "      <td>0</td>\n",
       "      <td>0</td>\n",
       "    </tr>\n",
       "    <tr>\n",
       "      <th>1</th>\n",
       "      <td>0</td>\n",
       "      <td>0</td>\n",
       "      <td>0</td>\n",
       "      <td>0</td>\n",
       "      <td>0</td>\n",
       "      <td>0</td>\n",
       "      <td>0</td>\n",
       "      <td>0</td>\n",
       "      <td>0</td>\n",
       "      <td>0</td>\n",
       "      <td>...</td>\n",
       "      <td>0</td>\n",
       "      <td>0</td>\n",
       "      <td>0</td>\n",
       "      <td>0</td>\n",
       "      <td>0</td>\n",
       "      <td>0</td>\n",
       "      <td>0</td>\n",
       "      <td>0</td>\n",
       "      <td>0</td>\n",
       "      <td>0</td>\n",
       "    </tr>\n",
       "    <tr>\n",
       "      <th>2</th>\n",
       "      <td>4</td>\n",
       "      <td>0</td>\n",
       "      <td>0</td>\n",
       "      <td>0</td>\n",
       "      <td>0</td>\n",
       "      <td>0</td>\n",
       "      <td>0</td>\n",
       "      <td>0</td>\n",
       "      <td>0</td>\n",
       "      <td>0</td>\n",
       "      <td>...</td>\n",
       "      <td>0</td>\n",
       "      <td>0</td>\n",
       "      <td>0</td>\n",
       "      <td>0</td>\n",
       "      <td>0</td>\n",
       "      <td>0</td>\n",
       "      <td>0</td>\n",
       "      <td>0</td>\n",
       "      <td>0</td>\n",
       "      <td>0</td>\n",
       "    </tr>\n",
       "    <tr>\n",
       "      <th>3</th>\n",
       "      <td>1</td>\n",
       "      <td>0</td>\n",
       "      <td>0</td>\n",
       "      <td>0</td>\n",
       "      <td>0</td>\n",
       "      <td>0</td>\n",
       "      <td>0</td>\n",
       "      <td>0</td>\n",
       "      <td>0</td>\n",
       "      <td>0</td>\n",
       "      <td>...</td>\n",
       "      <td>0</td>\n",
       "      <td>0</td>\n",
       "      <td>0</td>\n",
       "      <td>0</td>\n",
       "      <td>0</td>\n",
       "      <td>0</td>\n",
       "      <td>0</td>\n",
       "      <td>0</td>\n",
       "      <td>0</td>\n",
       "      <td>0</td>\n",
       "    </tr>\n",
       "    <tr>\n",
       "      <th>4</th>\n",
       "      <td>9</td>\n",
       "      <td>0</td>\n",
       "      <td>0</td>\n",
       "      <td>0</td>\n",
       "      <td>0</td>\n",
       "      <td>0</td>\n",
       "      <td>0</td>\n",
       "      <td>0</td>\n",
       "      <td>0</td>\n",
       "      <td>0</td>\n",
       "      <td>...</td>\n",
       "      <td>0</td>\n",
       "      <td>0</td>\n",
       "      <td>0</td>\n",
       "      <td>0</td>\n",
       "      <td>0</td>\n",
       "      <td>0</td>\n",
       "      <td>0</td>\n",
       "      <td>0</td>\n",
       "      <td>0</td>\n",
       "      <td>0</td>\n",
       "    </tr>\n",
       "  </tbody>\n",
       "</table>\n",
       "<p>5 rows × 785 columns</p>\n",
       "</div>"
      ],
      "text/plain": [
       "   0    1    2    3    4    5    6    7    8    9    ...  775  776  777  778  \\\n",
       "0    5    0    0    0    0    0    0    0    0    0  ...    0    0    0    0   \n",
       "1    0    0    0    0    0    0    0    0    0    0  ...    0    0    0    0   \n",
       "2    4    0    0    0    0    0    0    0    0    0  ...    0    0    0    0   \n",
       "3    1    0    0    0    0    0    0    0    0    0  ...    0    0    0    0   \n",
       "4    9    0    0    0    0    0    0    0    0    0  ...    0    0    0    0   \n",
       "\n",
       "   779  780  781  782  783  784  \n",
       "0    0    0    0    0    0    0  \n",
       "1    0    0    0    0    0    0  \n",
       "2    0    0    0    0    0    0  \n",
       "3    0    0    0    0    0    0  \n",
       "4    0    0    0    0    0    0  \n",
       "\n",
       "[5 rows x 785 columns]"
      ]
     },
     "execution_count": 4,
     "metadata": {},
     "output_type": "execute_result"
    }
   ],
   "source": [
    "data.head()"
   ]
  },
  {
   "cell_type": "code",
   "execution_count": 5,
   "metadata": {},
   "outputs": [],
   "source": [
    "labels = data[0]\n",
    "data = data.drop(columns=[0])"
   ]
  },
  {
   "cell_type": "code",
   "execution_count": 6,
   "metadata": {},
   "outputs": [],
   "source": [
    "data = np.array(data)\n",
    "labels = np.array(labels)"
   ]
  },
  {
   "cell_type": "code",
   "execution_count": 7,
   "metadata": {},
   "outputs": [],
   "source": [
    "# The min and max values of the data are 0 and 255\n",
    "# It is normalized to 0 and 1\n",
    "data_norm = data/np.max(data)"
   ]
  },
  {
   "attachments": {},
   "cell_type": "markdown",
   "metadata": {},
   "source": [
    "## Tensor dataset and loader"
   ]
  },
  {
   "cell_type": "code",
   "execution_count": 8,
   "metadata": {},
   "outputs": [],
   "source": [
    "data_tensor = torch.tensor(data_norm).float()\n",
    "label_tensor = torch.tensor(labels).long()"
   ]
  },
  {
   "cell_type": "code",
   "execution_count": 9,
   "metadata": {},
   "outputs": [
    {
     "data": {
      "text/plain": [
       "tensor([[0., 0., 0.,  ..., 0., 0., 0.],\n",
       "        [0., 0., 0.,  ..., 0., 0., 0.],\n",
       "        [0., 0., 0.,  ..., 0., 0., 0.],\n",
       "        ...,\n",
       "        [0., 0., 0.,  ..., 0., 0., 0.],\n",
       "        [0., 0., 0.,  ..., 0., 0., 0.],\n",
       "        [0., 0., 0.,  ..., 0., 0., 0.]])"
      ]
     },
     "execution_count": 9,
     "metadata": {},
     "output_type": "execute_result"
    }
   ],
   "source": [
    "data_tensor"
   ]
  },
  {
   "cell_type": "code",
   "execution_count": 10,
   "metadata": {},
   "outputs": [
    {
     "data": {
      "text/plain": [
       "tensor([5, 0, 4,  ..., 5, 6, 8])"
      ]
     },
     "execution_count": 10,
     "metadata": {},
     "output_type": "execute_result"
    }
   ],
   "source": [
    "label_tensor"
   ]
  },
  {
   "cell_type": "code",
   "execution_count": 11,
   "metadata": {},
   "outputs": [],
   "source": [
    "x_train, x_test, y_train, y_test = train_test_split(data_tensor, label_tensor,train_size=0.7)"
   ]
  },
  {
   "cell_type": "code",
   "execution_count": 12,
   "metadata": {},
   "outputs": [],
   "source": [
    "train_data = TensorDataset(x_train, y_train)\n",
    "test_data = TensorDataset(x_test, y_test)"
   ]
  },
  {
   "cell_type": "code",
   "execution_count": 13,
   "metadata": {},
   "outputs": [],
   "source": [
    "train_loader = DataLoader(train_data, batch_size=512, drop_last=True, shuffle=True)\n",
    "test_loader = DataLoader(test_data, batch_size=test_data.tensors[0].shape[0])"
   ]
  },
  {
   "cell_type": "code",
   "execution_count": 14,
   "metadata": {},
   "outputs": [
    {
     "name": "stdout",
     "output_type": "stream",
     "text": [
      "torch.Size([512, 784]) torch.Size([512])\n"
     ]
    }
   ],
   "source": [
    "for i in train_loader:\n",
    "    print(i[0].shape, i[1].shape)\n",
    "    break"
   ]
  },
  {
   "cell_type": "code",
   "execution_count": 15,
   "metadata": {},
   "outputs": [
    {
     "name": "stdout",
     "output_type": "stream",
     "text": [
      "torch.Size([18000, 784]) torch.Size([18000])\n"
     ]
    }
   ],
   "source": [
    "for i in test_loader:\n",
    "    print(i[0].shape, i[1].shape)"
   ]
  },
  {
   "attachments": {},
   "cell_type": "markdown",
   "metadata": {},
   "source": [
    "# Model"
   ]
  },
  {
   "cell_type": "code",
   "execution_count": 16,
   "metadata": {},
   "outputs": [],
   "source": [
    "def model(nunits, nlayers):\n",
    "    class ann(nn.Module):\n",
    "        def __init__(self, units, layers):\n",
    "            super().__init__()\n",
    "            # Module to store the layers\n",
    "            self.layers = nn.ModuleDict()\n",
    "            self.nlayers = layers\n",
    "            # Input layer\n",
    "            self.layers['input'] = nn.Linear(784, units)\n",
    "            for i in range(layers):\n",
    "                self.layers[f'layer{i}'] = nn.Linear(units, units)\n",
    "                \n",
    "            self.layers['output'] = nn.Linear(units, 10)\n",
    "\n",
    "        def forward(self, x):\n",
    "            x = F.relu(self.layers['input'](x))\n",
    "            for i in range(self.nlayers):\n",
    "                x = F.relu(self.layers[f'layer{i}'](x))\n",
    "            x = self.layers['output'](x)\n",
    "            return x\n",
    "    net = ann(nunits, nlayers)\n",
    "    opt = torch.optim.SGD(net.parameters(), lr=0.01)\n",
    "    lossfn = nn.CrossEntropyLoss()\n",
    "    return net, opt, lossfn"
   ]
  },
  {
   "cell_type": "code",
   "execution_count": 17,
   "metadata": {},
   "outputs": [],
   "source": [
    "net, opt, lossfn = model(64, 1)"
   ]
  },
  {
   "cell_type": "code",
   "execution_count": 18,
   "metadata": {},
   "outputs": [
    {
     "data": {
      "text/plain": [
       "ann(\n",
       "  (layers): ModuleDict(\n",
       "    (input): Linear(in_features=784, out_features=64, bias=True)\n",
       "    (layer0): Linear(in_features=64, out_features=64, bias=True)\n",
       "    (output): Linear(in_features=64, out_features=10, bias=True)\n",
       "  )\n",
       ")"
      ]
     },
     "execution_count": 18,
     "metadata": {},
     "output_type": "execute_result"
    }
   ],
   "source": [
    "net"
   ]
  },
  {
   "cell_type": "code",
   "execution_count": 19,
   "metadata": {},
   "outputs": [
    {
     "name": "stdout",
     "output_type": "stream",
     "text": [
      "torch.Size([5, 10])\n",
      "tensor([[ 0.2597,  0.1608,  0.1250,  0.0518,  0.0179,  0.0308,  0.0472, -0.1895,\n",
      "         -0.0327,  0.1022],\n",
      "        [ 0.1455,  0.0141,  0.1109, -0.0443, -0.0199, -0.0313,  0.0661, -0.0960,\n",
      "         -0.0286,  0.1317],\n",
      "        [ 0.1156,  0.1709,  0.1327, -0.0041,  0.0680, -0.0062,  0.0605, -0.1271,\n",
      "         -0.0549,  0.0601],\n",
      "        [ 0.1660,  0.0772,  0.2065,  0.0658, -0.0270,  0.0330, -0.0518, -0.1706,\n",
      "         -0.1269,  0.1322],\n",
      "        [ 0.1942,  0.0427,  0.2497,  0.0639, -0.0516,  0.1450, -0.0125, -0.1290,\n",
      "         -0.0514,  0.1071]], grad_fn=<AddmmBackward0>)\n"
     ]
    }
   ],
   "source": [
    "# testing the model with random data\n",
    "tempx = torch.randn(5, 784)\n",
    "y = net(tempx)\n",
    "print(y.shape)\n",
    "print(y)"
   ]
  },
  {
   "cell_type": "code",
   "execution_count": 20,
   "metadata": {},
   "outputs": [],
   "source": [
    "epochs = 60\n",
    "def train(nunits, nlayers):\n",
    "    net, opt, lossfn = model(nunits, nlayers)\n",
    "    losses = []\n",
    "    train_acc = []\n",
    "    test_acc = []\n",
    "\n",
    "    for i in range(epochs):\n",
    "        # training\n",
    "        batchacc = []\n",
    "        batchloss = []\n",
    "        for trainx, trainy in train_loader:\n",
    "            # batch train\n",
    "            yhat = net(trainx)\n",
    "            loss = lossfn(yhat, trainy)\n",
    "            # backprop\n",
    "            opt.zero_grad()\n",
    "            loss.backward()\n",
    "            opt.step()\n",
    "            # metrics\n",
    "            batchloss.append(loss.item())\n",
    "            matches = torch.argmax(yhat, axis=1) == trainy # Booleans\n",
    "            matches_num = matches.float() # convert booleans to numbers\n",
    "            accuracy = 100 * torch.mean(matches_num)\n",
    "            batchacc.append(accuracy)\n",
    "        train_acc.append(np.mean(batchacc))\n",
    "        losses.append(np.mean(batchloss))\n",
    "        # testing\n",
    "        testx, testy = next(iter(test_loader))\n",
    "        with torch.no_grad():\n",
    "            yhat = net(testx)\n",
    "        # metrics\n",
    "        test_acc.append(100*torch.mean((torch.argmax(yhat, axis=1)==testy).float()))\n",
    "    return train_acc, test_acc, losses"
   ]
  },
  {
   "cell_type": "code",
   "execution_count": 21,
   "metadata": {},
   "outputs": [],
   "source": [
    "num_layers = range(1, 4)\n",
    "num_units = np.arange(50,251,50)"
   ]
  },
  {
   "cell_type": "code",
   "execution_count": 22,
   "metadata": {},
   "outputs": [
    {
     "data": {
      "text/plain": [
       "array([ 50, 100, 150, 200, 250])"
      ]
     },
     "execution_count": 22,
     "metadata": {},
     "output_type": "execute_result"
    }
   ],
   "source": [
    "num_units"
   ]
  },
  {
   "cell_type": "code",
   "execution_count": 23,
   "metadata": {},
   "outputs": [
    {
     "data": {
      "text/plain": [
       "[1, 2, 3]"
      ]
     },
     "execution_count": 23,
     "metadata": {},
     "output_type": "execute_result"
    }
   ],
   "source": [
    "list(num_layers)"
   ]
  },
  {
   "cell_type": "code",
   "execution_count": 24,
   "metadata": {},
   "outputs": [],
   "source": [
    "train_acc = np.zeros((len(num_layers), len(num_units)))\n",
    "test_acc = np.zeros((len(num_layers), len(num_units)))\n",
    "losses = np.zeros((len(num_layers), len(num_units)))"
   ]
  },
  {
   "cell_type": "code",
   "execution_count": 25,
   "metadata": {},
   "outputs": [
    {
     "name": "stdout",
     "output_type": "stream",
     "text": [
      "Finished - num_units: 50, num_layers: 1\n",
      "Train accuracy: 91.13758087158203, Test accuracy: 90.60333251953125, Loss: 0.31177703153069425\n",
      "Finished - num_units: 100, num_layers: 1\n",
      "Train accuracy: 91.6125259399414, Test accuracy: 91.15666198730469, Loss: 0.2923477446160666\n",
      "Finished - num_units: 150, num_layers: 1\n",
      "Train accuracy: 91.58060455322266, Test accuracy: 90.98999786376953, Loss: 0.2968666564764046\n",
      "Finished - num_units: 200, num_layers: 1\n",
      "Train accuracy: 91.87071228027344, Test accuracy: 91.40332794189453, Loss: 0.28483149372949834\n",
      "Finished - num_units: 250, num_layers: 1\n",
      "Train accuracy: 91.69874572753906, Test accuracy: 91.2844467163086, Loss: 0.2897292212015245\n",
      "Finished - num_units: 50, num_layers: 2\n",
      "Train accuracy: 90.67930603027344, Test accuracy: 90.03333282470703, Loss: 0.3227127610546786\n",
      "Finished - num_units: 100, num_layers: 2\n",
      "Train accuracy: 91.47865295410156, Test accuracy: 90.8722152709961, Loss: 0.29995831970761466\n",
      "Finished - num_units: 150, num_layers: 2\n",
      "Train accuracy: 91.53057861328125, Test accuracy: 90.90333557128906, Loss: 0.29883110225200654\n",
      "Finished - num_units: 200, num_layers: 2\n",
      "Train accuracy: 91.49771881103516, Test accuracy: 90.8455581665039, Loss: 0.29819021533902096\n",
      "Finished - num_units: 250, num_layers: 2\n",
      "Train accuracy: 91.69064331054688, Test accuracy: 91.22555541992188, Loss: 0.2939474693158778\n",
      "Finished - num_units: 50, num_layers: 3\n",
      "Train accuracy: 89.0177230834961, Test accuracy: 88.66221618652344, Loss: 0.38861164777744106\n",
      "Finished - num_units: 100, num_layers: 3\n",
      "Train accuracy: 89.97380065917969, Test accuracy: 89.34111022949219, Loss: 0.3550169747777101\n",
      "Finished - num_units: 150, num_layers: 3\n",
      "Train accuracy: 90.1414794921875, Test accuracy: 89.5322265625, Loss: 0.3471732385638283\n",
      "Finished - num_units: 200, num_layers: 3\n",
      "Train accuracy: 89.58793640136719, Test accuracy: 88.98999786376953, Loss: 0.36509190252641355\n",
      "Finished - num_units: 250, num_layers: 3\n",
      "Train accuracy: 90.33631896972656, Test accuracy: 89.84111022949219, Loss: 0.33789294551058513\n"
     ]
    }
   ],
   "source": [
    "for i in range(len(num_layers)):\n",
    "    for j in range(len(num_units)):\n",
    "        x, y, z = train(num_units[j], num_layers[i])\n",
    "        train_acc[i,j] = np.mean(x[-5:])\n",
    "        test_acc[i,j] = np.mean(y[-5:])\n",
    "        losses[i,j] = np.mean(z[-5:])\n",
    "        print(f'Finished - num_units: {num_units[j]}, num_layers: {num_layers[i]}')\n",
    "        print(f'Train accuracy: {train_acc[i,j]}, Test accuracy: {test_acc[i,j]}, Loss: {losses[i,j]}')"
   ]
  },
  {
   "cell_type": "markdown",
   "metadata": {},
   "source": [
    "#### In general wider networks are better than deeper networks because the wider networks have more parameters to learn from. However, the wider networks are more prone to overfitting. The deeper networks are better at generalizing but they are more prone to vanishing gradient problem. So, the best approach is to use a combination of both wider and deeper networks"
   ]
  }
 ],
 "metadata": {
  "kernelspec": {
   "display_name": ".venv",
   "language": "python",
   "name": "python3"
  },
  "language_info": {
   "codemirror_mode": {
    "name": "ipython",
    "version": 3
   },
   "file_extension": ".py",
   "mimetype": "text/x-python",
   "name": "python",
   "nbconvert_exporter": "python",
   "pygments_lexer": "ipython3",
   "version": "3.11.7"
  },
  "orig_nbformat": 4
 },
 "nbformat": 4,
 "nbformat_minor": 2
}
