{
 "cells": [
  {
   "cell_type": "code",
   "execution_count": 1,
   "metadata": {},
   "outputs": [],
   "source": [
    "import numpy as np\n",
    "import torch\n",
    "import torch.nn as nn\n",
    "import torch.nn.functional as F\n",
    "from torch.utils.data import TensorDataset, DataLoader\n",
    "from sklearn.model_selection import train_test_split\n",
    "import matplotlib.pyplot as plt\n",
    "import pandas as pd\n",
    "from torchsummary import summary"
   ]
  },
  {
   "cell_type": "code",
   "execution_count": 2,
   "metadata": {},
   "outputs": [],
   "source": [
    "data = pd.read_csv(r\"D:\\repos\\udemy\\.dataset\\mnist_train.csv\", delimiter=',', header=None)"
   ]
  },
  {
   "cell_type": "code",
   "execution_count": 3,
   "metadata": {},
   "outputs": [],
   "source": [
    "labels = data[0]\n",
    "data = data.drop(columns=[0])"
   ]
  },
  {
   "cell_type": "code",
   "execution_count": 4,
   "metadata": {},
   "outputs": [],
   "source": [
    "data = np.array(data)\n",
    "labels = np.array(labels)"
   ]
  },
  {
   "cell_type": "code",
   "execution_count": 5,
   "metadata": {},
   "outputs": [],
   "source": [
    "# The min and max values of the data are 0 and 255\n",
    "# It is normalized to 0 and 1\n",
    "data_norm = data/np.max(data)"
   ]
  },
  {
   "attachments": {},
   "cell_type": "markdown",
   "metadata": {},
   "source": [
    "## Tensor dataset and loader"
   ]
  },
  {
   "cell_type": "code",
   "execution_count": 6,
   "metadata": {},
   "outputs": [],
   "source": [
    "data_tensor = torch.tensor(data_norm).float()\n",
    "label_tensor = torch.tensor(labels).long()"
   ]
  },
  {
   "cell_type": "code",
   "execution_count": 7,
   "metadata": {},
   "outputs": [
    {
     "data": {
      "text/plain": [
       "tensor([[0., 0., 0.,  ..., 0., 0., 0.],\n",
       "        [0., 0., 0.,  ..., 0., 0., 0.],\n",
       "        [0., 0., 0.,  ..., 0., 0., 0.],\n",
       "        ...,\n",
       "        [0., 0., 0.,  ..., 0., 0., 0.],\n",
       "        [0., 0., 0.,  ..., 0., 0., 0.],\n",
       "        [0., 0., 0.,  ..., 0., 0., 0.]])"
      ]
     },
     "execution_count": 7,
     "metadata": {},
     "output_type": "execute_result"
    }
   ],
   "source": [
    "data_tensor"
   ]
  },
  {
   "cell_type": "code",
   "execution_count": 8,
   "metadata": {},
   "outputs": [
    {
     "data": {
      "text/plain": [
       "tensor([5, 0, 4,  ..., 5, 6, 8])"
      ]
     },
     "execution_count": 8,
     "metadata": {},
     "output_type": "execute_result"
    }
   ],
   "source": [
    "label_tensor"
   ]
  },
  {
   "cell_type": "code",
   "execution_count": 9,
   "metadata": {},
   "outputs": [],
   "source": [
    "x_train, x_test, y_train, y_test = train_test_split(data_tensor, label_tensor,train_size=0.7)"
   ]
  },
  {
   "cell_type": "code",
   "execution_count": 10,
   "metadata": {},
   "outputs": [
    {
     "data": {
      "text/plain": [
       "torch.Size([42000, 784])"
      ]
     },
     "execution_count": 10,
     "metadata": {},
     "output_type": "execute_result"
    }
   ],
   "source": [
    "x_train.shape"
   ]
  },
  {
   "cell_type": "code",
   "execution_count": 11,
   "metadata": {},
   "outputs": [
    {
     "data": {
      "text/plain": [
       "torch.Size([42000])"
      ]
     },
     "execution_count": 11,
     "metadata": {},
     "output_type": "execute_result"
    }
   ],
   "source": [
    "y_train.shape"
   ]
  },
  {
   "cell_type": "code",
   "execution_count": 12,
   "metadata": {},
   "outputs": [],
   "source": [
    "train_data = TensorDataset(x_train, y_train)\n",
    "test_data = TensorDataset(x_test, y_test)"
   ]
  },
  {
   "cell_type": "code",
   "execution_count": 13,
   "metadata": {},
   "outputs": [
    {
     "data": {
      "text/plain": [
       "(tensor([[0., 0., 0.,  ..., 0., 0., 0.],\n",
       "         [0., 0., 0.,  ..., 0., 0., 0.],\n",
       "         [0., 0., 0.,  ..., 0., 0., 0.],\n",
       "         ...,\n",
       "         [0., 0., 0.,  ..., 0., 0., 0.],\n",
       "         [0., 0., 0.,  ..., 0., 0., 0.],\n",
       "         [0., 0., 0.,  ..., 0., 0., 0.]]),\n",
       " tensor([3, 4, 2,  ..., 5, 9, 0]))"
      ]
     },
     "execution_count": 13,
     "metadata": {},
     "output_type": "execute_result"
    }
   ],
   "source": [
    "train_data.tensors"
   ]
  },
  {
   "cell_type": "code",
   "execution_count": 14,
   "metadata": {},
   "outputs": [
    {
     "data": {
      "text/plain": [
       "(tensor([[0., 0., 0.,  ..., 0., 0., 0.],\n",
       "         [0., 0., 0.,  ..., 0., 0., 0.],\n",
       "         [0., 0., 0.,  ..., 0., 0., 0.],\n",
       "         ...,\n",
       "         [0., 0., 0.,  ..., 0., 0., 0.],\n",
       "         [0., 0., 0.,  ..., 0., 0., 0.],\n",
       "         [0., 0., 0.,  ..., 0., 0., 0.]]),\n",
       " tensor([3, 0, 9,  ..., 2, 0, 2]))"
      ]
     },
     "execution_count": 14,
     "metadata": {},
     "output_type": "execute_result"
    }
   ],
   "source": [
    "test_data.tensors"
   ]
  },
  {
   "cell_type": "code",
   "execution_count": 15,
   "metadata": {},
   "outputs": [],
   "source": [
    "train_loader = DataLoader(train_data, batch_size=64, drop_last=True, shuffle=True)\n",
    "test_loader = DataLoader(test_data, batch_size=test_data.tensors[0].shape[0])"
   ]
  },
  {
   "cell_type": "code",
   "execution_count": 16,
   "metadata": {},
   "outputs": [
    {
     "name": "stdout",
     "output_type": "stream",
     "text": [
      "torch.Size([18000, 784]) torch.Size([18000])\n"
     ]
    }
   ],
   "source": [
    "for i in test_loader:\n",
    "    print(i[0].shape, i[1].shape)"
   ]
  },
  {
   "cell_type": "code",
   "execution_count": 17,
   "metadata": {},
   "outputs": [
    {
     "name": "stdout",
     "output_type": "stream",
     "text": [
      "Variable           Type             Data/Info\n",
      "---------------------------------------------\n",
      "DataLoader         type             <class 'torch.utils.data.dataloader.DataLoader'>\n",
      "F                  module           <module 'torch.nn.functio<...>orch\\\\nn\\\\functional.py'>\n",
      "TensorDataset      type             <class 'torch.utils.data.dataset.TensorDataset'>\n",
      "data               ndarray          60000x784: 47040000 elems, type `int64`, 376320000 bytes (358.88671875 Mb)\n",
      "data_norm          ndarray          60000x784: 47040000 elems, type `float64`, 376320000 bytes (358.88671875 Mb)\n",
      "data_tensor        Tensor           tensor([[0., 0., 0.,  ...<...>, 0.,  ..., 0., 0., 0.]])\n",
      "i                  list             n=2\n",
      "label_tensor       Tensor           tensor([5, 0, 4,  ..., 5, 6, 8])\n",
      "labels             ndarray          60000: 60000 elems, type `int64`, 480000 bytes (468.75 kb)\n",
      "nn                 module           <module 'torch.nn' from '<...>\\torch\\\\nn\\\\__init__.py'>\n",
      "np                 module           <module 'numpy' from 'd:\\<...>ges\\\\numpy\\\\__init__.py'>\n",
      "pd                 module           <module 'pandas' from 'd:<...>es\\\\pandas\\\\__init__.py'>\n",
      "plt                module           <module 'matplotlib.pyplo<...>\\\\matplotlib\\\\pyplot.py'>\n",
      "summary            function         <function summary at 0x000001F42F1F8040>\n",
      "test_data          TensorDataset    <torch.utils.data.dataset<...>ct at 0x000001F405DD5BE0>\n",
      "test_loader        DataLoader       <torch.utils.data.dataloa<...>ct at 0x000001F42F1F5EB0>\n",
      "torch              module           <module 'torch' from 'd:\\<...>ges\\\\torch\\\\__init__.py'>\n",
      "train_data         TensorDataset    <torch.utils.data.dataset<...>ct at 0x000001F405DD5D90>\n",
      "train_loader       DataLoader       <torch.utils.data.dataloa<...>ct at 0x000001F42F1F5940>\n",
      "train_test_split   function         <function train_test_split at 0x000001F42C2D83A0>\n",
      "x_test             Tensor           tensor([[0., 0., 0.,  ...<...>, 0.,  ..., 0., 0., 0.]])\n",
      "x_train            Tensor           tensor([[0., 0., 0.,  ...<...>, 0.,  ..., 0., 0., 0.]])\n",
      "y_test             Tensor           tensor([3, 0, 9,  ..., 2, 0, 2])\n",
      "y_train            Tensor           tensor([3, 4, 2,  ..., 5, 9, 0])\n"
     ]
    }
   ],
   "source": [
    "%whos"
   ]
  },
  {
   "attachments": {},
   "cell_type": "markdown",
   "metadata": {},
   "source": [
    "## Model"
   ]
  },
  {
   "cell_type": "code",
   "execution_count": 20,
   "metadata": {},
   "outputs": [],
   "source": [
    "def create_model():\n",
    "    class ann(nn.Module):\n",
    "        def __init__(self):\n",
    "            super().__init__()\n",
    "            \n",
    "            self.input = nn.Linear(784, 32)\n",
    "            self.hidden1 = nn.Linear(32, 64)\n",
    "            self.hidden2 = nn.Linear(64, 64)\n",
    "            self.output = nn.Linear(64, 10)\n",
    "\n",
    "        def forward(self, x):\n",
    "            x = F.relu(self.input(x))\n",
    "            x = F.relu(self.hidden1(x))\n",
    "            x = F.relu(self.hidden2(x))\n",
    "            x = F.relu(self.output(x))\n",
    "            return torch.log_softmax(x, axis=1)\n",
    "        #  log-softmax the output, because I am using NLLLoss instead of CrossEntropy\n",
    "    net = ann()\n",
    "    lossfn = nn.NLLLoss()\n",
    "    # NegativeLogLikelihood\n",
    "    opt = torch.optim.Adam(net.parameters(), lr=0.01)\n",
    "\n",
    "    return net, lossfn, opt"
   ]
  },
  {
   "cell_type": "code",
   "execution_count": 21,
   "metadata": {},
   "outputs": [],
   "source": [
    "net, lossfn, opt = create_model()"
   ]
  },
  {
   "cell_type": "code",
   "execution_count": 22,
   "metadata": {},
   "outputs": [
    {
     "data": {
      "text/plain": [
       "ann(\n",
       "  (input): Linear(in_features=784, out_features=32, bias=True)\n",
       "  (hidden1): Linear(in_features=32, out_features=64, bias=True)\n",
       "  (hidden2): Linear(in_features=64, out_features=64, bias=True)\n",
       "  (output): Linear(in_features=64, out_features=10, bias=True)\n",
       ")"
      ]
     },
     "execution_count": 22,
     "metadata": {},
     "output_type": "execute_result"
    }
   ],
   "source": [
    "net"
   ]
  },
  {
   "cell_type": "code",
   "execution_count": 23,
   "metadata": {},
   "outputs": [
    {
     "name": "stdout",
     "output_type": "stream",
     "text": [
      "==========================================================================================\n",
      "Layer (type:depth-idx)                   Output Shape              Param #\n",
      "==========================================================================================\n",
      "├─Linear: 1-1                            [-1, 10, 32]              25,120\n",
      "├─Linear: 1-2                            [-1, 10, 64]              2,112\n",
      "├─Linear: 1-3                            [-1, 10, 64]              4,160\n",
      "├─Linear: 1-4                            [-1, 10, 10]              650\n",
      "==========================================================================================\n",
      "Total params: 32,042\n",
      "Trainable params: 32,042\n",
      "Non-trainable params: 0\n",
      "Total mult-adds (M): 0.03\n",
      "==========================================================================================\n",
      "Input size (MB): 0.03\n",
      "Forward/backward pass size (MB): 0.01\n",
      "Params size (MB): 0.12\n",
      "Estimated Total Size (MB): 0.17\n",
      "==========================================================================================\n"
     ]
    },
    {
     "data": {
      "text/plain": [
       "==========================================================================================\n",
       "Layer (type:depth-idx)                   Output Shape              Param #\n",
       "==========================================================================================\n",
       "├─Linear: 1-1                            [-1, 10, 32]              25,120\n",
       "├─Linear: 1-2                            [-1, 10, 64]              2,112\n",
       "├─Linear: 1-3                            [-1, 10, 64]              4,160\n",
       "├─Linear: 1-4                            [-1, 10, 10]              650\n",
       "==========================================================================================\n",
       "Total params: 32,042\n",
       "Trainable params: 32,042\n",
       "Non-trainable params: 0\n",
       "Total mult-adds (M): 0.03\n",
       "==========================================================================================\n",
       "Input size (MB): 0.03\n",
       "Forward/backward pass size (MB): 0.01\n",
       "Params size (MB): 0.12\n",
       "Estimated Total Size (MB): 0.17\n",
       "=========================================================================================="
      ]
     },
     "execution_count": 23,
     "metadata": {},
     "output_type": "execute_result"
    }
   ],
   "source": [
    "summary(net, (10,784))"
   ]
  },
  {
   "cell_type": "code",
   "execution_count": 24,
   "metadata": {},
   "outputs": [],
   "source": [
    "epochs = 60\n",
    "def train():\n",
    "    losses = []\n",
    "    train_acc = []\n",
    "    test_acc = []\n",
    "\n",
    "    for i in range(epochs):\n",
    "        # training\n",
    "        batchacc = []\n",
    "        batchloss = []\n",
    "        for trainx, trainy in train_loader:\n",
    "            # batch train\n",
    "            yhat = net(trainx)\n",
    "            loss = lossfn(yhat, trainy)\n",
    "\n",
    "            opt.zero_grad()\n",
    "            loss.backward()\n",
    "            opt.step()\n",
    "\n",
    "            batchloss.append(loss.item())\n",
    "            matches = torch.argmax(yhat, axis=1) == trainy # Booleans\n",
    "            matches_num = matches.float() # convert booleans to numbers\n",
    "            accuracy = 100 * torch.mean(matches_num)\n",
    "            batchacc.append(accuracy)\n",
    "        train_acc.append(np.mean(batchacc))\n",
    "        losses.append(np.mean(batchloss))\n",
    "\n",
    "        # testing\n",
    "        testx, testy = next(iter(test_loader))\n",
    "        yhat = net(testx)\n",
    "\n",
    "        test_acc.append(100*torch.mean((torch.argmax(yhat, axis=1)==testy).float()))\n",
    "    return train_acc, test_acc, losses"
   ]
  },
  {
   "cell_type": "code",
   "execution_count": 25,
   "metadata": {},
   "outputs": [],
   "source": [
    "net, lossfn, opt = create_model()"
   ]
  },
  {
   "cell_type": "code",
   "execution_count": 26,
   "metadata": {},
   "outputs": [],
   "source": [
    "train_acc, test_acc, losses = train()"
   ]
  },
  {
   "cell_type": "code",
   "execution_count": 27,
   "metadata": {},
   "outputs": [
    {
     "data": {
      "text/plain": [
       "<matplotlib.legend.Legend at 0x1f42f326a30>"
      ]
     },
     "execution_count": 27,
     "metadata": {},
     "output_type": "execute_result"
    },
    {
     "data": {
      "image/png": "[encoded data removed]",
      "text/plain": [
       "<Figure size 1600x400 with 3 Axes>"
      ]
     },
     "metadata": {},
     "output_type": "display_data"
    }
   ],
   "source": [
    "fig, ax = plt.subplots(1, 3, figsize=(16,4))\n",
    "ax[0].plot(range(epochs), train_acc)\n",
    "ax[0].plot(range(epochs), train_acc)\n",
    "ax[0].set_xlabel('epochs')\n",
    "ax[0].set_ylabel('accuracy')\n",
    "ax[0].legend(['train_acc'])\n",
    "\n",
    "ax[1].plot(range(epochs), test_acc)\n",
    "ax[1].plot(range(epochs), test_acc)\n",
    "ax[1].set_xlabel('epochs')\n",
    "ax[1].set_ylabel('accuracy')\n",
    "ax[1].legend(['test_acc'])\n",
    "\n",
    "\n",
    "ax[2].plot(range(epochs), losses)\n",
    "ax[2].plot(range(epochs), losses)\n",
    "ax[2].set_xlabel('epochs')\n",
    "ax[2].set_ylabel('losses')\n",
    "ax[2].legend(['losses'])"
   ]
  },
  {
   "attachments": {},
   "cell_type": "markdown",
   "metadata": {},
   "source": [
    "## Inspecting the results"
   ]
  },
  {
   "cell_type": "code",
   "execution_count": 28,
   "metadata": {},
   "outputs": [],
   "source": [
    "x, y = next(iter(test_loader))\n",
    "preds = net(x)"
   ]
  },
  {
   "cell_type": "code",
   "execution_count": 29,
   "metadata": {},
   "outputs": [
    {
     "data": {
      "text/plain": [
       "tensor([[-27.7651, -27.7651, -27.7651,  ..., -27.7651, -27.7651, -27.7651],\n",
       "        [  0.0000, -38.7152, -38.7152,  ..., -38.7152, -38.7152, -38.7152],\n",
       "        [ -2.3026,  -2.3026,  -2.3026,  ...,  -2.3026,  -2.3026,  -2.3026],\n",
       "        ...,\n",
       "        [-34.7187, -34.7187,   0.0000,  ..., -34.7187, -34.7187, -34.7187],\n",
       "        [  0.0000, -80.5924, -80.5924,  ..., -80.5924, -80.5924, -80.5924],\n",
       "        [ -2.4057,  -2.4057,  -2.4057,  ...,  -2.4057,  -2.4057,  -2.4057]])"
      ]
     },
     "execution_count": 29,
     "metadata": {},
     "output_type": "execute_result"
    }
   ],
   "source": [
    "preds.detach()"
   ]
  },
  {
   "cell_type": "code",
   "execution_count": 30,
   "metadata": {},
   "outputs": [
    {
     "data": {
      "text/plain": [
       "tensor([[8.7456e-13, 8.7456e-13, 8.7456e-13,  ..., 8.7456e-13, 8.7456e-13,\n",
       "         8.7456e-13],\n",
       "        [1.0000e+00, 1.5353e-17, 1.5353e-17,  ..., 1.5353e-17, 1.5353e-17,\n",
       "         1.5353e-17],\n",
       "        [1.0000e-01, 1.0000e-01, 1.0000e-01,  ..., 1.0000e-01, 1.0000e-01,\n",
       "         1.0000e-01],\n",
       "        ...,\n",
       "        [8.3537e-16, 8.3537e-16, 1.0000e+00,  ..., 8.3537e-16, 8.3537e-16,\n",
       "         8.3537e-16],\n",
       "        [1.0000e+00, 9.9810e-36, 9.9810e-36,  ..., 9.9810e-36, 9.9810e-36,\n",
       "         9.9810e-36],\n",
       "        [9.0203e-02, 9.0203e-02, 9.0203e-02,  ..., 9.0203e-02, 9.0203e-02,\n",
       "         9.0203e-02]])"
      ]
     },
     "execution_count": 30,
     "metadata": {},
     "output_type": "execute_result"
    }
   ],
   "source": [
    "torch.exp(preds.detach())"
   ]
  },
  {
   "cell_type": "code",
   "execution_count": 31,
   "metadata": {},
   "outputs": [
    {
     "data": {
      "text/plain": [
       "torch.return_types.max(\n",
       "values=tensor([ 0.0000,  0.0000, -2.3026,  ...,  0.0000,  0.0000, -1.6704]),\n",
       "indices=tensor([3, 0, 0,  ..., 2, 0, 3]))"
      ]
     },
     "execution_count": 31,
     "metadata": {},
     "output_type": "execute_result"
    }
   ],
   "source": [
    "torch.max(preds.detach(), axis=1)"
   ]
  },
  {
   "cell_type": "code",
   "execution_count": 32,
   "metadata": {},
   "outputs": [
    {
     "data": {
      "text/plain": [
       "torch.return_types.max(\n",
       "values=tensor([1.0000, 1.0000, 0.1000,  ..., 1.0000, 1.0000, 0.1882]),\n",
       "indices=tensor([3, 0, 0,  ..., 2, 0, 3]))"
      ]
     },
     "execution_count": 32,
     "metadata": {},
     "output_type": "execute_result"
    }
   ],
   "source": [
    "torch.max(torch.exp(preds.detach()), axis=1)"
   ]
  },
  {
   "cell_type": "code",
   "execution_count": 33,
   "metadata": {},
   "outputs": [
    {
     "data": {
      "image/png": "[encoded data removed]",
      "text/plain": [
       "<Figure size 640x480 with 1 Axes>"
      ]
     },
     "metadata": {},
     "output_type": "display_data"
    }
   ],
   "source": [
    "plt.bar(range(10), preds.detach()[0])\n",
    "plt.xlabel('labels')\n",
    "plt.ylabel('log-of the probs')\n",
    "plt.show()"
   ]
  },
  {
   "cell_type": "code",
   "execution_count": 34,
   "metadata": {},
   "outputs": [
    {
     "data": {
      "image/png": "[encoded data removed]",
      "text/plain": [
       "<Figure size 640x480 with 1 Axes>"
      ]
     },
     "metadata": {},
     "output_type": "display_data"
    }
   ],
   "source": [
    "plt.bar(range(10), torch.exp(preds.detach())[0])\n",
    "plt.xlabel('labels')\n",
    "plt.ylabel('log-of the probs')\n",
    "plt.show()"
   ]
  },
  {
   "cell_type": "code",
   "execution_count": 35,
   "metadata": {},
   "outputs": [
    {
     "data": {
      "text/plain": [
       "(array([    2,     3,     5, ..., 17994, 17995, 17999], dtype=int64),)"
      ]
     },
     "execution_count": 35,
     "metadata": {},
     "output_type": "execute_result"
    }
   ],
   "source": [
    "np.where(torch.argmax(preds, axis=1) != y)"
   ]
  },
  {
   "cell_type": "code",
   "execution_count": 122,
   "metadata": {},
   "outputs": [
    {
     "data": {
      "text/plain": [
       "<matplotlib.image.AxesImage at 0x1f791faef40>"
      ]
     },
     "execution_count": 122,
     "metadata": {},
     "output_type": "execute_result"
    },
    {
     "data": {
      "image/png": "[encoded data removed]",
      "text/plain": [
       "<Figure size 1000x400 with 2 Axes>"
      ]
     },
     "metadata": {},
     "output_type": "display_data"
    }
   ],
   "source": [
    "fig, ax = plt.subplots(1,2, figsize=(10,4))\n",
    "ax[0].bar(range(10), torch.exp(preds.detach())[4])\n",
    "ax[0].set_xlabel('labels')\n",
    "ax[0].set_ylabel('log-of the probs')\n",
    "\n",
    "ax[1].imshow(np.reshape(x[4,:], (28,28)))\n"
   ]
  },
  {
   "cell_type": "code",
   "execution_count": null,
   "metadata": {},
   "outputs": [],
   "source": []
  }
 ],
 "metadata": {
  "kernelspec": {
   "display_name": ".venv",
   "language": "python",
   "name": "python3"
  },
  "language_info": {
   "codemirror_mode": {
    "name": "ipython",
    "version": 3
   },
   "file_extension": ".py",
   "mimetype": "text/x-python",
   "name": "python",
   "nbconvert_exporter": "python",
   "pygments_lexer": "ipython3",
   "version": "3.8.10"
  },
  "orig_nbformat": 4
 },
 "nbformat": 4,
 "nbformat_minor": 2
}
