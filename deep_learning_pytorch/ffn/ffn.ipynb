{
 "cells": [
  {
   "cell_type": "code",
   "execution_count": 21,
   "metadata": {},
   "outputs": [],
   "source": [
    "import numpy as np\n",
    "import torch\n",
    "import torch.nn as nn\n",
    "import torch.nn.functional as F\n",
    "from torch.utils.data import TensorDataset, DataLoader\n",
    "from sklearn.model_selection import train_test_split\n",
    "import matplotlib.pyplot as plt\n",
    "import pandas as pd\n",
    "from torchsummary import summary"
   ]
  },
  {
   "cell_type": "code",
   "execution_count": 22,
   "metadata": {},
   "outputs": [],
   "source": [
    "data = pd.read_csv(\"/Users/veera/Data/Repos/Udemy/.dataset/mnist_train.csv\", delimiter=',', header=None)"
   ]
  },
  {
   "cell_type": "code",
   "execution_count": 23,
   "metadata": {},
   "outputs": [],
   "source": [
    "labels = data[0]\n",
    "data = data.drop(columns=[0])"
   ]
  },
  {
   "cell_type": "code",
   "execution_count": 24,
   "metadata": {},
   "outputs": [],
   "source": [
    "data = np.array(data)\n",
    "labels = np.array(labels)"
   ]
  },
  {
   "cell_type": "code",
   "execution_count": 25,
   "metadata": {},
   "outputs": [],
   "source": [
    "# The min and max values of the data are 0 and 255\n",
    "# It is normalized to 0 and 1\n",
    "data_norm = data/np.max(data)"
   ]
  },
  {
   "attachments": {},
   "cell_type": "markdown",
   "metadata": {},
   "source": [
    "## Tensor dataset and loader"
   ]
  },
  {
   "cell_type": "code",
   "execution_count": 26,
   "metadata": {},
   "outputs": [],
   "source": [
    "data_tensor = torch.tensor(data_norm).float()\n",
    "label_tensor = torch.tensor(labels).long()"
   ]
  },
  {
   "cell_type": "code",
   "execution_count": 27,
   "metadata": {},
   "outputs": [
    {
     "data": {
      "text/plain": [
       "tensor([[0., 0., 0.,  ..., 0., 0., 0.],\n",
       "        [0., 0., 0.,  ..., 0., 0., 0.],\n",
       "        [0., 0., 0.,  ..., 0., 0., 0.],\n",
       "        ...,\n",
       "        [0., 0., 0.,  ..., 0., 0., 0.],\n",
       "        [0., 0., 0.,  ..., 0., 0., 0.],\n",
       "        [0., 0., 0.,  ..., 0., 0., 0.]])"
      ]
     },
     "execution_count": 27,
     "metadata": {},
     "output_type": "execute_result"
    }
   ],
   "source": [
    "data_tensor"
   ]
  },
  {
   "cell_type": "code",
   "execution_count": 28,
   "metadata": {},
   "outputs": [
    {
     "data": {
      "text/plain": [
       "tensor([5, 0, 4,  ..., 5, 6, 8])"
      ]
     },
     "execution_count": 28,
     "metadata": {},
     "output_type": "execute_result"
    }
   ],
   "source": [
    "label_tensor"
   ]
  },
  {
   "cell_type": "code",
   "execution_count": 38,
   "metadata": {},
   "outputs": [],
   "source": [
    "x_train, x_test, y_train, y_test = train_test_split(data_tensor, label_tensor, train_size=0.7, stratify=label_tensor)"
   ]
  },
  {
   "cell_type": "code",
   "execution_count": 39,
   "metadata": {},
   "outputs": [
    {
     "data": {
      "text/plain": [
       "torch.Size([42000, 784])"
      ]
     },
     "execution_count": 39,
     "metadata": {},
     "output_type": "execute_result"
    }
   ],
   "source": [
    "x_train.shape"
   ]
  },
  {
   "cell_type": "code",
   "execution_count": 40,
   "metadata": {},
   "outputs": [
    {
     "data": {
      "text/plain": [
       "torch.Size([42000])"
      ]
     },
     "execution_count": 40,
     "metadata": {},
     "output_type": "execute_result"
    }
   ],
   "source": [
    "y_train.shape"
   ]
  },
  {
   "cell_type": "code",
   "execution_count": 41,
   "metadata": {},
   "outputs": [],
   "source": [
    "train_data = TensorDataset(x_train, y_train)\n",
    "test_data = TensorDataset(x_test, y_test)"
   ]
  },
  {
   "cell_type": "code",
   "execution_count": 42,
   "metadata": {},
   "outputs": [
    {
     "data": {
      "text/plain": [
       "(tensor([[0., 0., 0.,  ..., 0., 0., 0.],\n",
       "         [0., 0., 0.,  ..., 0., 0., 0.],\n",
       "         [0., 0., 0.,  ..., 0., 0., 0.],\n",
       "         ...,\n",
       "         [0., 0., 0.,  ..., 0., 0., 0.],\n",
       "         [0., 0., 0.,  ..., 0., 0., 0.],\n",
       "         [0., 0., 0.,  ..., 0., 0., 0.]]),\n",
       " tensor([8, 4, 3,  ..., 4, 6, 2]))"
      ]
     },
     "execution_count": 42,
     "metadata": {},
     "output_type": "execute_result"
    }
   ],
   "source": [
    "train_data.tensors"
   ]
  },
  {
   "cell_type": "code",
   "execution_count": 43,
   "metadata": {},
   "outputs": [
    {
     "data": {
      "text/plain": [
       "(tensor([[0., 0., 0.,  ..., 0., 0., 0.],\n",
       "         [0., 0., 0.,  ..., 0., 0., 0.],\n",
       "         [0., 0., 0.,  ..., 0., 0., 0.],\n",
       "         ...,\n",
       "         [0., 0., 0.,  ..., 0., 0., 0.],\n",
       "         [0., 0., 0.,  ..., 0., 0., 0.],\n",
       "         [0., 0., 0.,  ..., 0., 0., 0.]]),\n",
       " tensor([1, 4, 1,  ..., 0, 0, 8]))"
      ]
     },
     "execution_count": 43,
     "metadata": {},
     "output_type": "execute_result"
    }
   ],
   "source": [
    "test_data.tensors"
   ]
  },
  {
   "cell_type": "code",
   "execution_count": 44,
   "metadata": {},
   "outputs": [],
   "source": [
    "train_loader = DataLoader(train_data, batch_size=64, drop_last=True, shuffle=True)\n",
    "test_loader = DataLoader(test_data, batch_size=test_data.tensors[0].shape[0])"
   ]
  },
  {
   "cell_type": "code",
   "execution_count": 45,
   "metadata": {},
   "outputs": [
    {
     "name": "stdout",
     "output_type": "stream",
     "text": [
      "torch.Size([18000, 784]) torch.Size([18000])\n"
     ]
    }
   ],
   "source": [
    "for i in test_loader:\n",
    "    print(i[0].shape, i[1].shape)"
   ]
  },
  {
   "cell_type": "code",
   "execution_count": 46,
   "metadata": {},
   "outputs": [
    {
     "name": "stdout",
     "output_type": "stream",
     "text": [
      "Variable           Type             Data/Info\n",
      "---------------------------------------------\n",
      "DataLoader         type             <class 'torch.utils.data.dataloader.DataLoader'>\n",
      "F                  module           <module 'torch.nn.functio<...>/torch/nn/functional.py'>\n",
      "TensorDataset      type             <class 'torch.utils.data.dataset.TensorDataset'>\n",
      "data               ndarray          60000x784: 47040000 elems, type `int64`, 376320000 bytes (358.88671875 Mb)\n",
      "data_norm          ndarray          60000x784: 47040000 elems, type `float64`, 376320000 bytes (358.88671875 Mb)\n",
      "data_tensor        Tensor           tensor([[0., 0., 0.,  ...<...>, 0.,  ..., 0., 0., 0.]])\n",
      "i                  list             n=2\n",
      "label_tensor       Tensor           tensor([5, 0, 4,  ..., 5, 6, 8])\n",
      "labels             ndarray          60000: 60000 elems, type `int64`, 480000 bytes (468.75 kb)\n",
      "nn                 module           <module 'torch.nn' from '<...>es/torch/nn/__init__.py'>\n",
      "np                 module           <module 'numpy' from '/Us<...>kages/numpy/__init__.py'>\n",
      "pd                 module           <module 'pandas' from '/U<...>ages/pandas/__init__.py'>\n",
      "plt                module           <module 'matplotlib.pyplo<...>es/matplotlib/pyplot.py'>\n",
      "summary            function         <function summary at 0x293eefd80>\n",
      "test_data          TensorDataset    <torch.utils.data.dataset<...>et object at 0x2955f3dd0>\n",
      "test_loader        DataLoader       <torch.utils.data.dataloa<...>er object at 0x293f27b50>\n",
      "torch              module           <module 'torch' from '/Us<...>kages/torch/__init__.py'>\n",
      "train_data         TensorDataset    <torch.utils.data.dataset<...>et object at 0x2955f1790>\n",
      "train_loader       DataLoader       <torch.utils.data.dataloa<...>er object at 0x294d78e90>\n",
      "train_test_split   function         <function train_test_split at 0x290a1a980>\n",
      "x_test             Tensor           tensor([[0., 0., 0.,  ...<...>, 0.,  ..., 0., 0., 0.]])\n",
      "x_train            Tensor           tensor([[0., 0., 0.,  ...<...>, 0.,  ..., 0., 0., 0.]])\n",
      "y_test             Tensor           tensor([1, 4, 1,  ..., 0, 0, 8])\n",
      "y_train            Tensor           tensor([8, 4, 3,  ..., 4, 6, 2])\n"
     ]
    }
   ],
   "source": [
    "%whos"
   ]
  },
  {
   "attachments": {},
   "cell_type": "markdown",
   "metadata": {},
   "source": [
    "## Model"
   ]
  },
  {
   "cell_type": "code",
   "execution_count": 47,
   "metadata": {},
   "outputs": [],
   "source": [
    "def create_model():\n",
    "    class ann(nn.Module):\n",
    "        def __init__(self):\n",
    "            super().__init__()\n",
    "            \n",
    "            self.input = nn.Linear(784, 32)\n",
    "            self.hidden1 = nn.Linear(32, 64)\n",
    "            self.hidden2 = nn.Linear(64, 64)\n",
    "            self.output = nn.Linear(64, 10)\n",
    "\n",
    "        def forward(self, x):\n",
    "            x = F.relu(self.input(x))\n",
    "            x = F.relu(self.hidden1(x))\n",
    "            x = F.relu(self.hidden2(x))\n",
    "            x = F.relu(self.output(x))\n",
    "            return torch.log_softmax(x, axis=1)\n",
    "        #  log-softmax the output, because I am using NLLLoss instead of CrossEntropy\n",
    "    net = ann()\n",
    "    lossfn = nn.NLLLoss()\n",
    "    # NegativeLogLikelihood\n",
    "    opt = torch.optim.Adam(net.parameters(), lr=0.01)\n",
    "\n",
    "    return net, lossfn, opt"
   ]
  },
  {
   "cell_type": "code",
   "execution_count": 48,
   "metadata": {},
   "outputs": [],
   "source": [
    "net, lossfn, opt = create_model()"
   ]
  },
  {
   "cell_type": "code",
   "execution_count": 49,
   "metadata": {},
   "outputs": [
    {
     "data": {
      "text/plain": [
       "ann(\n",
       "  (input): Linear(in_features=784, out_features=32, bias=True)\n",
       "  (hidden1): Linear(in_features=32, out_features=64, bias=True)\n",
       "  (hidden2): Linear(in_features=64, out_features=64, bias=True)\n",
       "  (output): Linear(in_features=64, out_features=10, bias=True)\n",
       ")"
      ]
     },
     "execution_count": 49,
     "metadata": {},
     "output_type": "execute_result"
    }
   ],
   "source": [
    "net"
   ]
  },
  {
   "cell_type": "code",
   "execution_count": 50,
   "metadata": {},
   "outputs": [
    {
     "name": "stdout",
     "output_type": "stream",
     "text": [
      "----------------------------------------------------------------\n",
      "        Layer (type)               Output Shape         Param #\n",
      "================================================================\n",
      "            Linear-1               [-1, 10, 32]          25,120\n",
      "            Linear-2               [-1, 10, 64]           2,112\n",
      "            Linear-3               [-1, 10, 64]           4,160\n",
      "            Linear-4               [-1, 10, 10]             650\n",
      "================================================================\n",
      "Total params: 32,042\n",
      "Trainable params: 32,042\n",
      "Non-trainable params: 0\n",
      "----------------------------------------------------------------\n",
      "Input size (MB): 0.03\n",
      "Forward/backward pass size (MB): 0.01\n",
      "Params size (MB): 0.12\n",
      "Estimated Total Size (MB): 0.17\n",
      "----------------------------------------------------------------\n"
     ]
    }
   ],
   "source": [
    "summary(net, (10,784))"
   ]
  },
  {
   "cell_type": "code",
   "execution_count": 51,
   "metadata": {},
   "outputs": [],
   "source": [
    "epochs = 60\n",
    "def train():\n",
    "    losses = []\n",
    "    train_acc = []\n",
    "    test_acc = []\n",
    "\n",
    "    for i in range(epochs):\n",
    "        # training\n",
    "        batchacc = []\n",
    "        batchloss = []\n",
    "        for trainx, trainy in train_loader:\n",
    "            # batch train\n",
    "            yhat = net(trainx)\n",
    "            loss = lossfn(yhat, trainy)\n",
    "\n",
    "            opt.zero_grad()\n",
    "            loss.backward()\n",
    "            opt.step()\n",
    "\n",
    "            batchloss.append(loss.item())\n",
    "            matches = torch.argmax(yhat, axis=1) == trainy # Booleans\n",
    "            matches_num = matches.float() # convert booleans to numbers\n",
    "            accuracy = 100 * torch.mean(matches_num)\n",
    "            batchacc.append(accuracy)\n",
    "        train_acc.append(np.mean(batchacc))\n",
    "        losses.append(np.mean(batchloss))\n",
    "\n",
    "        # testing\n",
    "        testx, testy = next(iter(test_loader))\n",
    "        yhat = net(testx)\n",
    "\n",
    "        test_acc.append(100*torch.mean((torch.argmax(yhat, axis=1)==testy).float()))\n",
    "    return train_acc, test_acc, losses"
   ]
  },
  {
   "cell_type": "code",
   "execution_count": 52,
   "metadata": {},
   "outputs": [],
   "source": [
    "net, lossfn, opt = create_model()"
   ]
  },
  {
   "cell_type": "code",
   "execution_count": 53,
   "metadata": {},
   "outputs": [],
   "source": [
    "train_acc, test_acc, losses = train()"
   ]
  },
  {
   "cell_type": "code",
   "execution_count": 54,
   "metadata": {},
   "outputs": [
    {
     "data": {
      "text/plain": [
       "<matplotlib.legend.Legend at 0x29e771810>"
      ]
     },
     "execution_count": 54,
     "metadata": {},
     "output_type": "execute_result"
    },
    {
     "data": {
      "image/png": "[encoded data removed]",
      "text/plain": [
       "<Figure size 1600x400 with 3 Axes>"
      ]
     },
     "metadata": {},
     "output_type": "display_data"
    }
   ],
   "source": [
    "fig, ax = plt.subplots(1, 3, figsize=(16,4))\n",
    "ax[0].plot(range(epochs), train_acc)\n",
    "ax[0].plot(range(epochs), train_acc)\n",
    "ax[0].set_xlabel('epochs')\n",
    "ax[0].set_ylabel('accuracy')\n",
    "ax[0].legend(['train_acc'])\n",
    "\n",
    "ax[1].plot(range(epochs), test_acc)\n",
    "ax[1].plot(range(epochs), test_acc)\n",
    "ax[1].set_xlabel('epochs')\n",
    "ax[1].set_ylabel('accuracy')\n",
    "ax[1].legend(['test_acc'])\n",
    "\n",
    "\n",
    "ax[2].plot(range(epochs), losses)\n",
    "ax[2].plot(range(epochs), losses)\n",
    "ax[2].set_xlabel('epochs')\n",
    "ax[2].set_ylabel('losses')\n",
    "ax[2].legend(['losses'])"
   ]
  },
  {
   "attachments": {},
   "cell_type": "markdown",
   "metadata": {},
   "source": [
    "## Inspecting the results"
   ]
  },
  {
   "cell_type": "code",
   "execution_count": 55,
   "metadata": {},
   "outputs": [],
   "source": [
    "x, y = next(iter(test_loader))\n",
    "preds = net(x)"
   ]
  },
  {
   "cell_type": "code",
   "execution_count": 56,
   "metadata": {},
   "outputs": [
    {
     "data": {
      "text/plain": [
       "tensor([[-2.3026e+00, -2.3026e+00, -2.3026e+00,  ..., -2.3026e+00,\n",
       "         -2.3026e+00, -2.3026e+00],\n",
       "        [-4.1403e+01, -4.1403e+01, -4.1403e+01,  ..., -4.1403e+01,\n",
       "         -3.8506e+01, -4.1403e+01],\n",
       "        [-2.3026e+00, -2.3026e+00, -2.3026e+00,  ..., -2.3026e+00,\n",
       "         -2.3026e+00, -2.3026e+00],\n",
       "        ...,\n",
       "        [ 0.0000e+00, -2.5681e+01, -2.5681e+01,  ..., -2.5681e+01,\n",
       "         -2.5681e+01, -2.5681e+01],\n",
       "        [ 0.0000e+00, -7.6475e+01, -7.6475e+01,  ..., -7.6475e+01,\n",
       "         -7.6475e+01, -7.6475e+01],\n",
       "        [-1.6412e+01, -1.6412e+01, -1.6412e+01,  ..., -1.6412e+01,\n",
       "         -9.5367e-07, -1.6412e+01]])"
      ]
     },
     "execution_count": 56,
     "metadata": {},
     "output_type": "execute_result"
    }
   ],
   "source": [
    "preds.detach()"
   ]
  },
  {
   "cell_type": "code",
   "execution_count": 57,
   "metadata": {},
   "outputs": [
    {
     "data": {
      "text/plain": [
       "tensor([[1.0000e-01, 1.0000e-01, 1.0000e-01,  ..., 1.0000e-01, 1.0000e-01,\n",
       "         1.0000e-01],\n",
       "        [1.0441e-18, 1.0441e-18, 1.0441e-18,  ..., 1.0441e-18, 1.8926e-17,\n",
       "         1.0441e-18],\n",
       "        [1.0000e-01, 1.0000e-01, 1.0000e-01,  ..., 1.0000e-01, 1.0000e-01,\n",
       "         1.0000e-01],\n",
       "        ...,\n",
       "        [1.0000e+00, 7.0295e-12, 7.0295e-12,  ..., 7.0295e-12, 7.0295e-12,\n",
       "         7.0295e-12],\n",
       "        [1.0000e+00, 6.1311e-34, 6.1311e-34,  ..., 6.1311e-34, 6.1311e-34,\n",
       "         6.1311e-34],\n",
       "        [7.4563e-08, 7.4563e-08, 7.4563e-08,  ..., 7.4563e-08, 1.0000e+00,\n",
       "         7.4563e-08]])"
      ]
     },
     "execution_count": 57,
     "metadata": {},
     "output_type": "execute_result"
    }
   ],
   "source": [
    "torch.exp(preds.detach())"
   ]
  },
  {
   "cell_type": "code",
   "execution_count": 58,
   "metadata": {},
   "outputs": [
    {
     "data": {
      "text/plain": [
       "torch.return_types.max(\n",
       "values=tensor([-2.3026e+00,  0.0000e+00, -2.3026e+00,  ...,  0.0000e+00,\n",
       "         0.0000e+00, -9.5367e-07]),\n",
       "indices=tensor([0, 4, 0,  ..., 0, 0, 8]))"
      ]
     },
     "execution_count": 58,
     "metadata": {},
     "output_type": "execute_result"
    }
   ],
   "source": [
    "torch.max(preds.detach(), axis=1)"
   ]
  },
  {
   "cell_type": "code",
   "execution_count": 59,
   "metadata": {},
   "outputs": [
    {
     "data": {
      "text/plain": [
       "torch.return_types.max(\n",
       "values=tensor([0.1000, 1.0000, 0.1000,  ..., 1.0000, 1.0000, 1.0000]),\n",
       "indices=tensor([0, 4, 0,  ..., 0, 0, 8]))"
      ]
     },
     "execution_count": 59,
     "metadata": {},
     "output_type": "execute_result"
    }
   ],
   "source": [
    "torch.max(torch.exp(preds.detach()), axis=1)"
   ]
  },
  {
   "cell_type": "code",
   "execution_count": 60,
   "metadata": {},
   "outputs": [
    {
     "data": {
      "image/png": "[encoded data removed]",
      "text/plain": [
       "<Figure size 640x480 with 1 Axes>"
      ]
     },
     "metadata": {},
     "output_type": "display_data"
    }
   ],
   "source": [
    "plt.bar(range(10), preds.detach()[0])\n",
    "plt.xlabel('labels')\n",
    "plt.ylabel('log-of the probs')\n",
    "plt.show()"
   ]
  },
  {
   "cell_type": "code",
   "execution_count": 61,
   "metadata": {},
   "outputs": [
    {
     "data": {
      "image/png": "[encoded data removed]",
      "text/plain": [
       "<Figure size 640x480 with 1 Axes>"
      ]
     },
     "metadata": {},
     "output_type": "display_data"
    }
   ],
   "source": [
    "plt.bar(range(10), torch.exp(preds.detach())[0])\n",
    "plt.xlabel('labels')\n",
    "plt.ylabel('log-of the probs')\n",
    "plt.show()"
   ]
  },
  {
   "cell_type": "code",
   "execution_count": 62,
   "metadata": {},
   "outputs": [
    {
     "data": {
      "text/plain": [
       "(array([    0,     2,     9, ..., 17977, 17982, 17984]),)"
      ]
     },
     "execution_count": 62,
     "metadata": {},
     "output_type": "execute_result"
    }
   ],
   "source": [
    "np.where(torch.argmax(preds, axis=1) != y)"
   ]
  },
  {
   "cell_type": "code",
   "execution_count": 63,
   "metadata": {},
   "outputs": [
    {
     "data": {
      "text/plain": [
       "<matplotlib.image.AxesImage at 0x296349a50>"
      ]
     },
     "execution_count": 63,
     "metadata": {},
     "output_type": "execute_result"
    },
    {
     "data": {
      "image/png": "[encoded data removed]",
      "text/plain": [
       "<Figure size 1000x400 with 2 Axes>"
      ]
     },
     "metadata": {},
     "output_type": "display_data"
    }
   ],
   "source": [
    "fig, ax = plt.subplots(1,2, figsize=(10,4))\n",
    "ax[0].bar(range(10), torch.exp(preds.detach())[4])\n",
    "ax[0].set_xlabel('labels')\n",
    "ax[0].set_ylabel('log-of the probs')\n",
    "\n",
    "ax[1].imshow(np.reshape(x[4,:], (28,28)))\n"
   ]
  },
  {
   "cell_type": "code",
   "execution_count": null,
   "metadata": {},
   "outputs": [],
   "source": []
  }
 ],
 "metadata": {
  "kernelspec": {
   "display_name": ".venv",
   "language": "python",
   "name": "python3"
  },
  "language_info": {
   "codemirror_mode": {
    "name": "ipython",
    "version": 3
   },
   "file_extension": ".py",
   "mimetype": "text/x-python",
   "name": "python",
   "nbconvert_exporter": "python",
   "pygments_lexer": "ipython3",
   "version": "3.11.7"
  },
  "orig_nbformat": 4
 },
 "nbformat": 4,
 "nbformat_minor": 2
}
