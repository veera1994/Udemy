{
 "cells": [
  {
   "cell_type": "code",
   "execution_count": 1,
   "metadata": {},
   "outputs": [],
   "source": [
    "import numpy as np\n",
    "import torch\n",
    "import torch.nn as nn\n",
    "import torch.nn.functional as F\n",
    "from torch.utils.data import TensorDataset, DataLoader\n",
    "from sklearn.model_selection import train_test_split\n",
    "import matplotlib.pyplot as plt\n",
    "import pandas as pd\n",
    "from torchsummary import summary"
   ]
  },
  {
   "cell_type": "code",
   "execution_count": 2,
   "metadata": {},
   "outputs": [],
   "source": [
    "data = pd.read_csv(\"/Users/veera/Data/Repos/Udemy/.dataset/mnist_train.csv\", delimiter=',', header=None)"
   ]
  },
  {
   "cell_type": "code",
   "execution_count": 3,
   "metadata": {},
   "outputs": [],
   "source": [
    "labels = data[0]\n",
    "data = data.drop(columns=[0])"
   ]
  },
  {
   "cell_type": "code",
   "execution_count": 4,
   "metadata": {},
   "outputs": [],
   "source": [
    "data = np.array(data)\n",
    "labels = np.array(labels)"
   ]
  },
  {
   "cell_type": "code",
   "execution_count": 5,
   "metadata": {},
   "outputs": [],
   "source": [
    "# The min and max values of the data are 0 and 255\n",
    "# It is normalized to 0 and 1\n",
    "data_norm = data/np.max(data)"
   ]
  },
  {
   "attachments": {},
   "cell_type": "markdown",
   "metadata": {},
   "source": [
    "## Tensor dataset and loader"
   ]
  },
  {
   "cell_type": "code",
   "execution_count": 6,
   "metadata": {},
   "outputs": [],
   "source": [
    "data_tensor = torch.tensor(data_norm).float()\n",
    "label_tensor = torch.tensor(labels).long()"
   ]
  },
  {
   "cell_type": "code",
   "execution_count": 7,
   "metadata": {},
   "outputs": [
    {
     "data": {
      "text/plain": [
       "tensor([[0., 0., 0.,  ..., 0., 0., 0.],\n",
       "        [0., 0., 0.,  ..., 0., 0., 0.],\n",
       "        [0., 0., 0.,  ..., 0., 0., 0.],\n",
       "        ...,\n",
       "        [0., 0., 0.,  ..., 0., 0., 0.],\n",
       "        [0., 0., 0.,  ..., 0., 0., 0.],\n",
       "        [0., 0., 0.,  ..., 0., 0., 0.]])"
      ]
     },
     "execution_count": 7,
     "metadata": {},
     "output_type": "execute_result"
    }
   ],
   "source": [
    "data_tensor"
   ]
  },
  {
   "cell_type": "code",
   "execution_count": 8,
   "metadata": {},
   "outputs": [
    {
     "data": {
      "text/plain": [
       "tensor([5, 0, 4,  ..., 5, 6, 8])"
      ]
     },
     "execution_count": 8,
     "metadata": {},
     "output_type": "execute_result"
    }
   ],
   "source": [
    "label_tensor"
   ]
  },
  {
   "cell_type": "code",
   "execution_count": 9,
   "metadata": {},
   "outputs": [],
   "source": [
    "x_train, x_test, y_train, y_test = train_test_split(data_tensor, label_tensor, train_size=0.7, stratify=label_tensor)"
   ]
  },
  {
   "cell_type": "code",
   "execution_count": 10,
   "metadata": {},
   "outputs": [
    {
     "data": {
      "text/plain": [
       "torch.Size([42000, 784])"
      ]
     },
     "execution_count": 10,
     "metadata": {},
     "output_type": "execute_result"
    }
   ],
   "source": [
    "x_train.shape"
   ]
  },
  {
   "cell_type": "code",
   "execution_count": 11,
   "metadata": {},
   "outputs": [
    {
     "data": {
      "text/plain": [
       "torch.Size([42000])"
      ]
     },
     "execution_count": 11,
     "metadata": {},
     "output_type": "execute_result"
    }
   ],
   "source": [
    "y_train.shape"
   ]
  },
  {
   "cell_type": "code",
   "execution_count": 12,
   "metadata": {},
   "outputs": [],
   "source": [
    "train_data = TensorDataset(x_train, y_train)\n",
    "test_data = TensorDataset(x_test, y_test)"
   ]
  },
  {
   "cell_type": "code",
   "execution_count": 13,
   "metadata": {},
   "outputs": [
    {
     "data": {
      "text/plain": [
       "(tensor([[0., 0., 0.,  ..., 0., 0., 0.],\n",
       "         [0., 0., 0.,  ..., 0., 0., 0.],\n",
       "         [0., 0., 0.,  ..., 0., 0., 0.],\n",
       "         ...,\n",
       "         [0., 0., 0.,  ..., 0., 0., 0.],\n",
       "         [0., 0., 0.,  ..., 0., 0., 0.],\n",
       "         [0., 0., 0.,  ..., 0., 0., 0.]]),\n",
       " tensor([1, 2, 2,  ..., 2, 8, 3]))"
      ]
     },
     "execution_count": 13,
     "metadata": {},
     "output_type": "execute_result"
    }
   ],
   "source": [
    "train_data.tensors"
   ]
  },
  {
   "cell_type": "code",
   "execution_count": 14,
   "metadata": {},
   "outputs": [
    {
     "data": {
      "text/plain": [
       "(tensor([[0., 0., 0.,  ..., 0., 0., 0.],\n",
       "         [0., 0., 0.,  ..., 0., 0., 0.],\n",
       "         [0., 0., 0.,  ..., 0., 0., 0.],\n",
       "         ...,\n",
       "         [0., 0., 0.,  ..., 0., 0., 0.],\n",
       "         [0., 0., 0.,  ..., 0., 0., 0.],\n",
       "         [0., 0., 0.,  ..., 0., 0., 0.]]),\n",
       " tensor([6, 7, 9,  ..., 8, 8, 1]))"
      ]
     },
     "execution_count": 14,
     "metadata": {},
     "output_type": "execute_result"
    }
   ],
   "source": [
    "test_data.tensors"
   ]
  },
  {
   "cell_type": "code",
   "execution_count": 15,
   "metadata": {},
   "outputs": [],
   "source": [
    "train_loader = DataLoader(train_data, batch_size=64, drop_last=True, shuffle=True)\n",
    "test_loader = DataLoader(test_data, batch_size=test_data.tensors[0].shape[0])"
   ]
  },
  {
   "cell_type": "code",
   "execution_count": 16,
   "metadata": {},
   "outputs": [
    {
     "name": "stdout",
     "output_type": "stream",
     "text": [
      "torch.Size([18000, 784]) torch.Size([18000])\n"
     ]
    }
   ],
   "source": [
    "for i in test_loader:\n",
    "    print(i[0].shape, i[1].shape)"
   ]
  },
  {
   "cell_type": "code",
   "execution_count": 17,
   "metadata": {},
   "outputs": [
    {
     "name": "stdout",
     "output_type": "stream",
     "text": [
      "Variable           Type             Data/Info\n",
      "---------------------------------------------\n",
      "DataLoader         type             <class 'torch.utils.data.dataloader.DataLoader'>\n",
      "F                  module           <module 'torch.nn.functio<...>/torch/nn/functional.py'>\n",
      "TensorDataset      type             <class 'torch.utils.data.dataset.TensorDataset'>\n",
      "data               ndarray          60000x784: 47040000 elems, type `int64`, 376320000 bytes (358.88671875 Mb)\n",
      "data_norm          ndarray          60000x784: 47040000 elems, type `float64`, 376320000 bytes (358.88671875 Mb)\n",
      "data_tensor        Tensor           tensor([[0., 0., 0.,  ...<...>, 0.,  ..., 0., 0., 0.]])\n",
      "i                  list             n=2\n",
      "label_tensor       Tensor           tensor([5, 0, 4,  ..., 5, 6, 8])\n",
      "labels             ndarray          60000: 60000 elems, type `int64`, 480000 bytes (468.75 kb)\n",
      "nn                 module           <module 'torch.nn' from '<...>es/torch/nn/__init__.py'>\n",
      "np                 module           <module 'numpy' from '/Us<...>kages/numpy/__init__.py'>\n",
      "pd                 module           <module 'pandas' from '/U<...>ages/pandas/__init__.py'>\n",
      "plt                module           <module 'matplotlib.pyplo<...>es/matplotlib/pyplot.py'>\n",
      "summary            function         <function summary at 0x285447e20>\n",
      "test_data          TensorDataset    <torch.utils.data.dataset<...>et object at 0x28543e110>\n",
      "test_loader        DataLoader       <torch.utils.data.dataloa<...>er object at 0x282947f90>\n",
      "torch              module           <module 'torch' from '/Us<...>kages/torch/__init__.py'>\n",
      "train_data         TensorDataset    <torch.utils.data.dataset<...>et object at 0x2952fce50>\n",
      "train_loader       DataLoader       <torch.utils.data.dataloa<...>er object at 0x2854a6650>\n",
      "train_test_split   function         <function train_test_split at 0x17eca6a20>\n",
      "x_test             Tensor           tensor([[0., 0., 0.,  ...<...>, 0.,  ..., 0., 0., 0.]])\n",
      "x_train            Tensor           tensor([[0., 0., 0.,  ...<...>, 0.,  ..., 0., 0., 0.]])\n",
      "y_test             Tensor           tensor([6, 7, 9,  ..., 8, 8, 1])\n",
      "y_train            Tensor           tensor([1, 2, 2,  ..., 2, 8, 3])\n"
     ]
    }
   ],
   "source": [
    "%whos"
   ]
  },
  {
   "attachments": {},
   "cell_type": "markdown",
   "metadata": {},
   "source": [
    "## Model"
   ]
  },
  {
   "cell_type": "code",
   "execution_count": 18,
   "metadata": {},
   "outputs": [],
   "source": [
    "def create_model():\n",
    "    class ann(nn.Module):\n",
    "        def __init__(self):\n",
    "            super().__init__()\n",
    "            \n",
    "            self.input = nn.Linear(784, 32)\n",
    "            self.hidden1 = nn.Linear(32, 64)\n",
    "            self.hidden2 = nn.Linear(64, 64)\n",
    "            self.output = nn.Linear(64, 10)\n",
    "\n",
    "        def forward(self, x):\n",
    "            x = F.relu(self.input(x))\n",
    "            x = F.relu(self.hidden1(x))\n",
    "            x = F.relu(self.hidden2(x))\n",
    "            x = F.relu(self.output(x))\n",
    "            return torch.log_softmax(x, axis=1)\n",
    "        #  log-softmax the output, because I am using NLLLoss instead of CrossEntropy\n",
    "    net = ann()\n",
    "    lossfn = nn.NLLLoss()\n",
    "    # NegativeLogLikelihood\n",
    "    opt = torch.optim.Adam(net.parameters(), lr=0.01)\n",
    "\n",
    "    return net, lossfn, opt"
   ]
  },
  {
   "cell_type": "code",
   "execution_count": 19,
   "metadata": {},
   "outputs": [],
   "source": [
    "net, lossfn, opt = create_model()"
   ]
  },
  {
   "cell_type": "code",
   "execution_count": 20,
   "metadata": {},
   "outputs": [
    {
     "data": {
      "text/plain": [
       "ann(\n",
       "  (input): Linear(in_features=784, out_features=32, bias=True)\n",
       "  (hidden1): Linear(in_features=32, out_features=64, bias=True)\n",
       "  (hidden2): Linear(in_features=64, out_features=64, bias=True)\n",
       "  (output): Linear(in_features=64, out_features=10, bias=True)\n",
       ")"
      ]
     },
     "execution_count": 20,
     "metadata": {},
     "output_type": "execute_result"
    }
   ],
   "source": [
    "net"
   ]
  },
  {
   "cell_type": "code",
   "execution_count": 21,
   "metadata": {},
   "outputs": [
    {
     "name": "stdout",
     "output_type": "stream",
     "text": [
      "----------------------------------------------------------------\n",
      "        Layer (type)               Output Shape         Param #\n",
      "================================================================\n",
      "            Linear-1               [-1, 10, 32]          25,120\n",
      "            Linear-2               [-1, 10, 64]           2,112\n",
      "            Linear-3               [-1, 10, 64]           4,160\n",
      "            Linear-4               [-1, 10, 10]             650\n",
      "================================================================\n",
      "Total params: 32,042\n",
      "Trainable params: 32,042\n",
      "Non-trainable params: 0\n",
      "----------------------------------------------------------------\n",
      "Input size (MB): 0.03\n",
      "Forward/backward pass size (MB): 0.01\n",
      "Params size (MB): 0.12\n",
      "Estimated Total Size (MB): 0.17\n",
      "----------------------------------------------------------------\n"
     ]
    }
   ],
   "source": [
    "summary(net, (10,784))"
   ]
  },
  {
   "cell_type": "code",
   "execution_count": 22,
   "metadata": {},
   "outputs": [],
   "source": [
    "epochs = 60\n",
    "def train():\n",
    "    losses = []\n",
    "    train_acc = []\n",
    "    test_acc = []\n",
    "\n",
    "    for i in range(epochs):\n",
    "        # training\n",
    "        batchacc = []\n",
    "        batchloss = []\n",
    "        for trainx, trainy in train_loader:\n",
    "            # batch train\n",
    "            yhat = net(trainx)\n",
    "            loss = lossfn(yhat, trainy)\n",
    "\n",
    "            opt.zero_grad()\n",
    "            loss.backward()\n",
    "            opt.step()\n",
    "\n",
    "            batchloss.append(loss.item())\n",
    "            matches = torch.argmax(yhat, axis=1) == trainy # Booleans\n",
    "            matches_num = matches.float() # convert booleans to numbers\n",
    "            accuracy = 100 * torch.mean(matches_num)\n",
    "            batchacc.append(accuracy)\n",
    "        train_acc.append(np.mean(batchacc))\n",
    "        losses.append(np.mean(batchloss))\n",
    "\n",
    "        # testing\n",
    "        testx, testy = next(iter(test_loader))\n",
    "        yhat = net(testx)\n",
    "\n",
    "        test_acc.append(100*torch.mean((torch.argmax(yhat, axis=1)==testy).float()))\n",
    "    return train_acc, test_acc, losses"
   ]
  },
  {
   "cell_type": "code",
   "execution_count": 23,
   "metadata": {},
   "outputs": [],
   "source": [
    "net, lossfn, opt = create_model()"
   ]
  },
  {
   "cell_type": "code",
   "execution_count": 24,
   "metadata": {},
   "outputs": [],
   "source": [
    "train_acc, test_acc, losses = train()"
   ]
  },
  {
   "cell_type": "code",
   "execution_count": 25,
   "metadata": {},
   "outputs": [
    {
     "data": {
      "text/plain": [
       "<matplotlib.legend.Legend at 0x287aa79d0>"
      ]
     },
     "execution_count": 25,
     "metadata": {},
     "output_type": "execute_result"
    },
    {
     "data": {
      "image/png": "[encoded data removed]",
      "text/plain": [
       "<Figure size 1600x400 with 3 Axes>"
      ]
     },
     "metadata": {},
     "output_type": "display_data"
    }
   ],
   "source": [
    "fig, ax = plt.subplots(1, 3, figsize=(16,4))\n",
    "ax[0].plot(range(epochs), train_acc)\n",
    "ax[0].plot(range(epochs), train_acc)\n",
    "ax[0].set_xlabel('epochs')\n",
    "ax[0].set_ylabel('accuracy')\n",
    "ax[0].legend(['train_acc'])\n",
    "\n",
    "ax[1].plot(range(epochs), test_acc)\n",
    "ax[1].plot(range(epochs), test_acc)\n",
    "ax[1].set_xlabel('epochs')\n",
    "ax[1].set_ylabel('accuracy')\n",
    "ax[1].legend(['test_acc'])\n",
    "\n",
    "\n",
    "ax[2].plot(range(epochs), losses)\n",
    "ax[2].plot(range(epochs), losses)\n",
    "ax[2].set_xlabel('epochs')\n",
    "ax[2].set_ylabel('losses')\n",
    "ax[2].legend(['losses'])"
   ]
  },
  {
   "attachments": {},
   "cell_type": "markdown",
   "metadata": {},
   "source": [
    "## Inspecting the results"
   ]
  },
  {
   "cell_type": "code",
   "execution_count": 26,
   "metadata": {},
   "outputs": [],
   "source": [
    "x, y = next(iter(test_loader))\n",
    "preds = net(x)"
   ]
  },
  {
   "cell_type": "code",
   "execution_count": 27,
   "metadata": {},
   "outputs": [
    {
     "data": {
      "text/plain": [
       "tensor([[-3.6020e+01, -3.6020e+01, -3.6020e+01,  ..., -3.6020e+01,\n",
       "         -3.6020e+01, -3.6020e+01],\n",
       "        [-1.9014e+01, -1.9014e+01, -1.9014e+01,  ...,  0.0000e+00,\n",
       "         -1.9014e+01, -1.9014e+01],\n",
       "        [-1.1032e+01, -1.1032e+01, -1.1032e+01,  ..., -1.1032e+01,\n",
       "         -1.1032e+01, -1.4578e-04],\n",
       "        ...,\n",
       "        [-7.9960e+00, -7.9960e+00, -7.9960e+00,  ..., -7.9960e+00,\n",
       "         -3.0359e-03, -7.9960e+00],\n",
       "        [-7.1782e+00, -7.1782e+00, -7.1782e+00,  ..., -7.1782e+00,\n",
       "         -6.8911e-03, -7.1782e+00],\n",
       "        [-1.7331e+02,  0.0000e+00, -1.7331e+02,  ..., -1.7331e+02,\n",
       "         -1.7331e+02, -1.7331e+02]])"
      ]
     },
     "execution_count": 27,
     "metadata": {},
     "output_type": "execute_result"
    }
   ],
   "source": [
    "preds.detach()"
   ]
  },
  {
   "cell_type": "code",
   "execution_count": 28,
   "metadata": {},
   "outputs": [
    {
     "data": {
      "text/plain": [
       "tensor([[2.2726e-16, 2.2726e-16, 2.2726e-16,  ..., 2.2726e-16, 2.2726e-16,\n",
       "         2.2726e-16],\n",
       "        [5.5241e-09, 5.5241e-09, 5.5241e-09,  ..., 1.0000e+00, 5.5241e-09,\n",
       "         5.5241e-09],\n",
       "        [1.6176e-05, 1.6176e-05, 1.6176e-05,  ..., 1.6176e-05, 1.6176e-05,\n",
       "         9.9985e-01],\n",
       "        ...,\n",
       "        [3.3680e-04, 3.3680e-04, 3.3680e-04,  ..., 3.3680e-04, 9.9697e-01,\n",
       "         3.3680e-04],\n",
       "        [7.6308e-04, 7.6308e-04, 7.6308e-04,  ..., 7.6308e-04, 9.9313e-01,\n",
       "         7.6308e-04],\n",
       "        [0.0000e+00, 1.0000e+00, 0.0000e+00,  ..., 0.0000e+00, 0.0000e+00,\n",
       "         0.0000e+00]])"
      ]
     },
     "execution_count": 28,
     "metadata": {},
     "output_type": "execute_result"
    }
   ],
   "source": [
    "torch.exp(preds.detach())"
   ]
  },
  {
   "cell_type": "code",
   "execution_count": 29,
   "metadata": {},
   "outputs": [
    {
     "data": {
      "text/plain": [
       "torch.return_types.max(\n",
       "values=tensor([ 0.0000,  0.0000, -0.0001,  ..., -0.0030, -0.0069,  0.0000]),\n",
       "indices=tensor([6, 7, 9,  ..., 8, 8, 1]))"
      ]
     },
     "execution_count": 29,
     "metadata": {},
     "output_type": "execute_result"
    }
   ],
   "source": [
    "torch.max(preds.detach(), axis=1)"
   ]
  },
  {
   "cell_type": "code",
   "execution_count": 30,
   "metadata": {},
   "outputs": [
    {
     "data": {
      "text/plain": [
       "torch.return_types.max(\n",
       "values=tensor([1.0000, 1.0000, 0.9999,  ..., 0.9970, 0.9931, 1.0000]),\n",
       "indices=tensor([6, 7, 9,  ..., 8, 8, 1]))"
      ]
     },
     "execution_count": 30,
     "metadata": {},
     "output_type": "execute_result"
    }
   ],
   "source": [
    "torch.max(torch.exp(preds.detach()), axis=1)"
   ]
  },
  {
   "cell_type": "code",
   "execution_count": 31,
   "metadata": {},
   "outputs": [
    {
     "data": {
      "image/png": "[encoded data removed]",
      "text/plain": [
       "<Figure size 640x480 with 1 Axes>"
      ]
     },
     "metadata": {},
     "output_type": "display_data"
    }
   ],
   "source": [
    "plt.bar(range(10), preds.detach()[0])\n",
    "plt.xlabel('labels')\n",
    "plt.ylabel('log-of the probs')\n",
    "plt.show()"
   ]
  },
  {
   "cell_type": "code",
   "execution_count": 32,
   "metadata": {},
   "outputs": [
    {
     "data": {
      "image/png": "[encoded data removed]",
      "text/plain": [
       "<Figure size 640x480 with 1 Axes>"
      ]
     },
     "metadata": {},
     "output_type": "display_data"
    }
   ],
   "source": [
    "plt.bar(range(10), torch.exp(preds.detach())[0])\n",
    "plt.xlabel('labels')\n",
    "plt.ylabel('log-of the probs')\n",
    "plt.show()"
   ]
  },
  {
   "cell_type": "code",
   "execution_count": 33,
   "metadata": {},
   "outputs": [
    {
     "data": {
      "text/plain": [
       "(array([    8,    48,   110,   135,   140,   160,   207,   243,   244,\n",
       "          265,   306,   320,   339,   346,   350,   356,   384,   386,\n",
       "          392,   394,   413,   419,   437,   481,   554,   600,   617,\n",
       "          661,   662,   671,   694,   759,   795,   829,   846,   873,\n",
       "          915,   936,   943,  1045,  1067,  1076,  1097,  1103,  1126,\n",
       "         1150,  1175,  1178,  1188,  1245,  1309,  1310,  1341,  1349,\n",
       "         1363,  1378,  1393,  1420,  1422,  1428,  1436,  1462,  1478,\n",
       "         1487,  1493,  1556,  1572,  1602,  1673,  1714,  1719,  1739,\n",
       "         1750,  1805,  1806,  1822,  1834,  1838,  1840,  1874,  1875,\n",
       "         1907,  1915,  1921,  1936,  1982,  2007,  2014,  2020,  2022,\n",
       "         2035,  2050,  2054,  2063,  2071,  2081,  2121,  2142,  2197,\n",
       "         2211,  2213,  2231,  2252,  2302,  2324,  2352,  2387,  2393,\n",
       "         2408,  2416,  2429,  2437,  2453,  2493,  2538,  2593,  2651,\n",
       "         2652,  2667,  2759,  2761,  2830,  2890,  2910,  2930,  2979,\n",
       "         3007,  3013,  3021,  3178,  3217,  3234,  3269,  3374,  3390,\n",
       "         3442,  3467,  3481,  3492,  3507,  3517,  3530,  3545,  3571,\n",
       "         3574,  3583,  3611,  3628,  3668,  3705,  3726,  3762,  3805,\n",
       "         3814,  3825,  3832,  3839,  3845,  3847,  3879,  3898,  3927,\n",
       "         3952,  3953,  3985,  3994,  4009,  4060,  4089,  4101,  4136,\n",
       "         4193,  4194,  4213,  4249,  4273,  4278,  4287,  4297,  4330,\n",
       "         4362,  4421,  4474,  4479,  4510,  4511,  4551,  4552,  4563,\n",
       "         4602,  4658,  4660,  4680,  4685,  4721,  4732,  4745,  4750,\n",
       "         4760,  4783,  4791,  4808,  4818,  4820,  4837,  4860,  4913,\n",
       "         4917,  4934,  4944,  4955,  4956,  5010,  5016,  5020,  5036,\n",
       "         5066,  5195,  5199,  5231,  5268,  5277,  5325,  5331,  5355,\n",
       "         5358,  5372,  5373,  5388,  5396,  5402,  5403,  5426,  5434,\n",
       "         5438,  5457,  5499,  5508,  5521,  5582,  5707,  5743,  5766,\n",
       "         5772,  5774,  5793,  5863,  5877,  5889,  5920,  5937,  5945,\n",
       "         5966,  5988,  6134,  6145,  6190,  6285,  6322,  6331,  6373,\n",
       "         6379,  6390,  6395,  6399,  6455,  6462,  6519,  6522,  6538,\n",
       "         6552,  6554,  6577,  6584,  6586,  6604,  6619,  6638,  6639,\n",
       "         6658,  6663,  6681,  6693,  6750,  6764,  6831,  6841,  6873,\n",
       "         6884,  6886,  6901,  6912,  6925,  6928,  7032,  7051,  7068,\n",
       "         7077,  7089,  7095,  7105,  7129,  7136,  7149,  7151,  7178,\n",
       "         7193,  7236,  7238,  7273,  7278,  7284,  7317,  7341,  7358,\n",
       "         7387,  7397,  7402,  7433,  7442,  7476,  7479,  7485,  7504,\n",
       "         7505,  7513,  7518,  7534,  7535,  7537,  7538,  7558,  7574,\n",
       "         7578,  7597,  7623,  7641,  7680,  7684,  7702,  7715,  7719,\n",
       "         7729,  7733,  7758,  7834,  7871,  7877,  7914,  7962,  7974,\n",
       "         8025,  8059,  8076,  8106,  8141,  8196,  8211,  8220,  8225,\n",
       "         8228,  8232,  8238,  8277,  8296,  8311,  8327,  8373,  8405,\n",
       "         8425,  8449,  8471,  8478,  8495,  8496,  8497,  8523,  8528,\n",
       "         8544,  8561,  8564,  8589,  8590,  8599,  8684,  8689,  8745,\n",
       "         8763,  8773,  8839,  8855,  8871,  8891,  8900,  8902,  8920,\n",
       "         8921,  8956,  8971,  8974,  9006,  9053,  9062,  9085,  9093,\n",
       "         9100,  9125,  9170,  9171,  9209,  9220,  9261,  9312,  9346,\n",
       "         9352,  9378,  9385,  9428,  9430,  9439,  9456,  9548,  9581,\n",
       "         9588,  9620,  9628,  9630,  9651,  9675,  9703,  9707,  9745,\n",
       "         9763,  9775,  9786,  9789,  9834,  9889,  9979, 10051, 10053,\n",
       "        10055, 10084, 10091, 10116, 10119, 10129, 10170, 10221, 10259,\n",
       "        10277, 10328, 10341, 10386, 10451, 10452, 10464, 10491, 10514,\n",
       "        10539, 10551, 10559, 10562, 10570, 10575, 10591, 10594, 10629,\n",
       "        10632, 10670, 10679, 10700, 10735, 10740, 10778, 10788, 10799,\n",
       "        10820, 10830, 10874, 10885, 10917, 10940, 10967, 11000, 11011,\n",
       "        11019, 11020, 11035, 11043, 11048, 11053, 11091, 11108, 11125,\n",
       "        11143, 11149, 11200, 11209, 11247, 11250, 11259, 11288, 11310,\n",
       "        11323, 11340, 11349, 11357, 11363, 11366, 11380, 11382, 11402,\n",
       "        11404, 11406, 11422, 11429, 11433, 11481, 11519, 11572, 11575,\n",
       "        11588, 11592, 11615, 11625, 11686, 11723, 11732, 11735, 11742,\n",
       "        11744, 11751, 11759, 11778, 11806, 11812, 11878, 11894, 11941,\n",
       "        11944, 11955, 11969, 12067, 12073, 12081, 12088, 12091, 12104,\n",
       "        12119, 12135, 12138, 12141, 12163, 12172, 12178, 12199, 12227,\n",
       "        12230, 12235, 12265, 12296, 12353, 12372, 12429, 12474, 12476,\n",
       "        12485, 12502, 12518, 12519, 12521, 12533, 12537, 12554, 12569,\n",
       "        12588, 12599, 12614, 12642, 12682, 12710, 12737, 12747, 12753,\n",
       "        12754, 12759, 12776, 12809, 12832, 12842, 12852, 12879, 12881,\n",
       "        12902, 12920, 12964, 13005, 13006, 13047, 13104, 13107, 13116,\n",
       "        13122, 13144, 13151, 13170, 13197, 13205, 13227, 13278, 13303,\n",
       "        13309, 13330, 13344, 13365, 13396, 13401, 13405, 13439, 13440,\n",
       "        13441, 13471, 13481, 13494, 13498, 13506, 13538, 13576, 13583,\n",
       "        13593, 13686, 13858, 13866, 13881, 13886, 13922, 13968, 14022,\n",
       "        14033, 14051, 14055, 14102, 14113, 14137, 14182, 14188, 14190,\n",
       "        14199, 14206, 14234, 14242, 14256, 14268, 14300, 14339, 14370,\n",
       "        14374, 14408, 14426, 14433, 14446, 14514, 14516, 14520, 14575,\n",
       "        14588, 14593, 14608, 14635, 14637, 14642, 14658, 14667, 14672,\n",
       "        14688, 14713, 14770, 14789, 14822, 14843, 14845, 14846, 14875,\n",
       "        14883, 14899, 14904, 14996, 15023, 15028, 15055, 15068, 15082,\n",
       "        15097, 15099, 15111, 15133, 15134, 15140, 15214, 15236, 15247,\n",
       "        15318, 15339, 15382, 15390, 15418, 15421, 15425, 15453, 15464,\n",
       "        15504, 15555, 15557, 15561, 15566, 15570, 15580, 15590, 15610,\n",
       "        15611, 15672, 15705, 15710, 15711, 15785, 15839, 15852, 15862,\n",
       "        15893, 15901, 15906, 15919, 15924, 15943, 15974, 15992, 16017,\n",
       "        16022, 16028, 16059, 16107, 16121, 16128, 16132, 16151, 16184,\n",
       "        16194, 16200, 16238, 16254, 16262, 16283, 16319, 16324, 16355,\n",
       "        16358, 16387, 16423, 16448, 16459, 16491, 16513, 16520, 16552,\n",
       "        16576, 16607, 16627, 16731, 16742, 16743, 16763, 16793, 16805,\n",
       "        16827, 16849, 16850, 16861, 16886, 16936, 16983, 16985, 16987,\n",
       "        16989, 16995, 17049, 17088, 17117, 17146, 17154, 17173, 17181,\n",
       "        17209, 17212, 17215, 17261, 17285, 17304, 17314, 17326, 17355,\n",
       "        17367, 17379, 17384, 17476, 17496, 17498, 17518, 17526, 17531,\n",
       "        17550, 17554, 17575, 17581, 17592, 17598, 17605, 17618, 17630,\n",
       "        17636, 17638, 17642, 17648, 17656, 17659, 17707, 17720, 17768,\n",
       "        17796, 17830, 17835, 17854, 17875, 17876, 17910, 17915, 17956]),)"
      ]
     },
     "execution_count": 33,
     "metadata": {},
     "output_type": "execute_result"
    }
   ],
   "source": [
    "np.where(torch.argmax(preds, axis=1) != y)"
   ]
  },
  {
   "cell_type": "code",
   "execution_count": 34,
   "metadata": {},
   "outputs": [
    {
     "data": {
      "text/plain": [
       "<matplotlib.image.AxesImage at 0x287fb6590>"
      ]
     },
     "execution_count": 34,
     "metadata": {},
     "output_type": "execute_result"
    },
    {
     "data": {
      "image/png": "[encoded data removed]",
      "text/plain": [
       "<Figure size 1000x400 with 2 Axes>"
      ]
     },
     "metadata": {},
     "output_type": "display_data"
    }
   ],
   "source": [
    "fig, ax = plt.subplots(1,2, figsize=(10,4))\n",
    "ax[0].bar(range(10), torch.exp(preds.detach())[4])\n",
    "ax[0].set_xlabel('labels')\n",
    "ax[0].set_ylabel('log-of the probs')\n",
    "\n",
    "ax[1].imshow(np.reshape(x[4,:], (28,28)))\n"
   ]
  },
  {
   "cell_type": "code",
   "execution_count": null,
   "metadata": {},
   "outputs": [],
   "source": []
  }
 ],
 "metadata": {
  "kernelspec": {
   "display_name": ".venv",
   "language": "python",
   "name": "python3"
  },
  "language_info": {
   "codemirror_mode": {
    "name": "ipython",
    "version": 3
   },
   "file_extension": ".py",
   "mimetype": "text/x-python",
   "name": "python",
   "nbconvert_exporter": "python",
   "pygments_lexer": "ipython3",
   "version": "3.11.7"
  },
  "orig_nbformat": 4
 },
 "nbformat": 4,
 "nbformat_minor": 2
}
