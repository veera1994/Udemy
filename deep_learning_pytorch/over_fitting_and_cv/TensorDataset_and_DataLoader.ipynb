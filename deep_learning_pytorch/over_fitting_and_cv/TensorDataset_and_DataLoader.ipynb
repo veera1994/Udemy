{
 "cells": [
  {
   "cell_type": "code",
   "execution_count": 1,
   "metadata": {},
   "outputs": [],
   "source": [
    "import torch\n",
    "import torch.nn as nn\n",
    "import matplotlib.pyplot as plt\n",
    "from sklearn.model_selection import train_test_split\n",
    "from torch.utils.data import DataLoader, TensorDataset\n",
    "import numpy as np\n",
    "from torchsummary import summary"
   ]
  },
  {
   "attachments": {},
   "cell_type": "markdown",
   "metadata": {},
   "source": [
    "# Fake data"
   ]
  },
  {
   "cell_type": "code",
   "execution_count": 2,
   "metadata": {},
   "outputs": [
    {
     "name": "stdout",
     "output_type": "stream",
     "text": [
      "[[ 11  12  13  14]\n",
      " [ 21  22  23  24]\n",
      " [ 31  32  33  34]\n",
      " [ 41  42  43  44]\n",
      " [ 51  52  53  54]\n",
      " [ 61  62  63  64]\n",
      " [ 71  72  73  74]\n",
      " [ 81  82  83  84]\n",
      " [ 91  92  93  94]\n",
      " [101 102 103 104]]\n",
      " \n",
      "[False False False False False  True  True  True  True  True]\n"
     ]
    }
   ],
   "source": [
    "fakedata = np.tile(np.array([1,2,3,4]),(10,1)) + np.tile(10*np.arange(1,11),(4,1)).T\n",
    "fakelabels = np.arange(10)>4\n",
    "print(fakedata), print(\" \")\n",
    "print(fakelabels)"
   ]
  },
  {
   "cell_type": "code",
   "execution_count": 3,
   "metadata": {},
   "outputs": [
    {
     "name": "stdout",
     "output_type": "stream",
     "text": [
      "<class 'torch.utils.data.dataset.TensorDataset'>\n",
      "<torch.utils.data.dataset.TensorDataset object at 0x000002A852373F10>\n",
      "(tensor([[ 11.,  12.,  13.,  14.],\n",
      "        [ 21.,  22.,  23.,  24.],\n",
      "        [ 31.,  32.,  33.,  34.],\n",
      "        [ 41.,  42.,  43.,  44.],\n",
      "        [ 51.,  52.,  53.,  54.],\n",
      "        [ 61.,  62.,  63.,  64.],\n",
      "        [ 71.,  72.,  73.,  74.],\n",
      "        [ 81.,  82.,  83.,  84.],\n",
      "        [ 91.,  92.,  93.,  94.],\n",
      "        [101., 102., 103., 104.]]), tensor([0., 0., 0., 0., 0., 1., 1., 1., 1., 1.]))\n"
     ]
    }
   ],
   "source": [
    "tf_fakedata = TensorDataset(torch.Tensor(fakedata), torch.Tensor(fakelabels))\n",
    "print(type(tf_fakedata))\n",
    "print(tf_fakedata)\n",
    "print(tf_fakedata.tensors)"
   ]
  },
  {
   "cell_type": "code",
   "execution_count": 4,
   "metadata": {},
   "outputs": [
    {
     "name": "stdout",
     "output_type": "stream",
     "text": [
      "<class 'torch.utils.data.dataloader.DataLoader'>\n",
      "<torch.utils.data.dataloader.DataLoader object at 0x000002A85238E6D0>\n"
     ]
    }
   ],
   "source": [
    "tf_fakedatalr = DataLoader(tf_fakedata, shuffle=True)\n",
    "print(type(tf_fakedatalr))\n",
    "print(tf_fakedatalr)"
   ]
  },
  {
   "cell_type": "code",
   "execution_count": 5,
   "metadata": {},
   "outputs": [
    {
     "name": "stdout",
     "output_type": "stream",
     "text": [
      "tensor([[31., 32., 33., 34.]]) tensor([0.])\n",
      "tensor([[101., 102., 103., 104.]]) tensor([1.])\n",
      "tensor([[91., 92., 93., 94.]]) tensor([1.])\n",
      "tensor([[21., 22., 23., 24.]]) tensor([0.])\n",
      "tensor([[71., 72., 73., 74.]]) tensor([1.])\n",
      "tensor([[11., 12., 13., 14.]]) tensor([0.])\n",
      "tensor([[41., 42., 43., 44.]]) tensor([0.])\n",
      "tensor([[51., 52., 53., 54.]]) tensor([0.])\n",
      "tensor([[81., 82., 83., 84.]]) tensor([1.])\n",
      "tensor([[61., 62., 63., 64.]]) tensor([1.])\n"
     ]
    }
   ],
   "source": [
    "for i, j in tf_fakedatalr:\n",
    "    print(i,j)"
   ]
  },
  {
   "attachments": {},
   "cell_type": "markdown",
   "metadata": {},
   "source": [
    "# scikit-learn train test split"
   ]
  },
  {
   "cell_type": "code",
   "execution_count": 6,
   "metadata": {},
   "outputs": [],
   "source": [
    "x_train, x_test, y_train, y_test = train_test_split(fakedata, fakelabels, train_size=0.8)\n",
    "\n",
    "train_data = TensorDataset(torch.Tensor(x_train), torch.Tensor(y_train))\n",
    "test_data = TensorDataset(torch.Tensor(x_test), torch.Tensor(y_test))\n",
    "\n",
    "train_data = DataLoader(train_data, batch_size=4)\n",
    "test_data = DataLoader(test_data)"
   ]
  },
  {
   "cell_type": "code",
   "execution_count": 7,
   "metadata": {},
   "outputs": [
    {
     "name": "stdout",
     "output_type": "stream",
     "text": [
      "tensor([[21., 22., 23., 24.],\n",
      "        [41., 42., 43., 44.],\n",
      "        [61., 62., 63., 64.],\n",
      "        [71., 72., 73., 74.]]) tensor([0., 0., 1., 1.])\n",
      "tensor([[91., 92., 93., 94.],\n",
      "        [11., 12., 13., 14.],\n",
      "        [81., 82., 83., 84.],\n",
      "        [51., 52., 53., 54.]]) tensor([1., 0., 1., 0.])\n"
     ]
    }
   ],
   "source": [
    "# Previously the batch size is one, now it is four. It means each batch contains four data points\n",
    "for i,j in train_data:\n",
    "    print(i,j)"
   ]
  },
  {
   "cell_type": "code",
   "execution_count": 8,
   "metadata": {},
   "outputs": [
    {
     "name": "stdout",
     "output_type": "stream",
     "text": [
      "tensor([[31., 32., 33., 34.]]) tensor([0.])\n",
      "tensor([[101., 102., 103., 104.]]) tensor([1.])\n"
     ]
    }
   ],
   "source": [
    "for i,j in test_data:\n",
    "    print(i,j)"
   ]
  },
  {
   "cell_type": "markdown",
   "metadata": {},
   "source": [
    "# Real data"
   ]
  },
  {
   "cell_type": "code",
   "execution_count": 2,
   "metadata": {},
   "outputs": [],
   "source": [
    "import seaborn as sns\n",
    "data = sns.load_dataset('iris')\n",
    "df = torch.tensor(data.drop(columns=\"species\").values).float()\n",
    "labels = torch.zeros(len(df), dtype=torch.long)\n",
    "labels[data.species == 'versicolor'] = 1 \n",
    "labels[data.species == 'virginica'] = 2"
   ]
  },
  {
   "cell_type": "code",
   "execution_count": 3,
   "metadata": {},
   "outputs": [
    {
     "data": {
      "text/html": [
       "<div>\n",
       "<style scoped>\n",
       "    .dataframe tbody tr th:only-of-type {\n",
       "        vertical-align: middle;\n",
       "    }\n",
       "\n",
       "    .dataframe tbody tr th {\n",
       "        vertical-align: top;\n",
       "    }\n",
       "\n",
       "    .dataframe thead th {\n",
       "        text-align: right;\n",
       "    }\n",
       "</style>\n",
       "<table border=\"1\" class=\"dataframe\">\n",
       "  <thead>\n",
       "    <tr style=\"text-align: right;\">\n",
       "      <th></th>\n",
       "      <th>sepal_length</th>\n",
       "      <th>sepal_width</th>\n",
       "      <th>petal_length</th>\n",
       "      <th>petal_width</th>\n",
       "      <th>species</th>\n",
       "    </tr>\n",
       "  </thead>\n",
       "  <tbody>\n",
       "    <tr>\n",
       "      <th>0</th>\n",
       "      <td>5.1</td>\n",
       "      <td>3.5</td>\n",
       "      <td>1.4</td>\n",
       "      <td>0.2</td>\n",
       "      <td>setosa</td>\n",
       "    </tr>\n",
       "    <tr>\n",
       "      <th>1</th>\n",
       "      <td>4.9</td>\n",
       "      <td>3.0</td>\n",
       "      <td>1.4</td>\n",
       "      <td>0.2</td>\n",
       "      <td>setosa</td>\n",
       "    </tr>\n",
       "    <tr>\n",
       "      <th>2</th>\n",
       "      <td>4.7</td>\n",
       "      <td>3.2</td>\n",
       "      <td>1.3</td>\n",
       "      <td>0.2</td>\n",
       "      <td>setosa</td>\n",
       "    </tr>\n",
       "    <tr>\n",
       "      <th>3</th>\n",
       "      <td>4.6</td>\n",
       "      <td>3.1</td>\n",
       "      <td>1.5</td>\n",
       "      <td>0.2</td>\n",
       "      <td>setosa</td>\n",
       "    </tr>\n",
       "    <tr>\n",
       "      <th>4</th>\n",
       "      <td>5.0</td>\n",
       "      <td>3.6</td>\n",
       "      <td>1.4</td>\n",
       "      <td>0.2</td>\n",
       "      <td>setosa</td>\n",
       "    </tr>\n",
       "  </tbody>\n",
       "</table>\n",
       "</div>"
      ],
      "text/plain": [
       "   sepal_length  sepal_width  petal_length  petal_width species\n",
       "0           5.1          3.5           1.4          0.2  setosa\n",
       "1           4.9          3.0           1.4          0.2  setosa\n",
       "2           4.7          3.2           1.3          0.2  setosa\n",
       "3           4.6          3.1           1.5          0.2  setosa\n",
       "4           5.0          3.6           1.4          0.2  setosa"
      ]
     },
     "execution_count": 3,
     "metadata": {},
     "output_type": "execute_result"
    }
   ],
   "source": [
    "data.head()"
   ]
  },
  {
   "cell_type": "code",
   "execution_count": 4,
   "metadata": {},
   "outputs": [
    {
     "name": "stdout",
     "output_type": "stream",
     "text": [
      "Test data size: 30\n"
     ]
    }
   ],
   "source": [
    "x_train, x_test, y_train, y_test = train_test_split(df, labels, train_size=0.8)\n",
    "\n",
    "train_data = TensorDataset(x_train, y_train)\n",
    "test_data = TensorDataset(x_test, y_test)\n",
    "print(f'Test data size: {test_data.tensors[0].shape[0]}')\n",
    "\n",
    "train_loader = DataLoader(train_data, batch_size=12)\n",
    "test_loader = DataLoader(test_data, batch_size=test_data.tensors[0].shape[0])"
   ]
  },
  {
   "cell_type": "code",
   "execution_count": 5,
   "metadata": {},
   "outputs": [
    {
     "name": "stdout",
     "output_type": "stream",
     "text": [
      "torch.Size([12, 4]) torch.Size([12])\n",
      "torch.Size([12, 4]) torch.Size([12])\n",
      "torch.Size([12, 4]) torch.Size([12])\n",
      "torch.Size([12, 4]) torch.Size([12])\n",
      "torch.Size([12, 4]) torch.Size([12])\n",
      "torch.Size([12, 4]) torch.Size([12])\n",
      "torch.Size([12, 4]) torch.Size([12])\n",
      "torch.Size([12, 4]) torch.Size([12])\n",
      "torch.Size([12, 4]) torch.Size([12])\n",
      "torch.Size([12, 4]) torch.Size([12])\n",
      "sample batch:\n",
      "tensor([[7.1000, 3.0000, 5.9000, 2.1000],\n",
      "        [6.7000, 3.3000, 5.7000, 2.5000],\n",
      "        [4.3000, 3.0000, 1.1000, 0.1000],\n",
      "        [7.3000, 2.9000, 6.3000, 1.8000],\n",
      "        [4.9000, 3.0000, 1.4000, 0.2000],\n",
      "        [7.2000, 3.2000, 6.0000, 1.8000],\n",
      "        [5.0000, 2.0000, 3.5000, 1.0000],\n",
      "        [5.8000, 2.7000, 5.1000, 1.9000],\n",
      "        [6.9000, 3.1000, 4.9000, 1.5000],\n",
      "        [5.8000, 2.7000, 3.9000, 1.2000],\n",
      "        [6.9000, 3.1000, 5.1000, 2.3000],\n",
      "        [5.6000, 2.9000, 3.6000, 1.3000]])\n",
      "tensor([2, 2, 0, 2, 0, 2, 1, 2, 1, 1, 2, 1])\n"
     ]
    }
   ],
   "source": [
    "for train_x, train_y in train_loader:\n",
    "    print(train_x.shape, train_y.shape)\n",
    "\n",
    "print('sample batch:')\n",
    "print(train_x)\n",
    "print(train_y)"
   ]
  },
  {
   "cell_type": "code",
   "execution_count": 6,
   "metadata": {},
   "outputs": [
    {
     "name": "stdout",
     "output_type": "stream",
     "text": [
      "torch.Size([30, 4]) torch.Size([30])\n",
      "sample batch:\n",
      "tensor([[6.7000, 2.5000, 5.8000, 1.8000],\n",
      "        [4.9000, 2.5000, 4.5000, 1.7000],\n",
      "        [5.7000, 3.8000, 1.7000, 0.3000],\n",
      "        [4.8000, 3.4000, 1.9000, 0.2000],\n",
      "        [5.1000, 3.3000, 1.7000, 0.5000],\n",
      "        [5.0000, 3.6000, 1.4000, 0.2000],\n",
      "        [5.0000, 3.4000, 1.6000, 0.4000],\n",
      "        [5.1000, 3.8000, 1.6000, 0.2000],\n",
      "        [4.9000, 3.6000, 1.4000, 0.1000],\n",
      "        [6.8000, 3.2000, 5.9000, 2.3000],\n",
      "        [6.7000, 3.0000, 5.0000, 1.7000],\n",
      "        [4.8000, 3.4000, 1.6000, 0.2000],\n",
      "        [4.9000, 2.4000, 3.3000, 1.0000],\n",
      "        [6.0000, 2.2000, 5.0000, 1.5000],\n",
      "        [5.5000, 2.5000, 4.0000, 1.3000],\n",
      "        [6.7000, 3.1000, 4.4000, 1.4000],\n",
      "        [5.0000, 3.3000, 1.4000, 0.2000],\n",
      "        [5.5000, 2.4000, 3.8000, 1.1000],\n",
      "        [5.2000, 3.4000, 1.4000, 0.2000],\n",
      "        [6.2000, 2.8000, 4.8000, 1.8000],\n",
      "        [5.0000, 3.0000, 1.6000, 0.2000],\n",
      "        [5.8000, 2.7000, 4.1000, 1.0000],\n",
      "        [4.6000, 3.1000, 1.5000, 0.2000],\n",
      "        [5.0000, 2.3000, 3.3000, 1.0000],\n",
      "        [6.0000, 2.2000, 4.0000, 1.0000],\n",
      "        [6.3000, 3.4000, 5.6000, 2.4000],\n",
      "        [7.7000, 3.0000, 6.1000, 2.3000],\n",
      "        [7.0000, 3.2000, 4.7000, 1.4000],\n",
      "        [5.0000, 3.5000, 1.3000, 0.3000],\n",
      "        [4.4000, 3.2000, 1.3000, 0.2000]])\n",
      "tensor([2, 2, 0, 0, 0, 0, 0, 0, 0, 2, 1, 0, 1, 2, 1, 1, 0, 1, 0, 2, 0, 1, 0, 1,\n",
      "        1, 2, 2, 1, 0, 0])\n"
     ]
    }
   ],
   "source": [
    "for test_x, test_y in test_loader:\n",
    "    print(test_x.shape, test_y.shape)\n",
    "\n",
    "print('sample batch:')\n",
    "print(test_x)\n",
    "print(test_y)"
   ]
  },
  {
   "attachments": {},
   "cell_type": "markdown",
   "metadata": {},
   "source": [
    "# Model"
   ]
  },
  {
   "cell_type": "code",
   "execution_count": 24,
   "metadata": {},
   "outputs": [],
   "source": [
    "def model():\n",
    "    ann = nn.Sequential(\n",
    "        nn.Linear(4,4),\n",
    "        nn.ReLU(),\n",
    "        nn.Linear(4,4),\n",
    "        nn.ReLU(),\n",
    "        nn.Linear(4,3),\n",
    "    )\n",
    "    loss_function = nn.CrossEntropyLoss()\n",
    "    optimizer = torch.optim.SGD(ann.parameters(), lr=0.1)\n",
    "    return ann, loss_function, optimizer"
   ]
  },
  {
   "cell_type": "code",
   "execution_count": 25,
   "metadata": {},
   "outputs": [],
   "source": [
    "net, lossfn, opt = model()"
   ]
  },
  {
   "cell_type": "code",
   "execution_count": 26,
   "metadata": {},
   "outputs": [
    {
     "name": "stdout",
     "output_type": "stream",
     "text": [
      "----------------------------------------------------------------\n",
      "        Layer (type)               Output Shape         Param #\n",
      "================================================================\n",
      "            Linear-1               [-1, 150, 4]              20\n",
      "              ReLU-2               [-1, 150, 4]               0\n",
      "            Linear-3               [-1, 150, 4]              20\n",
      "              ReLU-4               [-1, 150, 4]               0\n",
      "            Linear-5               [-1, 150, 3]              15\n",
      "================================================================\n",
      "Total params: 55\n",
      "Trainable params: 55\n",
      "Non-trainable params: 0\n",
      "----------------------------------------------------------------\n",
      "Input size (MB): 0.00\n",
      "Forward/backward pass size (MB): 0.02\n",
      "Params size (MB): 0.00\n",
      "Estimated Total Size (MB): 0.02\n",
      "----------------------------------------------------------------\n"
     ]
    }
   ],
   "source": [
    "summary(net, (150,4))"
   ]
  },
  {
   "cell_type": "code",
   "execution_count": 27,
   "metadata": {},
   "outputs": [],
   "source": [
    "epochs = 500\n",
    "def trainTheModel():\n",
    "  # initialize accuracies as empties (not storing losses here)\n",
    "  trainAcc = []\n",
    "  testAcc  = []\n",
    "\n",
    "  # loop over epochs\n",
    "  for epochi in range(epochs):\n",
    "    # loop over training data batches\n",
    "    batchAcc = []\n",
    "    for X,y in train_loader:\n",
    "      # forward pass and loss\n",
    "      yHat = net(X)\n",
    "      loss = lossfn(yHat,y)\n",
    "      # backprop\n",
    "      opt.zero_grad()\n",
    "      loss.backward()\n",
    "      opt.step()\n",
    "      # compute training accuracy just for this batch\n",
    "      batchAcc.append( 100*torch.mean((torch.argmax(yHat,axis=1) == y).float()).item() )\n",
    "    # end of batch loop...\n",
    "    # now that we've trained through the batches, get their average training accuracy\n",
    "    trainAcc.append( np.mean(batchAcc) )\n",
    "    # test accuracy\n",
    "    X,y = next(iter(test_loader)) # extract X,y from test dataloader\n",
    "    predlabels = torch.argmax( net(X),axis=1 )\n",
    "    testAcc.append( 100*torch.mean((predlabels == y).float()).item() )\n",
    "  \n",
    "  # function output\n",
    "  return trainAcc,testAcc"
   ]
  },
  {
   "cell_type": "code",
   "execution_count": 28,
   "metadata": {},
   "outputs": [
    {
     "name": "stdout",
     "output_type": "stream",
     "text": [
      "[tensor([[6.7000, 2.5000, 5.8000, 1.8000],\n",
      "        [4.9000, 2.5000, 4.5000, 1.7000],\n",
      "        [5.7000, 3.8000, 1.7000, 0.3000],\n",
      "        [4.8000, 3.4000, 1.9000, 0.2000],\n",
      "        [5.1000, 3.3000, 1.7000, 0.5000],\n",
      "        [5.0000, 3.6000, 1.4000, 0.2000],\n",
      "        [5.0000, 3.4000, 1.6000, 0.4000],\n",
      "        [5.1000, 3.8000, 1.6000, 0.2000],\n",
      "        [4.9000, 3.6000, 1.4000, 0.1000],\n",
      "        [6.8000, 3.2000, 5.9000, 2.3000],\n",
      "        [6.7000, 3.0000, 5.0000, 1.7000],\n",
      "        [4.8000, 3.4000, 1.6000, 0.2000],\n",
      "        [4.9000, 2.4000, 3.3000, 1.0000],\n",
      "        [6.0000, 2.2000, 5.0000, 1.5000],\n",
      "        [5.5000, 2.5000, 4.0000, 1.3000],\n",
      "        [6.7000, 3.1000, 4.4000, 1.4000],\n",
      "        [5.0000, 3.3000, 1.4000, 0.2000],\n",
      "        [5.5000, 2.4000, 3.8000, 1.1000],\n",
      "        [5.2000, 3.4000, 1.4000, 0.2000],\n",
      "        [6.2000, 2.8000, 4.8000, 1.8000],\n",
      "        [5.0000, 3.0000, 1.6000, 0.2000],\n",
      "        [5.8000, 2.7000, 4.1000, 1.0000],\n",
      "        [4.6000, 3.1000, 1.5000, 0.2000],\n",
      "        [5.0000, 2.3000, 3.3000, 1.0000],\n",
      "        [6.0000, 2.2000, 4.0000, 1.0000],\n",
      "        [6.3000, 3.4000, 5.6000, 2.4000],\n",
      "        [7.7000, 3.0000, 6.1000, 2.3000],\n",
      "        [7.0000, 3.2000, 4.7000, 1.4000],\n",
      "        [5.0000, 3.5000, 1.3000, 0.3000],\n",
      "        [4.4000, 3.2000, 1.3000, 0.2000]]), tensor([2, 2, 0, 0, 0, 0, 0, 0, 0, 2, 1, 0, 1, 2, 1, 1, 0, 1, 0, 2, 0, 1, 0, 1,\n",
      "        1, 2, 2, 1, 0, 0])]\n"
     ]
    }
   ],
   "source": [
    "print(next(iter(test_loader)))"
   ]
  },
  {
   "cell_type": "code",
   "execution_count": 29,
   "metadata": {},
   "outputs": [],
   "source": [
    "trainacc, testacc = trainTheModel()"
   ]
  },
  {
   "cell_type": "code",
   "execution_count": 30,
   "metadata": {},
   "outputs": [
    {
     "data": {
      "image/png": "[encoded data removed]",
      "text/plain": [
       "<Figure size 1000x500 with 1 Axes>"
      ]
     },
     "metadata": {},
     "output_type": "display_data"
    }
   ],
   "source": [
    "# plot the results\n",
    "fig = plt.figure(figsize=(10,5))\n",
    "\n",
    "plt.plot(trainacc,'ro-')\n",
    "plt.plot(testacc,'bs-')\n",
    "plt.xlabel('Epochs')\n",
    "plt.ylabel('Accuracy (%)')\n",
    "plt.legend(['Train','Test'])\n",
    "plt.show()"
   ]
  },
  {
   "cell_type": "code",
   "execution_count": null,
   "metadata": {},
   "outputs": [],
   "source": []
  }
 ],
 "metadata": {
  "kernelspec": {
   "display_name": ".udemy",
   "language": "python",
   "name": "python3"
  },
  "language_info": {
   "codemirror_mode": {
    "name": "ipython",
    "version": 3
   },
   "file_extension": ".py",
   "mimetype": "text/x-python",
   "name": "python",
   "nbconvert_exporter": "python",
   "pygments_lexer": "ipython3",
   "version": "3.8.10"
  },
  "orig_nbformat": 4,
  "vscode": {
   "interpreter": {
    "hash": "40fd4cd875367a0966c8bbb42996b455e9ebb7a63fa5a805ac68fe553fcf7597"
   }
  }
 },
 "nbformat": 4,
 "nbformat_minor": 2
}
