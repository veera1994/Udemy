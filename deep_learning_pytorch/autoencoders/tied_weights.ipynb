{
 "cells": [
  {
   "cell_type": "code",
   "execution_count": 1,
   "metadata": {},
   "outputs": [],
   "source": [
    "import numpy as np\n",
    "import torch\n",
    "import torch.nn as nn\n",
    "import torch.nn.functional as F\n",
    "import matplotlib.pyplot as plt\n",
    "import pandas as pd"
   ]
  },
  {
   "cell_type": "markdown",
   "metadata": {},
   "source": [
    "# Parameter class"
   ]
  },
  {
   "cell_type": "code",
   "execution_count": 2,
   "metadata": {},
   "outputs": [],
   "source": [
    "x = torch.rand(10,50)\n",
    "w1 = nn.Parameter(torch.randn(128,50)) # creates trainable parameter"
   ]
  },
  {
   "cell_type": "code",
   "execution_count": 3,
   "metadata": {},
   "outputs": [
    {
     "data": {
      "text/plain": [
       "Parameter containing:\n",
       "tensor([[-0.4550, -0.3056, -1.4448,  ...,  0.0217, -1.1924,  0.7784],\n",
       "        [-0.2262,  1.3214, -1.0628,  ..., -0.0284, -0.9809, -1.0959],\n",
       "        [ 1.1264, -0.2783, -0.3352,  ..., -0.4920, -0.6836, -0.0463],\n",
       "        ...,\n",
       "        [-0.1976, -1.7936, -0.8177,  ..., -0.6384, -1.0469,  0.6647],\n",
       "        [-0.0146,  0.1801,  0.5008,  ...,  0.1404, -2.9482,  0.3240],\n",
       "        [-0.3672,  0.5684,  0.0064,  ..., -0.2138,  1.4483, -1.1369]],\n",
       "       requires_grad=True)"
      ]
     },
     "execution_count": 3,
     "metadata": {},
     "output_type": "execute_result"
    }
   ],
   "source": [
    "w1"
   ]
  },
  {
   "cell_type": "code",
   "execution_count": 4,
   "metadata": {},
   "outputs": [
    {
     "data": {
      "text/plain": [
       "torch.Size([128, 50])"
      ]
     },
     "execution_count": 4,
     "metadata": {},
     "output_type": "execute_result"
    }
   ],
   "source": [
    "w1.shape"
   ]
  },
  {
   "cell_type": "code",
   "execution_count": 5,
   "metadata": {},
   "outputs": [
    {
     "data": {
      "text/plain": [
       "torch.Size([50, 128])"
      ]
     },
     "execution_count": 5,
     "metadata": {},
     "output_type": "execute_result"
    }
   ],
   "source": [
    "w1.t().shape"
   ]
  },
  {
   "cell_type": "code",
   "execution_count": 6,
   "metadata": {},
   "outputs": [
    {
     "data": {
      "text/plain": [
       "torch.Size([10, 128])"
      ]
     },
     "execution_count": 6,
     "metadata": {},
     "output_type": "execute_result"
    }
   ],
   "source": [
    "y = x@w1.t()\n",
    "y.shape"
   ]
  },
  {
   "cell_type": "markdown",
   "metadata": {},
   "source": [
    "# Linear class"
   ]
  },
  {
   "cell_type": "code",
   "execution_count": 7,
   "metadata": {},
   "outputs": [
    {
     "data": {
      "text/plain": [
       "Linear(in_features=128, out_features=50, bias=True)"
      ]
     },
     "execution_count": 7,
     "metadata": {},
     "output_type": "execute_result"
    }
   ],
   "source": [
    "w2 = nn.Linear(128, 50)\n",
    "w2"
   ]
  },
  {
   "cell_type": "markdown",
   "metadata": {},
   "source": [
    "You can notice the difference between the linear and parameter class here"
   ]
  },
  {
   "cell_type": "code",
   "execution_count": 8,
   "metadata": {},
   "outputs": [
    {
     "name": "stdout",
     "output_type": "stream",
     "text": [
      "torch.Size([128, 50])\n",
      "torch.Size([50, 128])\n"
     ]
    }
   ],
   "source": [
    "print(w1.shape)\n",
    "print(w2.weight.shape)"
   ]
  },
  {
   "cell_type": "markdown",
   "metadata": {},
   "source": [
    "Size of w -> [output, input], but in nn.Linear [input, output]"
   ]
  },
  {
   "cell_type": "markdown",
   "metadata": {},
   "source": [
    "# Tied weights"
   ]
  },
  {
   "cell_type": "markdown",
   "metadata": {},
   "source": [
    "Mirroring the wieght matrices of encoder and decoder part"
   ]
  },
  {
   "cell_type": "code",
   "execution_count": 9,
   "metadata": {},
   "outputs": [],
   "source": [
    "data = pd.read_csv(\"/Users/veera/Data/Repos/Udemy/.dataset/mnist_train.csv\", delimiter=',', header=None)\n",
    "labels = data[0]\n",
    "data = data.drop(columns=[0])\n",
    "data = np.array(data)\n",
    "labels = np.array(labels)\n",
    "data = data[:10000]"
   ]
  },
  {
   "cell_type": "code",
   "execution_count": 10,
   "metadata": {},
   "outputs": [],
   "source": [
    "# The min and max values of the data are 0 and 255\n",
    "# It is normalized to 0 and 1\n",
    "data_norm = data/np.max(data)\n",
    "data_tensor = torch.tensor(data_norm).float()\n",
    "label_tensor = torch.tensor(labels).long()"
   ]
  },
  {
   "cell_type": "code",
   "execution_count": 11,
   "metadata": {},
   "outputs": [],
   "source": [
    "def model():\n",
    "    class aenet(nn.Module):\n",
    "        def __init__(self):\n",
    "            super().__init__()\n",
    "            self.input = nn.Linear(784, 128)\n",
    "            self.enc = nn.Parameter(torch.randn(50, 128))\n",
    "            # self.enc = nn.Linear(128, 50)\n",
    "            # self.latent = nn.Linear(50, 128)\n",
    "            self.dec = nn.Linear(128, 784)\n",
    "        def forward(self, x):\n",
    "            x = F.relu(self.input(x))\n",
    "            # a parameter is not a linear type, so we need to implement the matrix multiplication\n",
    "            x = x.t()\n",
    "            x = F.relu(self.enc@x)\n",
    "            # same for the decoding layer but reversed\n",
    "            x = F.relu(self.enc.t()@x)\n",
    "            x = x.t()\n",
    "            y = torch.sigmoid(self.dec(x))\n",
    "            # we want the output in the same range (normalized as 0 to 1 in the previous step) as the input numerical data\n",
    "            return y\n",
    "        \n",
    "    net = aenet()\n",
    "    loss_function = nn.MSELoss()\n",
    "    optimizer = torch.optim.Adam(net.parameters(), lr=0.001)\n",
    "\n",
    "    return net, loss_function, optimizer"
   ]
  },
  {
   "cell_type": "code",
   "execution_count": 12,
   "metadata": {},
   "outputs": [],
   "source": [
    "net, loss_function, optimizer = model()"
   ]
  },
  {
   "cell_type": "code",
   "execution_count": 13,
   "metadata": {},
   "outputs": [],
   "source": [
    "sample_x = data_tensor[:5]\n",
    "sample_yhat = net(sample_x)"
   ]
  },
  {
   "cell_type": "code",
   "execution_count": 14,
   "metadata": {},
   "outputs": [
    {
     "data": {
      "text/plain": [
       "torch.Size([5, 784])"
      ]
     },
     "execution_count": 14,
     "metadata": {},
     "output_type": "execute_result"
    }
   ],
   "source": [
    "sample_yhat.shape"
   ]
  },
  {
   "cell_type": "code",
   "execution_count": 15,
   "metadata": {},
   "outputs": [],
   "source": [
    "def train():\n",
    "    epochs = 20000\n",
    "    net, loss_function, optimizer = model()\n",
    "    losses = []\n",
    "    for i in range(epochs):\n",
    "        # select a random set of 32 image instead of using minibatch format\n",
    "        randomidx = np.random.choice(data_tensor.shape[0], size=32)\n",
    "        x = data_tensor[randomidx,:]\n",
    "        yhat = net(x)[0]\n",
    "        loss = loss_function(yhat, x)\n",
    "        optimizer.zero_grad()\n",
    "        loss.backward()\n",
    "        optimizer.step()\n",
    "        losses.append(loss.item())\n",
    "    return losses, net"
   ]
  },
  {
   "cell_type": "code",
   "execution_count": 16,
   "metadata": {},
   "outputs": [
    {
     "name": "stderr",
     "output_type": "stream",
     "text": [
      "/Users/veera/Data/Repos/Udemy/.udemy/lib/python3.11/site-packages/torch/nn/modules/loss.py:535: UserWarning: Using a target size (torch.Size([32, 784])) that is different to the input size (torch.Size([784])). This will likely lead to incorrect results due to broadcasting. Please ensure they have the same size.\n",
      "  return F.mse_loss(input, target, reduction=self.reduction)\n"
     ]
    },
    {
     "data": {
      "image/png": "[encoded data removed]",
      "text/plain": [
       "<Figure size 640x480 with 1 Axes>"
      ]
     },
     "metadata": {},
     "output_type": "display_data"
    }
   ],
   "source": [
    "loss, net = train()\n",
    "plt.plot(loss, '.-')\n",
    "plt.xlabel(\"epochs\")\n",
    "plt.ylabel(\"loss\")\n",
    "plt.show()"
   ]
  },
  {
   "cell_type": "markdown",
   "metadata": {},
   "source": [
    "# Pros and cons of tied weights"
   ]
  },
  {
   "cell_type": "markdown",
   "metadata": {},
   "source": [
    "- Less parameters to train. So, low risk of overfitting. Generally comparable to non-tied weights\n",
    "- Performance is poor compared to non-tied weight\n",
    "- Code is error prone\n",
    "- In practice it is not that much used"
   ]
  },
  {
   "cell_type": "markdown",
   "metadata": {},
   "source": []
  }
 ],
 "metadata": {
  "kernelspec": {
   "display_name": ".udemy",
   "language": "python",
   "name": "python3"
  },
  "language_info": {
   "codemirror_mode": {
    "name": "ipython",
    "version": 3
   },
   "file_extension": ".py",
   "mimetype": "text/x-python",
   "name": "python",
   "nbconvert_exporter": "python",
   "pygments_lexer": "ipython3",
   "version": "3.11.7"
  }
 },
 "nbformat": 4,
 "nbformat_minor": 2
}
